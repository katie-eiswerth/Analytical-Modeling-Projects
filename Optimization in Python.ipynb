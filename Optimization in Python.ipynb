{
 "cells": [
  {
   "cell_type": "code",
   "execution_count": 1,
   "id": "603a201e-3e5e-402c-b74a-a59e6d231860",
   "metadata": {
    "tags": []
   },
   "outputs": [],
   "source": [
    "## import necessary packages \n",
    "## we are using pyomo for optimization"
   ]
  },
  {
   "cell_type": "code",
   "execution_count": 1,
   "id": "5a7d0e1a-ea7a-44ca-a00c-9d943b642cb3",
   "metadata": {
    "tags": []
   },
   "outputs": [],
   "source": [
    "%matplotlib inline\n",
    "import matplotlib.pyplot as plt\n",
    "import numpy as np\n",
    "import pandas as pd\n",
    "from io import StringIO\n",
    "from scipy.stats import norm\n",
    "\n",
    "from pylab import *\n",
    "from pyomo.environ import * "
   ]
  },
  {
   "cell_type": "markdown",
   "id": "3f7eff90-8870-40f8-9791-b5d7c1947f13",
   "metadata": {},
   "source": [
    "### Product Mix"
   ]
  },
  {
   "cell_type": "markdown",
   "id": "ed9a9468-fd01-44b5-bd35-5abfb19cbd8d",
   "metadata": {},
   "source": [
    "#### Manually"
   ]
  },
  {
   "cell_type": "code",
   "execution_count": 5,
   "id": "4fe2bad5-47fa-4ad7-93b2-1fcb58f5f766",
   "metadata": {
    "tags": []
   },
   "outputs": [
    {
     "name": "stdout",
     "output_type": "stream",
     "text": [
      "Model Product Mix - Solved Manually\n",
      "\n",
      "  Variables:\n",
      "    r : Size=1, Index=None\n",
      "        Key  : Lower : Value  : Upper : Fixed : Stale : Domain\n",
      "        None :     0 : 1000.0 :  None : False : False : NonNegativeIntegers\n",
      "    b : Size=1, Index=None\n",
      "        Key  : Lower : Value  : Upper : Fixed : Stale : Domain\n",
      "        None :     0 : 2000.0 :  None : False : False : NonNegativeIntegers\n",
      "\n",
      "  Objectives:\n",
      "    profit : Size=1, Index=None, Active=True\n",
      "        Key  : Active : Value\n",
      "        None :   True : 7450.0\n",
      "\n",
      "  Constraints:\n",
      "    f1 : Size=1\n",
      "        Key  : Lower : Body   : Upper\n",
      "        None :  None : 4000.0 : 4000.0\n",
      "    f2 : Size=1\n",
      "        Key  : Lower : Body   : Upper\n",
      "        None :  None : 5000.0 : 5000.0\n"
     ]
    }
   ],
   "source": [
    "model = ConcreteModel(\"Product Mix - Solved Manually\") ##the open parenthesis allow us to later name the model by putting the name in single quotes in the parenthesis\n",
    "\n",
    "#step 1: identify the decision variables \n",
    "#DVS\n",
    "#model.something will make up all\n",
    "#defining the DVs as variables \n",
    "#other options for domain are binary, integer (which means a whole number but also negative or zero), nonnegative reals\n",
    "model.r = Var(domain=NonNegativeIntegers) #model.r is the name for the DV roses \n",
    "model.b = Var(domain=NonNegativeIntegers)\n",
    "\n",
    "\n",
    "#step 2: define the objective function\n",
    "#Obj. Fct.\n",
    "#Objective() tells python this is the objective function\n",
    "#expr stands for expression\n",
    "#sense= allows up to tell python what to do. the only two we use is maximize or minimize\n",
    "model.profit = Objective(expr = 2.25*model.r + 2.6*model.b, sense=maximize)\n",
    "\n",
    "\n",
    "#step 3: identify the constraints \n",
    "#Contraint() tells python this is the objective function\n",
    "#equality options: <=, >=, ==\n",
    "model.f1 = Constraint(expr = 2*model.r + model.b <=4000)\n",
    "model.f2 = Constraint(expr = model.r + 2*model.b <=5000)\n",
    "\n",
    "SolverFactory('glpk').solve(model)\n",
    "\n",
    "model.display()"
   ]
  },
  {
   "cell_type": "code",
   "execution_count": 4,
   "id": "6bd8884f-3c9d-427a-ba62-1054dc1e6d4b",
   "metadata": {
    "tags": []
   },
   "outputs": [
    {
     "name": "stdout",
     "output_type": "stream",
     "text": [
      "\n",
      "Profit:    7450.0\n",
      "R to plant: 1000.0\n",
      "B to plant: 2000.0\n",
      "F1: 4000.0\n",
      "F2: 5000.0\n",
      "\n"
     ]
    }
   ],
   "source": [
    "print(f'''\n",
    "Profit:    {model.profit()}\n",
    "R to plant: {model.r()}\n",
    "B to plant: {model.b()}\n",
    "F1: {model.f1()}\n",
    "F2: {model.f2()}\n",
    "''')"
   ]
  },
  {
   "cell_type": "markdown",
   "id": "8a700cc5-7fc1-4e0d-9969-9b55e48e94fe",
   "metadata": {},
   "source": [
    "#### Pyomo Method"
   ]
  },
  {
   "cell_type": "code",
   "execution_count": 8,
   "id": "501a0db6-a9cb-4645-8c2e-f26956e408b9",
   "metadata": {},
   "outputs": [],
   "source": [
    "profit = pd.read_excel(\"Portfolio3Data.xlsx\",index_col=0)\n",
    "data = pd.read_excel(\"Portfolio3Data.xlsx\", sheet_name=\"PMData\", index_col=0)"
   ]
  },
  {
   "cell_type": "code",
   "execution_count": 70,
   "id": "ab2147fd-e5dc-423b-a801-212d6631dc0d",
   "metadata": {},
   "outputs": [
    {
     "data": {
      "text/html": [
       "<div>\n",
       "<style scoped>\n",
       "    .dataframe tbody tr th:only-of-type {\n",
       "        vertical-align: middle;\n",
       "    }\n",
       "\n",
       "    .dataframe tbody tr th {\n",
       "        vertical-align: top;\n",
       "    }\n",
       "\n",
       "    .dataframe thead th {\n",
       "        text-align: right;\n",
       "    }\n",
       "</style>\n",
       "<table border=\"1\" class=\"dataframe\">\n",
       "  <thead>\n",
       "    <tr style=\"text-align: right;\">\n",
       "      <th></th>\n",
       "      <th>Roses</th>\n",
       "      <th>Begonias</th>\n",
       "    </tr>\n",
       "  </thead>\n",
       "  <tbody>\n",
       "    <tr>\n",
       "      <th>Profit</th>\n",
       "      <td>2.25</td>\n",
       "      <td>2.6</td>\n",
       "    </tr>\n",
       "  </tbody>\n",
       "</table>\n",
       "</div>"
      ],
      "text/plain": [
       "        Roses  Begonias\n",
       "Profit   2.25       2.6"
      ]
     },
     "execution_count": 70,
     "metadata": {},
     "output_type": "execute_result"
    }
   ],
   "source": [
    "profit"
   ]
  },
  {
   "cell_type": "code",
   "execution_count": 71,
   "id": "dde02305-519b-449f-bcde-c2176d2c83eb",
   "metadata": {},
   "outputs": [
    {
     "data": {
      "text/html": [
       "<div>\n",
       "<style scoped>\n",
       "    .dataframe tbody tr th:only-of-type {\n",
       "        vertical-align: middle;\n",
       "    }\n",
       "\n",
       "    .dataframe tbody tr th {\n",
       "        vertical-align: top;\n",
       "    }\n",
       "\n",
       "    .dataframe thead th {\n",
       "        text-align: right;\n",
       "    }\n",
       "</style>\n",
       "<table border=\"1\" class=\"dataframe\">\n",
       "  <thead>\n",
       "    <tr style=\"text-align: right;\">\n",
       "      <th></th>\n",
       "      <th>Roses</th>\n",
       "      <th>Begonias</th>\n",
       "      <th>Available</th>\n",
       "    </tr>\n",
       "  </thead>\n",
       "  <tbody>\n",
       "    <tr>\n",
       "      <th>F1</th>\n",
       "      <td>2</td>\n",
       "      <td>1</td>\n",
       "      <td>4000</td>\n",
       "    </tr>\n",
       "    <tr>\n",
       "      <th>F2</th>\n",
       "      <td>1</td>\n",
       "      <td>2</td>\n",
       "      <td>5000</td>\n",
       "    </tr>\n",
       "  </tbody>\n",
       "</table>\n",
       "</div>"
      ],
      "text/plain": [
       "    Roses  Begonias  Available\n",
       "F1      2         1       4000\n",
       "F2      1         2       5000"
      ]
     },
     "execution_count": 71,
     "metadata": {},
     "output_type": "execute_result"
    }
   ],
   "source": [
    "data"
   ]
  },
  {
   "cell_type": "code",
   "execution_count": null,
   "id": "0702be76-783e-4f09-b1a7-f6d96f099707",
   "metadata": {},
   "outputs": [],
   "source": [
    "## we now have the data, but we need to put in the objective function, DVs, and constraints"
   ]
  },
  {
   "cell_type": "code",
   "execution_count": null,
   "id": "8643b59a-eec1-497a-975b-ceb7f7723b38",
   "metadata": {},
   "outputs": [],
   "source": [
    "##index set: list of individual headers. is a list that we can iterate over\n",
    "##in our data we have two index sets: \n",
    "# 1. roses and begonias. if we were to extract the index set for Roses and Begonias,\n",
    "#we get it from table #1 so we dont have to chop off \"available\"\n",
    "#always extract DV index set from obj func table\n",
    "# 2. F1 and F2. if we were to extract the index set for F1 and F2, our only option is to get it from table #2"
   ]
  },
  {
   "cell_type": "code",
   "execution_count": 9,
   "id": "eafefb25-5496-4cd5-9e63-be2575da1c0b",
   "metadata": {
    "tags": []
   },
   "outputs": [
    {
     "name": "stdout",
     "output_type": "stream",
     "text": [
      "Model Product Mix - Solved with Pyomo Method\n",
      "\n",
      "  Variables:\n",
      "    x : Size=2, Index={Begonias, Roses}\n",
      "        Key      : Lower : Value  : Upper : Fixed : Stale : Domain\n",
      "        Begonias :     0 : 2000.0 :  None : False : False : NonNegativeReals\n",
      "           Roses :     0 : 1000.0 :  None : False : False : NonNegativeReals\n",
      "\n",
      "  Objectives:\n",
      "    profit : Size=1, Index=None, Active=True\n",
      "        Key  : Active : Value\n",
      "        None :   True : 7450.0\n",
      "\n",
      "  Constraints:\n",
      "    cons : Size=2\n",
      "        Key : Lower : Body   : Upper\n",
      "          1 :  None : 4000.0 : 4000.0\n",
      "          2 :  None : 5000.0 : 5000.0\n"
     ]
    }
   ],
   "source": [
    "model = ConcreteModel(\"Product Mix - Solved with Pyomo Method\")\n",
    "\n",
    "P = profit.keys() ##keys in a dataframe are the column headers\n",
    "#the set 'P' has two elements, which are our DVs\n",
    "\n",
    "##DECISION VARIABLES\n",
    "model.x = Var(P, domain=NonNegativeReals)\n",
    "#telling python to declare variables across the set P \n",
    "#we are declaring both DVs at the same time\n",
    "\n",
    "##OBJECTIVE FUNCTION\n",
    "#now that we have our DVs we can articulate the obj func\n",
    "model.profit = Objective(expr = sum([model.x[p]*profit.loc['Profit',p]for p in P]), sense = maximize)\n",
    "                                     \n",
    "# we sum model.x subscipt p * the profit row elements\n",
    "#when you give python a location, you specify the location by row, column. so we're in profit row and column p. right now p doesn't mean anything until we say for p in P\n",
    "#P is the index set consisting of roses and begonias.\n",
    "#the line of command is doing a sumproduct \n",
    "\n",
    "##CONSTRAINTS\n",
    "I=data.index\n",
    "#data is the constraint table we read in\n",
    "#the index command gives us the row headers: F1, F2\n",
    "\n",
    "##create empty constraint list\n",
    "model.cons = ConstraintList()\n",
    "\n",
    "for i in I:\n",
    "    model.cons.add(sum([model.x[p]*data.loc[i,p] for p in P]) <= data.loc[i, 'Available'])\n",
    "    \n",
    "    \n",
    "## the .add() function allows us to add constraints\n",
    "##in a series of nested loops, the first \"for i in I\" is the outer loop and the second \"for i in I\" is the inner loop\n",
    "##use the outer loop for each constraint. aka: for each outer loop, create a new constraint\n",
    "##we create constraint list and then add all constraints to it\n",
    "#index = row headers\n",
    "#keys = column headers\n",
    "\n",
    "##once python starts the loop, it needs to finish the inner loop for a given outer loop before it starts on the next outer loop\n",
    "## starts with F1 (for i in I, we start with F1) and apply functions to roses, and then begonias, and then start over entire loop for F2                                                                        \n",
    "                                                                          \n",
    "SolverFactory('glpk').solve(model)\n",
    "model.display()"
   ]
  },
  {
   "cell_type": "markdown",
   "id": "1ab68157-e574-4ea0-8685-3f0dcfb75500",
   "metadata": {},
   "source": [
    "### Product Mix Continued"
   ]
  },
  {
   "cell_type": "markdown",
   "id": "518bfbc1-2732-4ace-9ebe-5a01b3bc82c1",
   "metadata": {},
   "source": [
    "If your fertilizer storage capacity is 8000 pounds, what is your new product mix, and how much of each fertilizer should you order?\n",
    "\n",
    "What would you be willing to pay for additional storage capacity?\n",
    "\n",
    "Now how much do you plant?"
   ]
  },
  {
   "cell_type": "code",
   "execution_count": 17,
   "id": "0d23f5a9-cdc0-4443-b6db-2bac4b3b52e4",
   "metadata": {},
   "outputs": [
    {
     "name": "stdout",
     "output_type": "stream",
     "text": [
      "Model Product Mix Continued - Solved Manually\n",
      "\n",
      "  Variables:\n",
      "    r : Size=1, Index=None\n",
      "        Key  : Lower : Value : Upper : Fixed : Stale : Domain\n",
      "        None :     0 : 332.0 :  None : False : False : NonNegativeIntegers\n",
      "    b : Size=1, Index=None\n",
      "        Key  : Lower : Value  : Upper : Fixed : Stale : Domain\n",
      "        None :     0 : 2334.0 :  None : False : False : NonNegativeIntegers\n",
      "\n",
      "  Objectives:\n",
      "    profit : Size=1, Index=None, Active=True\n",
      "        Key  : Active : Value\n",
      "        None :   True : 6815.400000000001\n",
      "\n",
      "  Constraints:\n",
      "    f1 : Size=1\n",
      "        Key  : Lower : Body   : Upper\n",
      "        None :  None : 2998.0 : 4000.0\n",
      "    f2 : Size=1\n",
      "        Key  : Lower : Body   : Upper\n",
      "        None :  None : 5000.0 : 5000.0\n",
      "    storage : Size=1\n",
      "        Key  : Lower : Body   : Upper\n",
      "        None :  None : 7998.0 : 8000.0\n"
     ]
    }
   ],
   "source": [
    "model = ConcreteModel(\"Product Mix Continued - Solved Manually\") ##the open parenthesis allow us to later name the model by putting the name in single quotes in the parenthesis\n",
    "\n",
    "#step 1: identify the decision variables \n",
    "model.r = Var(domain=NonNegativeIntegers) # no. roses to plant\n",
    "model.b = Var(domain=NonNegativeIntegers) # no. begonias to plant\n",
    "\n",
    "\n",
    "#step 2: define the objective function\n",
    "#Obj. Fct.\n",
    "#Objective() tells python this is the objective function\n",
    "#expr stands for expression\n",
    "#sense= allows up to tell python what to do. the only two we use is maximize or minimize\n",
    "model.profit = Objective(expr = 2.25*model.r + 2.6*model.b, sense=maximize)\n",
    "\n",
    "\n",
    "#step 3: identify the constraints \n",
    "#Contraint() tells python this is the objective function\n",
    "#equality options: <=, >=, ==\n",
    "model.f1 = Constraint(expr = 2*model.r + model.b <=4000) #f1 capacity\n",
    "model.f2 = Constraint(expr = model.r + 2*model.b <=5000) #f2 capacity\n",
    "\n",
    "model.storage= Constraint(expr = 3*model.r + 3*model.b <= 8000) #total storage capacity\n",
    "\n",
    "SolverFactory('glpk').solve(model)\n",
    "model.display()"
   ]
  },
  {
   "cell_type": "markdown",
   "id": "a3106c73-0116-47cf-8cae-9d701d052ec2",
   "metadata": {},
   "source": [
    "### Dual Problem"
   ]
  },
  {
   "cell_type": "code",
   "execution_count": 2,
   "id": "fdc82dd8-a2ae-43da-9055-84257d41f723",
   "metadata": {
    "tags": []
   },
   "outputs": [],
   "source": [
    "## solve manually"
   ]
  },
  {
   "cell_type": "code",
   "execution_count": 5,
   "id": "d16e4fc8-6483-40be-8953-262fcb9e8ba2",
   "metadata": {
    "tags": []
   },
   "outputs": [
    {
     "name": "stdout",
     "output_type": "stream",
     "text": [
      "Model Dual Problem - Solved Manually\n",
      "\n",
      "  Variables:\n",
      "    fertilizerone : Size=1, Index=None\n",
      "        Key  : Lower : Value : Upper : Fixed : Stale : Domain\n",
      "        None :     0 :   0.0 :  None : False : False : NonNegativeIntegers\n",
      "    fertilizertwo : Size=1, Index=None\n",
      "        Key  : Lower : Value : Upper : Fixed : Stale : Domain\n",
      "        None :     0 :   0.0 :  None : False : False : NonNegativeIntegers\n",
      "    storage : Size=1, Index=None\n",
      "        Key  : Lower : Value : Upper : Fixed : Stale : Domain\n",
      "        None :     0 :   1.0 :  None : False : False : NonNegativeIntegers\n",
      "\n",
      "  Objectives:\n",
      "    profit : Size=1, Index=None, Active=True\n",
      "        Key  : Active : Value\n",
      "        None :   True : 8000.0\n",
      "\n",
      "  Constraints:\n",
      "    roses : Size=1\n",
      "        Key  : Lower : Body : Upper\n",
      "        None :  2.25 :  3.0 :  None\n",
      "    begonias : Size=1\n",
      "        Key  : Lower : Body : Upper\n",
      "        None :   2.6 :  3.0 :  None\n"
     ]
    }
   ],
   "source": [
    "model = ConcreteModel(\"Dual Problem - Solved Manually\") ##the open parenthesis allow us to later name the model by putting the name in single quotes in the parenthesis\n",
    "\n",
    "#step 1: identify the decision variables \n",
    "#DVS\n",
    "model.fertilizerone = Var(domain=NonNegativeIntegers) #F1 shadow price\n",
    "model.fertilizertwo = Var(domain=NonNegativeIntegers) #F2 shadow price\n",
    "model.storage = Var(domain=NonNegativeIntegers) #total storage shadow price \n",
    "\n",
    "\n",
    "#step 2: define the objective function\n",
    "#Obj. Fct.\n",
    "#Objective() tells python this is the objective function\n",
    "#expr stands for expression\n",
    "#sense= allows up to tell python what to do. the only two we use is maximize or minimize\n",
    "model.profit = Objective(expr = 4000*model.fertilizerone + 5000*model.fertilizertwo + 8000*model.storage, sense=minimize)\n",
    "\n",
    "\n",
    "#step 3: identify the constraints \n",
    "#Contraint() tells python this is the objective function\n",
    "#equality options: <=, >=, ==\n",
    "\n",
    "model.roses = Constraint(expr = 2*model.fertilizerone + 1*model.fertilizertwo + 3*model.storage >= 2.25) #roses constraint\n",
    "model.begonias = Constraint(expr = 1*model.fertilizerone + 2*model.fertilizertwo + 3*model.storage >= 2.6) #begonias constraint\n",
    "\n",
    "SolverFactory('glpk').solve(model)\n",
    "model.display()"
   ]
  },
  {
   "cell_type": "code",
   "execution_count": 3,
   "id": "fe00da81-89a3-4ad7-8fe8-4de348120268",
   "metadata": {
    "tags": []
   },
   "outputs": [],
   "source": [
    "## solve with pyomo"
   ]
  },
  {
   "cell_type": "code",
   "execution_count": 13,
   "id": "bbf69df4-6da3-4feb-9052-7b02ebf46bd2",
   "metadata": {
    "tags": []
   },
   "outputs": [],
   "source": [
    "DualProblemPrice = pd.read_excel(\"Portfolio3Data.xlsx\", sheet_name=\"DualProblemPrice\", index_col=0)\n",
    "DualProblemData = pd.read_excel(\"Portfolio3Data.xlsx\", sheet_name=\"DualProblemData\", index_col=0)"
   ]
  },
  {
   "cell_type": "code",
   "execution_count": 81,
   "id": "ea1d4bee-75ea-4354-9fd0-cd74d9a5606f",
   "metadata": {
    "tags": []
   },
   "outputs": [
    {
     "data": {
      "text/html": [
       "<div>\n",
       "<style scoped>\n",
       "    .dataframe tbody tr th:only-of-type {\n",
       "        vertical-align: middle;\n",
       "    }\n",
       "\n",
       "    .dataframe tbody tr th {\n",
       "        vertical-align: top;\n",
       "    }\n",
       "\n",
       "    .dataframe thead th {\n",
       "        text-align: right;\n",
       "    }\n",
       "</style>\n",
       "<table border=\"1\" class=\"dataframe\">\n",
       "  <thead>\n",
       "    <tr style=\"text-align: right;\">\n",
       "      <th></th>\n",
       "      <th>Fertilizer One</th>\n",
       "      <th>Fertilizer Two</th>\n",
       "      <th>Storage</th>\n",
       "    </tr>\n",
       "  </thead>\n",
       "  <tbody>\n",
       "    <tr>\n",
       "      <th>Price</th>\n",
       "      <td>4000</td>\n",
       "      <td>5000</td>\n",
       "      <td>8000</td>\n",
       "    </tr>\n",
       "  </tbody>\n",
       "</table>\n",
       "</div>"
      ],
      "text/plain": [
       "       Fertilizer One  Fertilizer Two  Storage\n",
       "Price            4000            5000     8000"
      ]
     },
     "execution_count": 81,
     "metadata": {},
     "output_type": "execute_result"
    }
   ],
   "source": [
    "DualProblemPrice"
   ]
  },
  {
   "cell_type": "code",
   "execution_count": 82,
   "id": "4b1db704-d8be-4a8a-ba5d-94396ac93608",
   "metadata": {
    "tags": []
   },
   "outputs": [
    {
     "data": {
      "text/html": [
       "<div>\n",
       "<style scoped>\n",
       "    .dataframe tbody tr th:only-of-type {\n",
       "        vertical-align: middle;\n",
       "    }\n",
       "\n",
       "    .dataframe tbody tr th {\n",
       "        vertical-align: top;\n",
       "    }\n",
       "\n",
       "    .dataframe thead th {\n",
       "        text-align: right;\n",
       "    }\n",
       "</style>\n",
       "<table border=\"1\" class=\"dataframe\">\n",
       "  <thead>\n",
       "    <tr style=\"text-align: right;\">\n",
       "      <th></th>\n",
       "      <th>Fertilizer One</th>\n",
       "      <th>Fertilizer Two</th>\n",
       "      <th>Storage</th>\n",
       "      <th>Profit</th>\n",
       "    </tr>\n",
       "  </thead>\n",
       "  <tbody>\n",
       "    <tr>\n",
       "      <th>Rose</th>\n",
       "      <td>2</td>\n",
       "      <td>1</td>\n",
       "      <td>3</td>\n",
       "      <td>2.25</td>\n",
       "    </tr>\n",
       "    <tr>\n",
       "      <th>Begonia</th>\n",
       "      <td>1</td>\n",
       "      <td>2</td>\n",
       "      <td>3</td>\n",
       "      <td>2.60</td>\n",
       "    </tr>\n",
       "  </tbody>\n",
       "</table>\n",
       "</div>"
      ],
      "text/plain": [
       "         Fertilizer One  Fertilizer Two  Storage  Profit\n",
       "Rose                  2               1        3    2.25\n",
       "Begonia               1               2        3    2.60"
      ]
     },
     "execution_count": 82,
     "metadata": {},
     "output_type": "execute_result"
    }
   ],
   "source": [
    "DualProblemData"
   ]
  },
  {
   "cell_type": "code",
   "execution_count": 14,
   "id": "9cb49091-18c2-4b7c-96ed-780e25bc6a9a",
   "metadata": {
    "tags": []
   },
   "outputs": [
    {
     "name": "stdout",
     "output_type": "stream",
     "text": [
      "Model Dual Problem - Solved with Pyomo Method\n",
      "\n",
      "  Variables:\n",
      "    dv_dualproblem : Size=3, Index={Fertilizer One, Fertilizer Two, Storage}\n",
      "        Key            : Lower : Value : Upper : Fixed : Stale : Domain\n",
      "        Fertilizer One :     0 :   0.0 :  None : False : False : NonNegativeIntegers\n",
      "        Fertilizer Two :     0 :   0.0 :  None : False : False : NonNegativeIntegers\n",
      "               Storage :     0 :   1.0 :  None : False : False : NonNegativeIntegers\n",
      "\n",
      "  Objectives:\n",
      "    cost : Size=1, Index=None, Active=True\n",
      "        Key  : Active : Value\n",
      "        None :   True : 8000.0\n",
      "\n",
      "  Constraints:\n",
      "    cons : Size=2\n",
      "        Key : Lower : Body : Upper\n",
      "          1 :  2.25 :  3.0 :  None\n",
      "          2 :   2.6 :  3.0 :  None\n"
     ]
    }
   ],
   "source": [
    "model = ConcreteModel(\"Dual Problem - Solved with Pyomo Method\")\n",
    "\n",
    "D = DualProblemPrice.keys()\n",
    "\n",
    "model.dv_dualproblem = Var(D, domain = NonNegativeIntegers)\n",
    "\n",
    "model.cost = Objective(expr = \n",
    "                       sum([\n",
    "                           model.dv_dualproblem[d] * \n",
    "                           DualProblemPrice.loc['Price',d]\n",
    "                           for d in D\n",
    "                       ]),\n",
    "                       sense=minimize)\n",
    "\n",
    "model.cons = ConstraintList()\n",
    "\n",
    "F = DualProblemData.index\n",
    "\n",
    "for f in F:\n",
    "    model.cons.add(\n",
    "        sum([\n",
    "            model.dv_dualproblem[d] *\n",
    "            DualProblemData.loc[f,d]\n",
    "            for d in D\n",
    "        ])\n",
    "        >= DualProblemData.loc[f,'Profit'])\n",
    "    \n",
    "SolverFactory('glpk').solve(model)\n",
    "model.display()"
   ]
  },
  {
   "cell_type": "markdown",
   "id": "db1cfaac-9685-4956-9b00-51c95562ff90",
   "metadata": {},
   "source": [
    "### Product Mix Challenge"
   ]
  },
  {
   "cell_type": "markdown",
   "id": "50872833-7b74-4c7c-9377-fa95b5330fe7",
   "metadata": {},
   "source": [
    "You manufacture two products, A and B, each of which you sell for $1 profit.  Product A requires 5 blobs and 3 globs, and product B requires 3 blobs and 5 globs.  Your supplier has 120 blobs and 120 globs available.  To maximize profit, how much of each product should you produce? How much profit can you make?"
   ]
  },
  {
   "cell_type": "code",
   "execution_count": 16,
   "id": "3f364b70-5235-490c-a1dd-7bf249a874a2",
   "metadata": {},
   "outputs": [
    {
     "name": "stdout",
     "output_type": "stream",
     "text": [
      "Model Product Mix Challenge - Solved Manually\n",
      "\n",
      "  Variables:\n",
      "    a : Size=1, Index=None\n",
      "        Key  : Lower : Value : Upper : Fixed : Stale : Domain\n",
      "        None :     0 :  15.0 :  None : False : False : NonNegativeIntegers\n",
      "    b : Size=1, Index=None\n",
      "        Key  : Lower : Value : Upper : Fixed : Stale : Domain\n",
      "        None :     0 :  15.0 :  None : False : False : NonNegativeIntegers\n",
      "\n",
      "  Objectives:\n",
      "    profit : Size=1, Index=None, Active=True\n",
      "        Key  : Active : Value\n",
      "        None :   True :  30.0\n",
      "\n",
      "  Constraints:\n",
      "    blobs : Size=1\n",
      "        Key  : Lower : Body  : Upper\n",
      "        None :  None : 120.0 : 120.0\n",
      "    globs : Size=1\n",
      "        Key  : Lower : Body  : Upper\n",
      "        None :  None : 120.0 : 120.0\n"
     ]
    }
   ],
   "source": [
    "model = ConcreteModel(\"Product Mix Challenge - Solved Manually\") ##the open parenthesis allow us to later name the model by putting the name in single quotes in the parenthesis\n",
    "\n",
    "#step 1: identify the decision variables \n",
    "#DVS\n",
    "#model.something will make up all\n",
    "#defining the DVs as variables \n",
    "#other options for domain are binary, integer (which means a whole number but also negative or zero), nonnegative reals\n",
    "model.a = Var(domain=NonNegativeIntegers) #product A\n",
    "model.b = Var(domain=NonNegativeIntegers) #product B\n",
    "\n",
    "\n",
    "#step 2: define the objective function\n",
    "#Obj. Fct.\n",
    "#Objective() tells python this is the objective function\n",
    "#expr stands for expression\n",
    "#sense= allows up to tell python what to do. the only two we use is maximize or minimize\n",
    "model.profit = Objective(expr = model.a + model.b, sense=maximize)\n",
    "\n",
    "\n",
    "#step 3: identify the constraints \n",
    "#Contraint() tells python this is the objective function\n",
    "#equality options: <=, >=, ==\n",
    "model.blobs = Constraint(expr = 5*model.a + 3*model.b <=120) \n",
    "model.globs = Constraint(expr = 3*model.a + 5*model.b <=120)\n",
    "\n",
    "SolverFactory('glpk').solve(model)\n",
    "model.display()"
   ]
  },
  {
   "cell_type": "code",
   "execution_count": 86,
   "id": "d01cd2f6-c27b-4a47-80f7-1b9e28867b81",
   "metadata": {},
   "outputs": [
    {
     "name": "stdout",
     "output_type": "stream",
     "text": [
      "\n",
      "Profit:    30.0\n",
      "A to produce: 15.0\n",
      "B to pproduce: 15.0\n",
      "blobs: 120.0\n",
      "globs: 120.0\n",
      "\n"
     ]
    }
   ],
   "source": [
    "print(f'''\n",
    "Profit:    {model.profit()}\n",
    "A to produce: {model.a()}\n",
    "B to pproduce: {model.b()}\n",
    "blobs: {model.blobs()}\n",
    "globs: {model.globs()}\n",
    "''')"
   ]
  },
  {
   "cell_type": "markdown",
   "id": "cda0133d-a89d-4931-997e-be737d3eea23",
   "metadata": {},
   "source": [
    "### Golf Bags"
   ]
  },
  {
   "cell_type": "markdown",
   "id": "c9ab3a96-3a27-4d1a-90c5-be205061f712",
   "metadata": {},
   "source": [
    "How many of each bag type should you manufacture over the next three months in order to maximize profit?"
   ]
  },
  {
   "cell_type": "code",
   "execution_count": 87,
   "id": "f3bcd101-a153-4999-8515-239b70ea86dd",
   "metadata": {},
   "outputs": [
    {
     "name": "stdout",
     "output_type": "stream",
     "text": [
      "37800\n",
      "36000\n",
      "42480\n",
      "8100\n"
     ]
    }
   ],
   "source": [
    "print(630*60) ##cutting and dyeing minutes \n",
    "print(600*60) ##sewing minutes \n",
    "print(708*60) ##finishing minutes \n",
    "print(135*60) ##inspection and packaging minutes "
   ]
  },
  {
   "cell_type": "code",
   "execution_count": 18,
   "id": "7ca31533-a702-40e4-8f3f-2e1b0ddd01ba",
   "metadata": {},
   "outputs": [
    {
     "name": "stdout",
     "output_type": "stream",
     "text": [
      "Model Golf Bags - Solved Manually\n",
      "\n",
      "  Variables:\n",
      "    s : Size=1, Index=None\n",
      "        Key  : Lower : Value : Upper : Fixed : Stale : Domain\n",
      "        None :     0 : 540.0 :  None : False : False : NonNegativeIntegers\n",
      "    d : Size=1, Index=None\n",
      "        Key  : Lower : Value : Upper : Fixed : Stale : Domain\n",
      "        None :     0 : 252.0 :  None : False : False : NonNegativeIntegers\n",
      "\n",
      "  Objectives:\n",
      "    profit : Size=1, Index=None, Active=True\n",
      "        Key  : Active : Value\n",
      "        None :   True : 7668.0\n",
      "\n",
      "  Constraints:\n",
      "    cd : Size=1\n",
      "        Key  : Lower : Body    : Upper\n",
      "        None :  None : 37800.0 : 37800.0\n",
      "    sew : Size=1\n",
      "        Key  : Lower : Body    : Upper\n",
      "        None :  None : 28800.0 : 36000.0\n",
      "    f : Size=1\n",
      "        Key  : Lower : Body    : Upper\n",
      "        None :  None : 42480.0 : 42480.0\n",
      "    ip : Size=1\n",
      "        Key  : Lower : Body   : Upper\n",
      "        None :  None : 7020.0 : 8100.0\n"
     ]
    }
   ],
   "source": [
    "model = ConcreteModel(\"Golf Bags - Solved Manually\") ##the open parenthesis allow us to later name the model by putting the name in single quotes in the parenthesis\n",
    "\n",
    "#step 1: identify the decision variables \n",
    "#DVS\n",
    "#model.something will make up all\n",
    "#defining the DVs as variables \n",
    "#other options for domain are binary, integer (which means a whole number but also negative or zero), nonnegative reals\n",
    "model.s = Var(domain=NonNegativeIntegers) #model.r is the name for the DV roses \n",
    "model.d = Var(domain=NonNegativeIntegers)\n",
    "\n",
    "\n",
    "#step 2: define the objective function\n",
    "#Obj. Fct.\n",
    "#Objective() tells python this is the objective function\n",
    "#expr stands for expression\n",
    "#sense= allows up to tell python what to do. the only two we use is maximize or minimize\n",
    "model.profit = Objective(expr = 10*model.s + 9*model.d, sense=maximize)\n",
    "\n",
    "\n",
    "#step 3: identify the constraints \n",
    "#Contraint() tells python this is the objective function\n",
    "#equality options: <=, >=, ==\n",
    "model.cd = Constraint(expr = 42*model.s + 60*model.d <= 37800)\n",
    "model.sew = Constraint(expr = 30*model.s + 50*model.d <= 36000)\n",
    "model.f = Constraint(expr = 60*model.s + 40*model.d <= 42480)\n",
    "model.ip = Constraint(expr = 6*model.s + 15*model.d <= 8100)\n",
    "SolverFactory('glpk').solve(model)\n",
    "model.display()"
   ]
  },
  {
   "cell_type": "markdown",
   "id": "0cca4fc3-3b4c-4672-b955-4e4170448278",
   "metadata": {},
   "source": [
    "### Baseball Gloves"
   ]
  },
  {
   "cell_type": "code",
   "execution_count": 92,
   "id": "d5882792-76d0-4e36-82ec-a86b8b0c4662",
   "metadata": {},
   "outputs": [
    {
     "name": "stdout",
     "output_type": "stream",
     "text": [
      "54000\n",
      "18000\n",
      "6000\n"
     ]
    }
   ],
   "source": [
    "print(900*60) ##cutting and sewing minutes \n",
    "print(300*60) ##finishing minutes \n",
    "print(100*60) ##packaging and shipping minutes"
   ]
  },
  {
   "cell_type": "code",
   "execution_count": 19,
   "id": "7b18010a-69f5-42fa-84b8-e74a524d05b4",
   "metadata": {},
   "outputs": [
    {
     "name": "stdout",
     "output_type": "stream",
     "text": [
      "Model Baseball Gloves - Solved Manually\n",
      "\n",
      "  Variables:\n",
      "    f : Size=1, Index=None\n",
      "        Key  : Lower : Value : Upper : Fixed : Stale : Domain\n",
      "        None :     0 :   0.0 :  None : False : False : NonNegativeIntegers\n",
      "    c : Size=1, Index=None\n",
      "        Key  : Lower : Value : Upper : Fixed : Stale : Domain\n",
      "        None :     0 : 400.0 :  None : False : False : NonNegativeIntegers\n",
      "\n",
      "  Objectives:\n",
      "    profit : Size=1, Index=None, Active=True\n",
      "        Key  : Active : Value\n",
      "        None :   True : 3200.0\n",
      "\n",
      "  Constraints:\n",
      "    cs : Size=1\n",
      "        Key  : Lower : Body    : Upper\n",
      "        None :  None : 36000.0 : 54000.0\n",
      "    finishing : Size=1\n",
      "        Key  : Lower : Body   : Upper\n",
      "        None :  None : 8000.0 : 18000.0\n",
      "    ps : Size=1\n",
      "        Key  : Lower : Body   : Upper\n",
      "        None :  None : 6000.0 : 6000.0\n"
     ]
    }
   ],
   "source": [
    "model = ConcreteModel(\"Baseball Gloves - Solved Manually\") ##the open parenthesis allow us to later name the model by putting the name in single quotes in the parenthesis\n",
    "\n",
    "#step 1: identify the decision variables \n",
    "#DVS\n",
    "#model.something will make up all\n",
    "#defining the DVs as variables \n",
    "#other options for domain are binary, integer (which means a whole number but also negative or zero), nonnegative reals\n",
    "model.f = Var(domain=NonNegativeIntegers) #model.r is the name for the DV roses \n",
    "model.c = Var(domain=NonNegativeIntegers)\n",
    "\n",
    "\n",
    "#step 2: define the objective function\n",
    "#Obj. Fct.\n",
    "#Objective() tells python this is the objective function\n",
    "#expr stands for expression\n",
    "#sense= allows up to tell python what to do. the only two we use is maximize or minimize\n",
    "model.profit = Objective(expr = 5*model.f + 8*model.c, sense=maximize)\n",
    "\n",
    "\n",
    "#step 3: identify the constraints \n",
    "#Contraint() tells python this is the objective function\n",
    "#equality options: <=, >=, ==\n",
    "model.cs = Constraint(expr = 60*model.f + 90*model.c <= 54000)\n",
    "model.finishing = Constraint(expr = 30*model.f + 20*model.c <= 18000)\n",
    "model.ps = Constraint(expr = 12.5*model.f + 15*model.c <= 6000)\n",
    "\n",
    "SolverFactory('glpk').solve(model)\n",
    "model.display()"
   ]
  },
  {
   "cell_type": "markdown",
   "id": "2b186552-062a-4b78-b2bb-9781c3abdb78",
   "metadata": {},
   "source": [
    "### Bike Frames"
   ]
  },
  {
   "cell_type": "code",
   "execution_count": 94,
   "id": "f407ca61-a3b0-4243-8bb1-6f179a3c0cd8",
   "metadata": {},
   "outputs": [
    {
     "name": "stdout",
     "output_type": "stream",
     "text": [
      "6.0\n",
      "3.0\n"
     ]
    }
   ],
   "source": [
    "##each bike frame requires 30 yards \n",
    "print(.2 * 30) ##required carbon fiber per frame\n",
    "print(.1 * 30) ##maximum kevlar per frame"
   ]
  },
  {
   "cell_type": "code",
   "execution_count": 20,
   "id": "95dde116-be88-4c08-879a-190bde1a551a",
   "metadata": {
    "tags": []
   },
   "outputs": [
    {
     "name": "stdout",
     "output_type": "stream",
     "text": [
      "Model Bike Frames - Solved Manually\n",
      "\n",
      "  Variables:\n",
      "    p : Size=1, Index=None\n",
      "        Key  : Lower : Value : Upper : Fixed : Stale : Domain\n",
      "        None :     0 :  15.0 :  None : False : False : NonNegativeIntegers\n",
      "    s : Size=1, Index=None\n",
      "        Key  : Lower : Value : Upper : Fixed : Stale : Domain\n",
      "        None :     0 :  15.0 :  None : False : False : NonNegativeIntegers\n",
      "\n",
      "  Objectives:\n",
      "    cost : Size=1, Index=None, Active=True\n",
      "        Key  : Active : Value\n",
      "        None :   True : 247.5\n",
      "\n",
      "  Constraints:\n",
      "    cf : Size=1\n",
      "        Key  : Lower : Body : Upper\n",
      "        None :   6.0 :  6.0 :  None\n",
      "    k : Size=1\n",
      "        Key  : Lower : Body               : Upper\n",
      "        None :  None : 2.6999999999999997 :   3.0\n",
      "    yards : Size=1\n",
      "        Key  : Lower : Body : Upper\n",
      "        None :  30.0 : 30.0 :  30.0\n"
     ]
    }
   ],
   "source": [
    "model = ConcreteModel(\"Bike Frames - Solved Manually\") ##the open parenthesis allow us to later name the model by putting the name in single quotes in the parenthesis\n",
    "\n",
    "#step 1: identify the decision variables \n",
    "#DVS\n",
    "#model.something will make up all\n",
    "#defining the DVs as variables \n",
    "#other options for domain are binary, integer (which means a whole number but also negative or zero), nonnegative reals\n",
    "model.p = Var(domain=NonNegativeIntegers) #yards of professional and standard material to have in each frame \n",
    "model.s = Var(domain=NonNegativeIntegers)\n",
    "\n",
    "\n",
    "#step 2: define the objective function\n",
    "#Obj. Fct.\n",
    "#Objective() tells python this is the objective function\n",
    "#expr stands for expression\n",
    "#sense= allows up to tell python what to do. the only two we use is maximize or minimize\n",
    "model.cost = Objective(expr = 7.5*model.s + 9*model.p, sense=minimize)\n",
    "\n",
    "\n",
    "#step 3: identify the constraints \n",
    "#Contraint() tells python this is the objective function\n",
    "#equality options: <=, >=, ==\n",
    "model.cf = Constraint(expr = 0.1*model.s + 0.3*model.p >=6)\n",
    "model.k = Constraint(expr = 0.06*model.s + .12*model.p <=3)\n",
    "model.yards = Constraint(expr = 1*model.p + 1*model.s == 30)\n",
    "\n",
    "SolverFactory('glpk').solve(model)\n",
    "model.display()"
   ]
  },
  {
   "cell_type": "code",
   "execution_count": 97,
   "id": "95f5d2dc-97f6-4acb-840e-f6e7e024e18f",
   "metadata": {},
   "outputs": [
    {
     "name": "stdout",
     "output_type": "stream",
     "text": [
      "\n",
      "Cost:    225.0\n",
      "Yards of Standard: 30.0\n",
      "Yards of Professional: 0.0\n",
      "Carbon Fiber: 3.0\n",
      "Total Yards: 30.0\n",
      "\n"
     ]
    }
   ],
   "source": [
    "print(f'''\n",
    "Cost:    {model.cost()}\n",
    "Yards of Standard: {model.s()}\n",
    "Yards of Professional: {model.p()}\n",
    "Carbon Fiber: {model.cf()}\n",
    "Total Yards: {model.yards()}\n",
    "''')"
   ]
  },
  {
   "cell_type": "markdown",
   "id": "d6a803fd-17fd-4d19-9c98-658618c08caf",
   "metadata": {},
   "source": [
    "### Investment Portfolios"
   ]
  },
  {
   "cell_type": "markdown",
   "id": "557739f4-4126-4afc-8652-a922b0b95584",
   "metadata": {},
   "source": [
    "##### Problem Description:"
   ]
  },
  {
   "cell_type": "code",
   "execution_count": 43,
   "id": "c073c3bc-b993-4a9d-8d97-abeca4471157",
   "metadata": {},
   "outputs": [],
   "source": [
    "## Decision Variables: how many dollars to put in growth, income, and money market funds\n",
    "## Objective Function: maximize yeild\n",
    "## Constraints: no more than 5% total risk, 10% in G, 10% in I, and 20% in MM, total $ investment is 1000000"
   ]
  },
  {
   "cell_type": "code",
   "execution_count": 35,
   "id": "f5316272-c1a7-4ae4-9c5b-8597319c4c52",
   "metadata": {
    "tags": []
   },
   "outputs": [],
   "source": [
    "IPyield = pd.read_excel(\"Portfolio3Data.xlsx\", sheet_name=\"IPYield\", index_col=0)\n",
    "IPmaxrisk = pd.read_excel(\"Portfolio3Data.xlsx\", sheet_name=\"MaxRisk\", index_col=0)"
   ]
  },
  {
   "cell_type": "code",
   "execution_count": 36,
   "id": "72593d7f-f7fa-4806-8965-d07a12511cd5",
   "metadata": {
    "tags": []
   },
   "outputs": [
    {
     "data": {
      "text/html": [
       "<div>\n",
       "<style scoped>\n",
       "    .dataframe tbody tr th:only-of-type {\n",
       "        vertical-align: middle;\n",
       "    }\n",
       "\n",
       "    .dataframe tbody tr th {\n",
       "        vertical-align: top;\n",
       "    }\n",
       "\n",
       "    .dataframe thead th {\n",
       "        text-align: right;\n",
       "    }\n",
       "</style>\n",
       "<table border=\"1\" class=\"dataframe\">\n",
       "  <thead>\n",
       "    <tr style=\"text-align: right;\">\n",
       "      <th></th>\n",
       "      <th>Growth</th>\n",
       "      <th>Income</th>\n",
       "      <th>MM</th>\n",
       "    </tr>\n",
       "  </thead>\n",
       "  <tbody>\n",
       "    <tr>\n",
       "      <th>Yield</th>\n",
       "      <td>0.2</td>\n",
       "      <td>0.1</td>\n",
       "      <td>0.06</td>\n",
       "    </tr>\n",
       "  </tbody>\n",
       "</table>\n",
       "</div>"
      ],
      "text/plain": [
       "       Growth  Income    MM\n",
       "Yield     0.2     0.1  0.06"
      ]
     },
     "execution_count": 36,
     "metadata": {},
     "output_type": "execute_result"
    }
   ],
   "source": [
    "IPyield"
   ]
  },
  {
   "cell_type": "code",
   "execution_count": 37,
   "id": "602e6a8c-f0cc-467e-95f2-7b143dcc2298",
   "metadata": {
    "tags": []
   },
   "outputs": [
    {
     "data": {
      "text/html": [
       "<div>\n",
       "<style scoped>\n",
       "    .dataframe tbody tr th:only-of-type {\n",
       "        vertical-align: middle;\n",
       "    }\n",
       "\n",
       "    .dataframe tbody tr th {\n",
       "        vertical-align: top;\n",
       "    }\n",
       "\n",
       "    .dataframe thead th {\n",
       "        text-align: right;\n",
       "    }\n",
       "</style>\n",
       "<table border=\"1\" class=\"dataframe\">\n",
       "  <thead>\n",
       "    <tr style=\"text-align: right;\">\n",
       "      <th></th>\n",
       "      <th>Growth</th>\n",
       "      <th>Income</th>\n",
       "      <th>MM</th>\n",
       "      <th>Max</th>\n",
       "    </tr>\n",
       "  </thead>\n",
       "  <tbody>\n",
       "    <tr>\n",
       "      <th>Risk</th>\n",
       "      <td>0.1</td>\n",
       "      <td>0.05</td>\n",
       "      <td>0.01</td>\n",
       "      <td>50000</td>\n",
       "    </tr>\n",
       "  </tbody>\n",
       "</table>\n",
       "</div>"
      ],
      "text/plain": [
       "      Growth  Income    MM    Max\n",
       "Risk     0.1    0.05  0.01  50000"
      ]
     },
     "execution_count": 37,
     "metadata": {},
     "output_type": "execute_result"
    }
   ],
   "source": [
    "IPmaxrisk"
   ]
  },
  {
   "cell_type": "code",
   "execution_count": 38,
   "id": "7b38cd2d-de01-4a25-a3dc-f464bb0576d5",
   "metadata": {
    "tags": []
   },
   "outputs": [
    {
     "name": "stdout",
     "output_type": "stream",
     "text": [
      "Model Investment Portfolios\n",
      "\n",
      "  Variables:\n",
      "    dv_ip : Size=3, Index={Income, MM, Growth}\n",
      "        Key    : Lower : Value    : Upper : Fixed : Stale : Domain\n",
      "        Growth :     0 : 400000.0 :  None : False : False : NonNegativeReals\n",
      "        Income :     0 : 100000.0 :  None : False : False : NonNegativeReals\n",
      "            MM :     0 : 500000.0 :  None : False : False : NonNegativeReals\n",
      "\n",
      "  Objectives:\n",
      "    profit : Size=1, Index=None, Active=True\n",
      "        Key  : Active : Value\n",
      "        None :   True : 120000.0\n",
      "\n",
      "  Constraints:\n",
      "    cons : Size=5\n",
      "        Key : Lower     : Body      : Upper\n",
      "          1 :      None :   50000.0 :   50000.0\n",
      "          2 :  100000.0 :  400000.0 :      None\n",
      "          3 :  100000.0 :  100000.0 :      None\n",
      "          4 :  200000.0 :  500000.0 :      None\n",
      "          5 : 1000000.0 : 1000000.0 : 1000000.0\n"
     ]
    }
   ],
   "source": [
    "model = ConcreteModel(\"Investment Portfolios\")\n",
    "\n",
    "## create set to declare DVs\n",
    "F = IPyield.keys() #F for fund type\n",
    "\n",
    "## DECLARE DVs\n",
    "model.dv_ip = Var(F, domain=NonNegativeReals) ##dv_ip for investment portfolios\n",
    "\n",
    "## OBJECTIVE FUNCTION\n",
    "model.profit = Objective(expr = sum([model.dv_ip[f]*IPyield.loc['Yield',f]for f in F]), sense = maximize)\n",
    "\n",
    "## CONSTRAINTS\n",
    "model.cons = ConstraintList()\n",
    "\n",
    "R = MaxRisk.index #R for risk \n",
    "\n",
    "for r in R:\n",
    "    model.cons.add(sum([model.dv_ip[f]*IPmaxrisk.loc[r,f] for f in F]) <= IPmaxrisk.loc[r, 'Max'])\n",
    "\n",
    "model.cons.add(model.dv_ip['Growth'] >= 100000)\n",
    "model.cons.add(model.dv_ip['Income'] >= 100000)\n",
    "model.cons.add(model.dv_ip['MM'] >= 200000)\n",
    "model.cons.add(model.dv_ip['Growth'] + model.dv_ip['Income'] + model.dv_ip['MM'] == 1000000)\n",
    "\n",
    "SolverFactory('glpk').solve(model)\n",
    "model.display()"
   ]
  },
  {
   "cell_type": "markdown",
   "id": "547c11a6-8a30-463a-bcf3-a67f0e655c61",
   "metadata": {},
   "source": [
    "### Project Selection"
   ]
  },
  {
   "cell_type": "markdown",
   "id": "620b0853-8c63-47d9-9bce-4cc63d3d43b3",
   "metadata": {},
   "source": [
    "##### Problem Description:"
   ]
  },
  {
   "cell_type": "code",
   "execution_count": 44,
   "id": "977df459-6b50-448d-8bfe-d54399a75914",
   "metadata": {
    "tags": []
   },
   "outputs": [],
   "source": [
    "##DVs: which projects to select (binary)\n",
    "##Obj fct: Maximize Profit\n",
    "##ST: can't go over yearly budget. aka: in a given the sum of cost of all projects selected can't exceed yearly budget"
   ]
  },
  {
   "cell_type": "code",
   "execution_count": 8,
   "id": "b3d90aec-f30c-4ca0-84e7-adc62d5ad9e0",
   "metadata": {
    "tags": []
   },
   "outputs": [],
   "source": [
    "ProjectSelectionprofit = pd.read_excel(\"Portfolio3Data.xlsx\", sheet_name=\"PSProfit\", index_col=0)\n",
    "ProjectSelectiondata = pd.read_excel(\"Portfolio3Data.xlsx\", sheet_name=\"PSData\", index_col=0)"
   ]
  },
  {
   "cell_type": "code",
   "execution_count": 9,
   "id": "bd6c3d2f-e0ea-4caa-8eb3-2a0dff599e59",
   "metadata": {
    "tags": []
   },
   "outputs": [
    {
     "data": {
      "text/html": [
       "<div>\n",
       "<style scoped>\n",
       "    .dataframe tbody tr th:only-of-type {\n",
       "        vertical-align: middle;\n",
       "    }\n",
       "\n",
       "    .dataframe tbody tr th {\n",
       "        vertical-align: top;\n",
       "    }\n",
       "\n",
       "    .dataframe thead th {\n",
       "        text-align: right;\n",
       "    }\n",
       "</style>\n",
       "<table border=\"1\" class=\"dataframe\">\n",
       "  <thead>\n",
       "    <tr style=\"text-align: right;\">\n",
       "      <th></th>\n",
       "      <th>1</th>\n",
       "      <th>2</th>\n",
       "      <th>3</th>\n",
       "      <th>4</th>\n",
       "      <th>5</th>\n",
       "      <th>6</th>\n",
       "      <th>7</th>\n",
       "      <th>8</th>\n",
       "      <th>9</th>\n",
       "      <th>10</th>\n",
       "      <th>11</th>\n",
       "      <th>12</th>\n",
       "      <th>13</th>\n",
       "      <th>14</th>\n",
       "      <th>15</th>\n",
       "    </tr>\n",
       "    <tr>\n",
       "      <th>Project</th>\n",
       "      <th></th>\n",
       "      <th></th>\n",
       "      <th></th>\n",
       "      <th></th>\n",
       "      <th></th>\n",
       "      <th></th>\n",
       "      <th></th>\n",
       "      <th></th>\n",
       "      <th></th>\n",
       "      <th></th>\n",
       "      <th></th>\n",
       "      <th></th>\n",
       "      <th></th>\n",
       "      <th></th>\n",
       "      <th></th>\n",
       "    </tr>\n",
       "  </thead>\n",
       "  <tbody>\n",
       "    <tr>\n",
       "      <th>Profit</th>\n",
       "      <td>1500</td>\n",
       "      <td>2000</td>\n",
       "      <td>2500</td>\n",
       "      <td>7000</td>\n",
       "      <td>4000</td>\n",
       "      <td>3000</td>\n",
       "      <td>4500</td>\n",
       "      <td>3500</td>\n",
       "      <td>1500</td>\n",
       "      <td>2000</td>\n",
       "      <td>2500</td>\n",
       "      <td>7000</td>\n",
       "      <td>4000</td>\n",
       "      <td>3000</td>\n",
       "      <td>4500</td>\n",
       "    </tr>\n",
       "  </tbody>\n",
       "</table>\n",
       "</div>"
      ],
      "text/plain": [
       "           1     2     3     4     5     6     7     8     9     10    11  \\\n",
       "Project                                                                     \n",
       "Profit   1500  2000  2500  7000  4000  3000  4500  3500  1500  2000  2500   \n",
       "\n",
       "           12    13    14    15  \n",
       "Project                          \n",
       "Profit   7000  4000  3000  4500  "
      ]
     },
     "execution_count": 9,
     "metadata": {},
     "output_type": "execute_result"
    }
   ],
   "source": [
    "ProjectSelectionprofit"
   ]
  },
  {
   "cell_type": "code",
   "execution_count": 10,
   "id": "2a1bcf1f-734a-4865-8975-f8a2d6a8a291",
   "metadata": {
    "tags": []
   },
   "outputs": [
    {
     "data": {
      "text/html": [
       "<div>\n",
       "<style scoped>\n",
       "    .dataframe tbody tr th:only-of-type {\n",
       "        vertical-align: middle;\n",
       "    }\n",
       "\n",
       "    .dataframe tbody tr th {\n",
       "        vertical-align: top;\n",
       "    }\n",
       "\n",
       "    .dataframe thead th {\n",
       "        text-align: right;\n",
       "    }\n",
       "</style>\n",
       "<table border=\"1\" class=\"dataframe\">\n",
       "  <thead>\n",
       "    <tr style=\"text-align: right;\">\n",
       "      <th></th>\n",
       "      <th>1</th>\n",
       "      <th>2</th>\n",
       "      <th>3</th>\n",
       "      <th>4</th>\n",
       "      <th>5</th>\n",
       "      <th>6</th>\n",
       "      <th>7</th>\n",
       "      <th>8</th>\n",
       "      <th>9</th>\n",
       "      <th>10</th>\n",
       "      <th>11</th>\n",
       "      <th>12</th>\n",
       "      <th>13</th>\n",
       "      <th>14</th>\n",
       "      <th>15</th>\n",
       "      <th>Funds</th>\n",
       "    </tr>\n",
       "    <tr>\n",
       "      <th>Project</th>\n",
       "      <th></th>\n",
       "      <th></th>\n",
       "      <th></th>\n",
       "      <th></th>\n",
       "      <th></th>\n",
       "      <th></th>\n",
       "      <th></th>\n",
       "      <th></th>\n",
       "      <th></th>\n",
       "      <th></th>\n",
       "      <th></th>\n",
       "      <th></th>\n",
       "      <th></th>\n",
       "      <th></th>\n",
       "      <th></th>\n",
       "      <th></th>\n",
       "    </tr>\n",
       "  </thead>\n",
       "  <tbody>\n",
       "    <tr>\n",
       "      <th>2016</th>\n",
       "      <td>400</td>\n",
       "      <td>500</td>\n",
       "      <td>200</td>\n",
       "      <td>300</td>\n",
       "      <td>450</td>\n",
       "      <td>650</td>\n",
       "      <td>350</td>\n",
       "      <td>300</td>\n",
       "      <td>500</td>\n",
       "      <td>600</td>\n",
       "      <td>150</td>\n",
       "      <td>250</td>\n",
       "      <td>220</td>\n",
       "      <td>170</td>\n",
       "      <td>420</td>\n",
       "      <td>3500</td>\n",
       "    </tr>\n",
       "    <tr>\n",
       "      <th>2017</th>\n",
       "      <td>230</td>\n",
       "      <td>270</td>\n",
       "      <td>430</td>\n",
       "      <td>220</td>\n",
       "      <td>500</td>\n",
       "      <td>450</td>\n",
       "      <td>530</td>\n",
       "      <td>700</td>\n",
       "      <td>800</td>\n",
       "      <td>250</td>\n",
       "      <td>500</td>\n",
       "      <td>340</td>\n",
       "      <td>400</td>\n",
       "      <td>300</td>\n",
       "      <td>400</td>\n",
       "      <td>4500</td>\n",
       "    </tr>\n",
       "    <tr>\n",
       "      <th>2018</th>\n",
       "      <td>330</td>\n",
       "      <td>260</td>\n",
       "      <td>430</td>\n",
       "      <td>270</td>\n",
       "      <td>400</td>\n",
       "      <td>320</td>\n",
       "      <td>330</td>\n",
       "      <td>260</td>\n",
       "      <td>430</td>\n",
       "      <td>270</td>\n",
       "      <td>400</td>\n",
       "      <td>320</td>\n",
       "      <td>250</td>\n",
       "      <td>300</td>\n",
       "      <td>260</td>\n",
       "      <td>4000</td>\n",
       "    </tr>\n",
       "    <tr>\n",
       "      <th>2019</th>\n",
       "      <td>400</td>\n",
       "      <td>500</td>\n",
       "      <td>200</td>\n",
       "      <td>300</td>\n",
       "      <td>450</td>\n",
       "      <td>650</td>\n",
       "      <td>350</td>\n",
       "      <td>300</td>\n",
       "      <td>500</td>\n",
       "      <td>600</td>\n",
       "      <td>150</td>\n",
       "      <td>250</td>\n",
       "      <td>220</td>\n",
       "      <td>170</td>\n",
       "      <td>420</td>\n",
       "      <td>3450</td>\n",
       "    </tr>\n",
       "    <tr>\n",
       "      <th>2020</th>\n",
       "      <td>230</td>\n",
       "      <td>270</td>\n",
       "      <td>430</td>\n",
       "      <td>220</td>\n",
       "      <td>500</td>\n",
       "      <td>450</td>\n",
       "      <td>530</td>\n",
       "      <td>700</td>\n",
       "      <td>800</td>\n",
       "      <td>250</td>\n",
       "      <td>500</td>\n",
       "      <td>340</td>\n",
       "      <td>270</td>\n",
       "      <td>300</td>\n",
       "      <td>400</td>\n",
       "      <td>4500</td>\n",
       "    </tr>\n",
       "  </tbody>\n",
       "</table>\n",
       "</div>"
      ],
      "text/plain": [
       "           1    2    3    4    5    6    7    8    9   10   11   12   13   14  \\\n",
       "Project                                                                         \n",
       "2016     400  500  200  300  450  650  350  300  500  600  150  250  220  170   \n",
       "2017     230  270  430  220  500  450  530  700  800  250  500  340  400  300   \n",
       "2018     330  260  430  270  400  320  330  260  430  270  400  320  250  300   \n",
       "2019     400  500  200  300  450  650  350  300  500  600  150  250  220  170   \n",
       "2020     230  270  430  220  500  450  530  700  800  250  500  340  270  300   \n",
       "\n",
       "          15  Funds  \n",
       "Project              \n",
       "2016     420   3500  \n",
       "2017     400   4500  \n",
       "2018     260   4000  \n",
       "2019     420   3450  \n",
       "2020     400   4500  "
      ]
     },
     "execution_count": 10,
     "metadata": {},
     "output_type": "execute_result"
    }
   ],
   "source": [
    "ProjectSelectiondata"
   ]
  },
  {
   "cell_type": "code",
   "execution_count": 15,
   "id": "9ed9d089-11a6-4af7-bb24-0fcc916e8dd1",
   "metadata": {
    "tags": []
   },
   "outputs": [
    {
     "name": "stdout",
     "output_type": "stream",
     "text": [
      "Model Project Selection\n",
      "\n",
      "  Variables:\n",
      "    dv_ProjectSelection : Size=15, Index={1, 2, 3, 4, 5, 6, 7, 8, 9, 10, 11, 12, 13, 14, 15}\n",
      "        Key : Lower : Value : Upper : Fixed : Stale : Domain\n",
      "          1 :     0 :   0.0 :     1 : False : False : Binary\n",
      "          2 :     0 :   0.0 :     1 : False : False : Binary\n",
      "          3 :     0 :   1.0 :     1 : False : False : Binary\n",
      "          4 :     0 :   1.0 :     1 : False : False : Binary\n",
      "          5 :     0 :   1.0 :     1 : False : False : Binary\n",
      "          6 :     0 :   1.0 :     1 : False : False : Binary\n",
      "          7 :     0 :   1.0 :     1 : False : False : Binary\n",
      "          8 :     0 :   1.0 :     1 : False : False : Binary\n",
      "          9 :     0 :   0.0 :     1 : False : False : Binary\n",
      "         10 :     0 :   0.0 :     1 : False : False : Binary\n",
      "         11 :     0 :   0.0 :     1 : False : False : Binary\n",
      "         12 :     0 :   1.0 :     1 : False : False : Binary\n",
      "         13 :     0 :   1.0 :     1 : False : False : Binary\n",
      "         14 :     0 :   1.0 :     1 : False : False : Binary\n",
      "         15 :     0 :   1.0 :     1 : False : False : Binary\n",
      "\n",
      "  Objectives:\n",
      "    profit : Size=1, Index=None, Active=True\n",
      "        Key  : Active : Value\n",
      "        None :   True : 43000.0\n",
      "\n",
      "  Constraints:\n",
      "    cons : Size=5\n",
      "        Key : Lower : Body   : Upper\n",
      "          1 :  None : 3310.0 : 3500.0\n",
      "          2 :  None : 4270.0 : 4500.0\n",
      "          3 :  None : 3140.0 : 4000.0\n",
      "          4 :  None : 3310.0 : 3450.0\n",
      "          5 :  None : 4140.0 : 4500.0\n"
     ]
    },
    {
     "name": "stderr",
     "output_type": "stream",
     "text": [
      "C:\\Users\\katie\\AppData\\Local\\Temp\\ipykernel_11460\\1625696577.py:8: DeprecationWarning: Calling np.sum(generator) is deprecated, and in the future will give a different result. Use np.sum(np.fromiter(generator)) or the python sum builtin instead.\n",
      "  model.profit = Objective(expr = sum(model.dv_ProjectSelection[p]*ProjectSelectionprofit.loc['Profit',p]for p in P_ProjectSelection), sense = maximize)\n",
      "C:\\Users\\katie\\AppData\\Local\\Temp\\ipykernel_11460\\1625696577.py:15: DeprecationWarning: Calling np.sum(generator) is deprecated, and in the future will give a different result. Use np.sum(np.fromiter(generator)) or the python sum builtin instead.\n",
      "  model.cons.add(sum(model.dv_ProjectSelection[p]*ProjectSelectiondata.loc[i,p] for p in P_ProjectSelection) <= ProjectSelectiondata.loc[i, 'Funds'])\n"
     ]
    }
   ],
   "source": [
    "model = ConcreteModel(\"Project Selection\")\n",
    "\n",
    "## everything has the full name project selection because python was confusing this \"ps\" for the ps in production scheduling\n",
    "P_ProjectSelection = ProjectSelectionprofit.keys()\n",
    "\n",
    "model.dv_ProjectSelection = Var(P_ProjectSelection, domain=Binary)\n",
    "\n",
    "model.profit = Objective(expr = sum(model.dv_ProjectSelection[p]*ProjectSelectionprofit.loc['Profit',p]for p in P_ProjectSelection), sense = maximize)\n",
    "\n",
    "I_ProjectSelection=ProjectSelectiondata.index\n",
    "\n",
    "model.cons = ConstraintList()\n",
    "\n",
    "for i in I_ProjectSelection:\n",
    "    model.cons.add(sum(model.dv_ProjectSelection[p]*ProjectSelectiondata.loc[i,p] for p in P_ProjectSelection) <= ProjectSelectiondata.loc[i, 'Funds'])\n",
    "\n",
    "SolverFactory('glpk').solve(model)\n",
    "model.display()"
   ]
  },
  {
   "cell_type": "markdown",
   "id": "b6c54980-4599-409a-93a1-224b63bc878c",
   "metadata": {},
   "source": [
    "### Production Scheduling "
   ]
  },
  {
   "cell_type": "markdown",
   "id": "a634f985-482f-4e26-b0a6-e4e3c2097401",
   "metadata": {},
   "source": [
    "##### Problem Description:"
   ]
  },
  {
   "cell_type": "code",
   "execution_count": null,
   "id": "a9ed3706-3cfb-4c5f-b44d-6adf7986d02d",
   "metadata": {},
   "outputs": [],
   "source": [
    "##write each constraint out as a separate line of code each "
   ]
  },
  {
   "cell_type": "code",
   "execution_count": null,
   "id": "c1364ed3-8502-4a2c-bbb3-31234baaf106",
   "metadata": {},
   "outputs": [],
   "source": [
    "##DVs: How many printer cases to manufacture M-100 and how many to manufacture with M-200.\n",
    "##Objective: max profit = Revenue ($18/machine) - $50/hour M-100 and $75/hour M-200 - $6 per lb matrl\n",
    "\n",
    "##STs: \n",
    "#M-100 capacity: 25 cases/hr\n",
    "#M-200 capacity: 40 cases/hr\n",
    "\n",
    "#M-100 requires 40lbs mtrl/hr\n",
    "#M-200 requires 50lbs mtrl/hr\n",
    "\n",
    "#M-100 time <= 15 hours \n",
    "#M-200 time <= 10 hours \n",
    "#if either machine runs, must run >= 5 hours \n",
    "\n",
    "#matrl capacity: 1000lbs"
   ]
  },
  {
   "cell_type": "code",
   "execution_count": 45,
   "id": "1dd38843-1f0f-489d-af6a-374e9cd7556b",
   "metadata": {
    "tags": []
   },
   "outputs": [
    {
     "name": "stdout",
     "output_type": "stream",
     "text": [
      "Model Production Scheduling\n",
      "\n",
      "  Variables:\n",
      "    m100 : Size=1, Index=None\n",
      "        Key  : Lower : Value : Upper : Fixed : Stale : Domain\n",
      "        None :     0 : 312.0 :  None : False : False : NonNegativeIntegers\n",
      "    m200 : Size=1, Index=None\n",
      "        Key  : Lower : Value : Upper : Fixed : Stale : Domain\n",
      "        None :     0 : 400.0 :  None : False : False : NonNegativeIntegers\n",
      "\n",
      "  Objectives:\n",
      "    revenue : Size=1, Index=None, Active=True\n",
      "        Key  : Active : Value\n",
      "        None :   True : 5446.799999999999\n",
      "\n",
      "  Constraints:\n",
      "    chemcapacity : Size=1\n",
      "        Key  : Lower : Body  : Upper\n",
      "        None :  None : 999.2 : 1000.0\n",
      "    m100maxcases : Size=1\n",
      "        Key  : Lower : Body  : Upper\n",
      "        None :  None : 312.0 : 375.0\n",
      "    m200maxcases : Size=1\n",
      "        Key  : Lower : Body  : Upper\n",
      "        None :  None : 400.0 : 400.0\n"
     ]
    }
   ],
   "source": [
    "model = ConcreteModel(\"Production Scheduling\")\n",
    "\n",
    "model.m100 = Var(domain=NonNegativeIntegers) ##number cases to produce with M100\n",
    "model.m200 = Var(domain=NonNegativeIntegers) ##number cases to produce with M200\n",
    "\n",
    "model.revenue = Objective(expr = (18*model.m100 + 18*model.m200)-(2*model.m100 + 1.875*model.m200)-(1.6*model.m100*6 + 1.25*model.m200*6), sense=maximize)\n",
    "\n",
    "##chemical capacity constraint: convert to \n",
    "model.chemcapacity = Constraint(expr = 1.6*model.m100 + 1.25*model.m200 <=1000)\n",
    "\n",
    "##machine running time constraints: convert to max no. cases produced\n",
    "model.m100maxcases= Constraint(expr = model.m100 <=375)\n",
    "model.m200maxcases = Constraint(expr = model.m200 <=400)\n",
    "\n",
    "SolverFactory('glpk').solve(model)\n",
    "model.display()"
   ]
  },
  {
   "cell_type": "markdown",
   "id": "5d3e3442-f87c-4e1f-bca2-dab5b9082801",
   "metadata": {},
   "source": [
    "### Assembly Line Equipment"
   ]
  },
  {
   "cell_type": "markdown",
   "id": "070e44de-5ecd-4ace-823d-4d8218008b2b",
   "metadata": {},
   "source": [
    "##### Problem Description:"
   ]
  },
  {
   "cell_type": "code",
   "execution_count": 46,
   "id": "e817e027-397d-4fdd-9556-1d0ad700e15d",
   "metadata": {
    "tags": []
   },
   "outputs": [],
   "source": [
    "##DVs: how many RoboI, RoboII, and RoboIII machines to buy\n",
    "##Objective: minimize cost = sum(# each machine * respective purchase price)\n",
    "##ST: must meet demand of casing stampings for each type of casing. each Robo machine can stamp certain # of each casing type "
   ]
  },
  {
   "cell_type": "code",
   "execution_count": 48,
   "id": "e684b525-1041-4604-8d0a-fc0d4145f43e",
   "metadata": {
    "tags": []
   },
   "outputs": [],
   "source": [
    "ALEcost = pd.read_excel(\"Portfolio3Data.xlsx\", sheet_name=\"ALECost\", index_col=0)\n",
    "ALEdata = pd.read_excel(\"Portfolio3Data.xlsx\", sheet_name=\"ALEData\", index_col=0)"
   ]
  },
  {
   "cell_type": "code",
   "execution_count": 49,
   "id": "571dce61-42ae-46c4-bac8-3d6e85a71d52",
   "metadata": {
    "tags": []
   },
   "outputs": [
    {
     "data": {
      "text/html": [
       "<div>\n",
       "<style scoped>\n",
       "    .dataframe tbody tr th:only-of-type {\n",
       "        vertical-align: middle;\n",
       "    }\n",
       "\n",
       "    .dataframe tbody tr th {\n",
       "        vertical-align: top;\n",
       "    }\n",
       "\n",
       "    .dataframe thead th {\n",
       "        text-align: right;\n",
       "    }\n",
       "</style>\n",
       "<table border=\"1\" class=\"dataframe\">\n",
       "  <thead>\n",
       "    <tr style=\"text-align: right;\">\n",
       "      <th></th>\n",
       "      <th>RoboI</th>\n",
       "      <th>RoboII</th>\n",
       "      <th>RoboIII</th>\n",
       "    </tr>\n",
       "  </thead>\n",
       "  <tbody>\n",
       "    <tr>\n",
       "      <th>Cost</th>\n",
       "      <td>18500</td>\n",
       "      <td>25000</td>\n",
       "      <td>35000</td>\n",
       "    </tr>\n",
       "  </tbody>\n",
       "</table>\n",
       "</div>"
      ],
      "text/plain": [
       "      RoboI  RoboII  RoboIII\n",
       "Cost  18500   25000    35000"
      ]
     },
     "execution_count": 49,
     "metadata": {},
     "output_type": "execute_result"
    }
   ],
   "source": [
    "ALEcost"
   ]
  },
  {
   "cell_type": "code",
   "execution_count": 50,
   "id": "01fe29cd-248c-4713-a999-0391cb3a3f82",
   "metadata": {
    "tags": []
   },
   "outputs": [
    {
     "data": {
      "text/html": [
       "<div>\n",
       "<style scoped>\n",
       "    .dataframe tbody tr th:only-of-type {\n",
       "        vertical-align: middle;\n",
       "    }\n",
       "\n",
       "    .dataframe tbody tr th {\n",
       "        vertical-align: top;\n",
       "    }\n",
       "\n",
       "    .dataframe thead th {\n",
       "        text-align: right;\n",
       "    }\n",
       "</style>\n",
       "<table border=\"1\" class=\"dataframe\">\n",
       "  <thead>\n",
       "    <tr style=\"text-align: right;\">\n",
       "      <th></th>\n",
       "      <th>RoboI</th>\n",
       "      <th>RoboII</th>\n",
       "      <th>RoboIII</th>\n",
       "      <th>Demand</th>\n",
       "    </tr>\n",
       "  </thead>\n",
       "  <tbody>\n",
       "    <tr>\n",
       "      <th>Type 1</th>\n",
       "      <td>100</td>\n",
       "      <td>265</td>\n",
       "      <td>200</td>\n",
       "      <td>3200</td>\n",
       "    </tr>\n",
       "    <tr>\n",
       "      <th>Type 2</th>\n",
       "      <td>130</td>\n",
       "      <td>235</td>\n",
       "      <td>160</td>\n",
       "      <td>2500</td>\n",
       "    </tr>\n",
       "    <tr>\n",
       "      <th>Type 3</th>\n",
       "      <td>140</td>\n",
       "      <td>170</td>\n",
       "      <td>260</td>\n",
       "      <td>3500</td>\n",
       "    </tr>\n",
       "    <tr>\n",
       "      <th>Type 4</th>\n",
       "      <td>210</td>\n",
       "      <td>220</td>\n",
       "      <td>180</td>\n",
       "      <td>3000</td>\n",
       "    </tr>\n",
       "    <tr>\n",
       "      <th>Type 5</th>\n",
       "      <td>80</td>\n",
       "      <td>120</td>\n",
       "      <td>220</td>\n",
       "      <td>2500</td>\n",
       "    </tr>\n",
       "  </tbody>\n",
       "</table>\n",
       "</div>"
      ],
      "text/plain": [
       "        RoboI  RoboII  RoboIII  Demand\n",
       "Type 1    100     265      200    3200\n",
       "Type 2    130     235      160    2500\n",
       "Type 3    140     170      260    3500\n",
       "Type 4    210     220      180    3000\n",
       "Type 5     80     120      220    2500"
      ]
     },
     "execution_count": 50,
     "metadata": {},
     "output_type": "execute_result"
    }
   ],
   "source": [
    "ALEdata"
   ]
  },
  {
   "cell_type": "code",
   "execution_count": 66,
   "id": "8d51326e-7039-4f5d-87a1-215f84f1127e",
   "metadata": {
    "tags": []
   },
   "outputs": [
    {
     "name": "stdout",
     "output_type": "stream",
     "text": [
      "Model Assembly Line Equipment\n",
      "\n",
      "  Variables:\n",
      "    dv_ale : Size=3, Index={RoboII, RoboI, RoboIII}\n",
      "        Key     : Lower : Value : Upper : Fixed : Stale : Domain\n",
      "          RoboI :     0 :   6.0 :  None : False : False : NonNegativeIntegers\n",
      "         RoboII :     0 :   5.0 :  None : False : False : NonNegativeIntegers\n",
      "        RoboIII :     0 :   7.0 :  None : False : False : NonNegativeIntegers\n",
      "\n",
      "  Objectives:\n",
      "    cost : Size=1, Index=None, Active=True\n",
      "        Key  : Active : Value\n",
      "        None :   True : 481000.0\n",
      "\n",
      "  Constraints:\n",
      "    cons : Size=5\n",
      "        Key : Lower  : Body   : Upper\n",
      "          1 : 3200.0 : 3325.0 :  None\n",
      "          2 : 2500.0 : 3075.0 :  None\n",
      "          3 : 3500.0 : 3510.0 :  None\n",
      "          4 : 3000.0 : 3620.0 :  None\n",
      "          5 : 2500.0 : 2620.0 :  None\n"
     ]
    }
   ],
   "source": [
    "model = ConcreteModel(\"Assembly Line Equipment\")\n",
    "\n",
    "##pulling column names of cost table\n",
    "C_ale = ALEcost.keys()\n",
    "\n",
    "##declaring decision variables\n",
    "model.dv_ale = Var(C_ale, domain=NonNegativeIntegers)\n",
    "\n",
    "##objective function: minimize cost of buying machines\n",
    "model.cost = Objective(expr = sum([model.dv_ale[c]*ALEcost.loc['Cost',c]for c in C_ale]), sense = minimize)\n",
    "\n",
    "\n",
    "I_ale=ALEdata.index\n",
    "\n",
    "model.cons = ConstraintList()\n",
    "\n",
    "for i in I_ale:\n",
    "    model.cons.add(sum(model.dv_ale[c]*ALEdata.loc[i,c] for c in C_ale) >= ALEdata.loc[i,'Demand'])\n",
    "\n",
    "SolverFactory('glpk').solve(model)\n",
    "model.display()"
   ]
  },
  {
   "cell_type": "markdown",
   "id": "141fa5a9-87fb-419c-b728-511e255ce27d",
   "metadata": {},
   "source": [
    "### Manufacturing and Distribution"
   ]
  },
  {
   "cell_type": "markdown",
   "id": "93c93788-9a50-4c72-91be-2845c5d5d0ff",
   "metadata": {},
   "source": [
    "##### Problem Description"
   ]
  },
  {
   "cell_type": "code",
   "execution_count": 67,
   "id": "8ba186ce-1c9a-42f4-bfd9-edd340637692",
   "metadata": {
    "tags": []
   },
   "outputs": [],
   "source": [
    "##Business Decision: How many locks should be manufactured at each location and where should they be shipped?\n",
    "##Decision Variables: How many locks to be shipped between each plant-distributor pair? 28 total decision variables \n",
    "##Objective: Minimize cost, which is a function of the manufacturing costs and the shipping costs \n",
    "##ST: meet at least 80% of distributor demand, don't exceed plant capacity "
   ]
  },
  {
   "cell_type": "code",
   "execution_count": null,
   "id": "9c6f4a35-10c1-49c9-b404-328d4fe03da5",
   "metadata": {},
   "outputs": [],
   "source": [
    "## this is different that network flow because materials can only flow one way through the pipeline"
   ]
  },
  {
   "cell_type": "code",
   "execution_count": 3,
   "id": "5383d1f1-3c4e-41e5-af44-be5b38fe538a",
   "metadata": {
    "tags": []
   },
   "outputs": [],
   "source": [
    "MDprofit = pd.read_excel(\"Portfolio3Data.xlsx\", sheet_name=\"M&DCosts\", index_col=0)\n",
    "MDcap = pd.read_excel(\"Portfolio3Data.xlsx\", sheet_name=\"M&DCap\", index_col=0)\n",
    "MDdemand = pd.read_excel(\"Portfolio3Data.xlsx\", sheet_name=\"M&DDemand\", index_col=0)"
   ]
  },
  {
   "cell_type": "code",
   "execution_count": 4,
   "id": "acc12514-3871-43e6-ba63-05051813617a",
   "metadata": {
    "tags": []
   },
   "outputs": [
    {
     "data": {
      "text/html": [
       "<div>\n",
       "<style scoped>\n",
       "    .dataframe tbody tr th:only-of-type {\n",
       "        vertical-align: middle;\n",
       "    }\n",
       "\n",
       "    .dataframe tbody tr th {\n",
       "        vertical-align: top;\n",
       "    }\n",
       "\n",
       "    .dataframe thead th {\n",
       "        text-align: right;\n",
       "    }\n",
       "</style>\n",
       "<table border=\"1\" class=\"dataframe\">\n",
       "  <thead>\n",
       "    <tr style=\"text-align: right;\">\n",
       "      <th></th>\n",
       "      <th>Tacoma</th>\n",
       "      <th>San Diego</th>\n",
       "      <th>Dallas</th>\n",
       "      <th>Denver</th>\n",
       "      <th>St. Louis</th>\n",
       "      <th>Tampa</th>\n",
       "      <th>Baltimore</th>\n",
       "    </tr>\n",
       "  </thead>\n",
       "  <tbody>\n",
       "    <tr>\n",
       "      <th>Macon</th>\n",
       "      <td>2.50</td>\n",
       "      <td>2.75</td>\n",
       "      <td>1.75</td>\n",
       "      <td>2.00</td>\n",
       "      <td>2.1</td>\n",
       "      <td>1.80</td>\n",
       "      <td>1.65</td>\n",
       "    </tr>\n",
       "    <tr>\n",
       "      <th>Louisville</th>\n",
       "      <td>1.85</td>\n",
       "      <td>1.90</td>\n",
       "      <td>1.50</td>\n",
       "      <td>1.60</td>\n",
       "      <td>1.0</td>\n",
       "      <td>1.90</td>\n",
       "      <td>1.85</td>\n",
       "    </tr>\n",
       "    <tr>\n",
       "      <th>Detroit</th>\n",
       "      <td>2.30</td>\n",
       "      <td>2.25</td>\n",
       "      <td>1.85</td>\n",
       "      <td>1.25</td>\n",
       "      <td>1.5</td>\n",
       "      <td>2.25</td>\n",
       "      <td>2.00</td>\n",
       "    </tr>\n",
       "    <tr>\n",
       "      <th>Phoenix</th>\n",
       "      <td>1.90</td>\n",
       "      <td>0.90</td>\n",
       "      <td>1.60</td>\n",
       "      <td>1.75</td>\n",
       "      <td>2.0</td>\n",
       "      <td>2.50</td>\n",
       "      <td>2.65</td>\n",
       "    </tr>\n",
       "  </tbody>\n",
       "</table>\n",
       "</div>"
      ],
      "text/plain": [
       "            Tacoma  San Diego  Dallas  Denver  St. Louis  Tampa  Baltimore\n",
       "Macon         2.50       2.75    1.75    2.00        2.1   1.80       1.65\n",
       "Louisville    1.85       1.90    1.50    1.60        1.0   1.90       1.85\n",
       "Detroit       2.30       2.25    1.85    1.25        1.5   2.25       2.00\n",
       "Phoenix       1.90       0.90    1.60    1.75        2.0   2.50       2.65"
      ]
     },
     "execution_count": 4,
     "metadata": {},
     "output_type": "execute_result"
    }
   ],
   "source": [
    "MDprofit"
   ]
  },
  {
   "cell_type": "code",
   "execution_count": 5,
   "id": "7d124ef6-91bd-4143-b879-bf35d2a83cd3",
   "metadata": {
    "tags": []
   },
   "outputs": [
    {
     "data": {
      "text/html": [
       "<div>\n",
       "<style scoped>\n",
       "    .dataframe tbody tr th:only-of-type {\n",
       "        vertical-align: middle;\n",
       "    }\n",
       "\n",
       "    .dataframe tbody tr th {\n",
       "        vertical-align: top;\n",
       "    }\n",
       "\n",
       "    .dataframe thead th {\n",
       "        text-align: right;\n",
       "    }\n",
       "</style>\n",
       "<table border=\"1\" class=\"dataframe\">\n",
       "  <thead>\n",
       "    <tr style=\"text-align: right;\">\n",
       "      <th></th>\n",
       "      <th>Capacity</th>\n",
       "      <th>Cost/Unit</th>\n",
       "    </tr>\n",
       "  </thead>\n",
       "  <tbody>\n",
       "    <tr>\n",
       "      <th>Macon</th>\n",
       "      <td>18000</td>\n",
       "      <td>35.50</td>\n",
       "    </tr>\n",
       "    <tr>\n",
       "      <th>Louisville</th>\n",
       "      <td>15000</td>\n",
       "      <td>37.50</td>\n",
       "    </tr>\n",
       "    <tr>\n",
       "      <th>Detroit</th>\n",
       "      <td>25000</td>\n",
       "      <td>39.00</td>\n",
       "    </tr>\n",
       "    <tr>\n",
       "      <th>Phoenix</th>\n",
       "      <td>20000</td>\n",
       "      <td>36.25</td>\n",
       "    </tr>\n",
       "  </tbody>\n",
       "</table>\n",
       "</div>"
      ],
      "text/plain": [
       "            Capacity  Cost/Unit\n",
       "Macon          18000      35.50\n",
       "Louisville     15000      37.50\n",
       "Detroit        25000      39.00\n",
       "Phoenix        20000      36.25"
      ]
     },
     "execution_count": 5,
     "metadata": {},
     "output_type": "execute_result"
    }
   ],
   "source": [
    "MDcap"
   ]
  },
  {
   "cell_type": "code",
   "execution_count": 6,
   "id": "b9812997-7a13-4575-8bf0-0378d965f0c5",
   "metadata": {
    "tags": []
   },
   "outputs": [
    {
     "data": {
      "text/html": [
       "<div>\n",
       "<style scoped>\n",
       "    .dataframe tbody tr th:only-of-type {\n",
       "        vertical-align: middle;\n",
       "    }\n",
       "\n",
       "    .dataframe tbody tr th {\n",
       "        vertical-align: top;\n",
       "    }\n",
       "\n",
       "    .dataframe thead th {\n",
       "        text-align: right;\n",
       "    }\n",
       "</style>\n",
       "<table border=\"1\" class=\"dataframe\">\n",
       "  <thead>\n",
       "    <tr style=\"text-align: right;\">\n",
       "      <th></th>\n",
       "      <th>Tacoma</th>\n",
       "      <th>San Diego</th>\n",
       "      <th>Dallas</th>\n",
       "      <th>Denver</th>\n",
       "      <th>St. Louis</th>\n",
       "      <th>Tampa</th>\n",
       "      <th>Baltimore</th>\n",
       "    </tr>\n",
       "  </thead>\n",
       "  <tbody>\n",
       "    <tr>\n",
       "      <th>Demand</th>\n",
       "      <td>6800</td>\n",
       "      <td>11600</td>\n",
       "      <td>10800</td>\n",
       "      <td>10080</td>\n",
       "      <td>14400</td>\n",
       "      <td>12000</td>\n",
       "      <td>7200</td>\n",
       "    </tr>\n",
       "  </tbody>\n",
       "</table>\n",
       "</div>"
      ],
      "text/plain": [
       "        Tacoma  San Diego  Dallas  Denver  St. Louis  Tampa  Baltimore\n",
       "Demand    6800      11600   10800   10080      14400  12000       7200"
      ]
     },
     "execution_count": 6,
     "metadata": {},
     "output_type": "execute_result"
    }
   ],
   "source": [
    "MDdemand"
   ]
  },
  {
   "cell_type": "code",
   "execution_count": 7,
   "id": "f8e68555-4fab-4bf5-8c15-f1ab28722f8e",
   "metadata": {
    "tags": []
   },
   "outputs": [
    {
     "name": "stdout",
     "output_type": "stream",
     "text": [
      "Model Manufacturing and Distribution\n",
      "\n",
      "  Variables:\n",
      "    dv_md : Size=28, Index={Louisville, Detroit, Macon, Phoenix}*{Denver, Tampa, Baltimore, St. Louis, San Diego, Tacoma, Dallas}\n",
      "        Key                         : Lower : Value   : Upper : Fixed : Stale : Domain\n",
      "           ('Detroit', 'Baltimore') :     0 :  1200.0 :  None : False : False : NonNegativeIntegers\n",
      "              ('Detroit', 'Dallas') :     0 :  8600.0 :  None : False : False : NonNegativeIntegers\n",
      "              ('Detroit', 'Denver') :     0 : 10080.0 :  None : False : False : NonNegativeIntegers\n",
      "           ('Detroit', 'San Diego') :     0 :     0.0 :  None : False : False : NonNegativeIntegers\n",
      "           ('Detroit', 'St. Louis') :     0 :     0.0 :  None : False : False : NonNegativeIntegers\n",
      "              ('Detroit', 'Tacoma') :     0 :     0.0 :  None : False : False : NonNegativeIntegers\n",
      "               ('Detroit', 'Tampa') :     0 :     0.0 :  None : False : False : NonNegativeIntegers\n",
      "        ('Louisville', 'Baltimore') :     0 :     0.0 :  None : False : False : NonNegativeIntegers\n",
      "           ('Louisville', 'Dallas') :     0 :   600.0 :  None : False : False : NonNegativeIntegers\n",
      "           ('Louisville', 'Denver') :     0 :     0.0 :  None : False : False : NonNegativeIntegers\n",
      "        ('Louisville', 'San Diego') :     0 :     0.0 :  None : False : False : NonNegativeIntegers\n",
      "        ('Louisville', 'St. Louis') :     0 : 14400.0 :  None : False : False : NonNegativeIntegers\n",
      "           ('Louisville', 'Tacoma') :     0 :     0.0 :  None : False : False : NonNegativeIntegers\n",
      "            ('Louisville', 'Tampa') :     0 :     0.0 :  None : False : False : NonNegativeIntegers\n",
      "             ('Macon', 'Baltimore') :     0 :  6000.0 :  None : False : False : NonNegativeIntegers\n",
      "                ('Macon', 'Dallas') :     0 :     0.0 :  None : False : False : NonNegativeIntegers\n",
      "                ('Macon', 'Denver') :     0 :     0.0 :  None : False : False : NonNegativeIntegers\n",
      "             ('Macon', 'San Diego') :     0 :     0.0 :  None : False : False : NonNegativeIntegers\n",
      "             ('Macon', 'St. Louis') :     0 :     0.0 :  None : False : False : NonNegativeIntegers\n",
      "                ('Macon', 'Tacoma') :     0 :     0.0 :  None : False : False : NonNegativeIntegers\n",
      "                 ('Macon', 'Tampa') :     0 : 12000.0 :  None : False : False : NonNegativeIntegers\n",
      "           ('Phoenix', 'Baltimore') :     0 :     0.0 :  None : False : False : NonNegativeIntegers\n",
      "              ('Phoenix', 'Dallas') :     0 :  1600.0 :  None : False : False : NonNegativeIntegers\n",
      "              ('Phoenix', 'Denver') :     0 :     0.0 :  None : False : False : NonNegativeIntegers\n",
      "           ('Phoenix', 'San Diego') :     0 : 11600.0 :  None : False : False : NonNegativeIntegers\n",
      "           ('Phoenix', 'St. Louis') :     0 :     0.0 :  None : False : False : NonNegativeIntegers\n",
      "              ('Phoenix', 'Tacoma') :     0 :  6800.0 :  None : False : False : NonNegativeIntegers\n",
      "               ('Phoenix', 'Tampa') :     0 :     0.0 :  None : False : False : NonNegativeIntegers\n",
      "\n",
      "  Objectives:\n",
      "    cost : Size=1, Index=None, Active=True\n",
      "        Key  : Active : Value\n",
      "        None :   True : 2805450.0\n",
      "\n",
      "  Constraints:\n",
      "    cons : Size=11\n",
      "        Key : Lower   : Body    : Upper\n",
      "          1 :    None : 18000.0 : 18000.0\n",
      "          2 :    None : 15000.0 : 15000.0\n",
      "          3 :    None : 19880.0 : 25000.0\n",
      "          4 :    None : 20000.0 : 20000.0\n",
      "          5 :  6800.0 :  6800.0 :    None\n",
      "          6 : 11600.0 : 11600.0 :    None\n",
      "          7 : 10800.0 : 10800.0 :    None\n",
      "          8 : 10080.0 : 10080.0 :    None\n",
      "          9 : 14400.0 : 14400.0 :    None\n",
      "         10 : 12000.0 : 12000.0 :    None\n",
      "         11 :  7200.0 :  7200.0 :    None\n"
     ]
    },
    {
     "name": "stderr",
     "output_type": "stream",
     "text": [
      "C:\\Users\\katie\\AppData\\Local\\Temp\\ipykernel_11460\\3745232960.py:25: DeprecationWarning: Calling np.sum(generator) is deprecated, and in the future will give a different result. Use np.sum(np.fromiter(generator)) or the python sum builtin instead.\n",
      "  sum([sum(model.dv_md[p,d] * MDprofit.loc[p,d] for d in D_md for p in P_md) + sum(sum(model.dv_md[p,d] for d in D_md) * MDcap.loc[p, 'Cost/Unit'] for p in P_md)]), sense = minimize)\n",
      "C:\\Users\\katie\\AppData\\Local\\Temp\\ipykernel_11460\\3745232960.py:25: DeprecationWarning: Calling np.sum(generator) is deprecated, and in the future will give a different result. Use np.sum(np.fromiter(generator)) or the python sum builtin instead.\n",
      "  sum([sum(model.dv_md[p,d] * MDprofit.loc[p,d] for d in D_md for p in P_md) + sum(sum(model.dv_md[p,d] for d in D_md) * MDcap.loc[p, 'Cost/Unit'] for p in P_md)]), sense = minimize)\n",
      "C:\\Users\\katie\\AppData\\Local\\Temp\\ipykernel_11460\\3745232960.py:32: DeprecationWarning: Calling np.sum(generator) is deprecated, and in the future will give a different result. Use np.sum(np.fromiter(generator)) or the python sum builtin instead.\n",
      "  model.cons.add(sum(model.dv_md[p,d] for d in D_md) <= MDcap.loc[p, 'Capacity'])\n",
      "C:\\Users\\katie\\AppData\\Local\\Temp\\ipykernel_11460\\3745232960.py:36: DeprecationWarning: Calling np.sum(generator) is deprecated, and in the future will give a different result. Use np.sum(np.fromiter(generator)) or the python sum builtin instead.\n",
      "  model.cons.add(sum(model.dv_md[p,d] for p in P_md) >= MDdemand.loc['Demand',d])\n"
     ]
    }
   ],
   "source": [
    "model = ConcreteModel(\"Manufacturing and Distribution\")\n",
    "\n",
    "P_md = MDprofit.index\n",
    "D_md = MDprofit.keys()\n",
    "\n",
    "##Declare the DVs\n",
    "model.dv_md = Var(P_md,D_md,domain=NonNegativeIntegers)\n",
    "\n",
    "##Objective Function\n",
    "\n",
    "##manufacturing cost\n",
    "#first add all DVS in a row\n",
    "#second multiply that value by the cost\n",
    "#third add up all those values \n",
    "\n",
    "#sum(sum([(model.dv_MD[p,d] for d in D) * (cap.loc[p,'Cost/Unit'] for p in P)]))\n",
    "    \n",
    "## shipping cost\n",
    "#sum([(model.dv_MD[p,d]) * (profit.loc[p,d] for p in P for d in D)])\n",
    "\n",
    "#model.cost = Objective(expr = sum([sum(sum(model.dv_MD[p,d] for d in D) * cap.loc[p,'Cost/Unit'] for p in P)]) + \n",
    "                                  #sum([(model.dv_MD[p,d])*(profit.loc[p,d] for p in P for d in D)]), sense = minimize)\n",
    "\n",
    "model.cost = Objective(expr = \n",
    "                       sum([\n",
    "                           sum(\n",
    "                               model.dv_md[p,d] * \n",
    "                               MDprofit.loc[p,d] \n",
    "                               for d in D_md for p in P_md\n",
    "                           ) + \n",
    "                           sum(\n",
    "                               sum(\n",
    "                                   model.dv_md[p,d] for d in D_md\n",
    "                               ) * \n",
    "                               MDcap.loc[p, 'Cost/Unit'] for p in P_md\n",
    "                           )\n",
    "                       ]), sense = minimize)\n",
    "                       \n",
    "## constraints\n",
    "model.cons = ConstraintList()\n",
    "\n",
    "# capacity constraint\n",
    "for p in P_md:\n",
    "    model.cons.add(sum(model.dv_md[p,d] for d in D_md) <= MDcap.loc[p, 'Capacity'])\n",
    "\n",
    "#demand constraint\n",
    "for d in D_md:\n",
    "    model.cons.add(sum(model.dv_md[p,d] for p in P_md) >= MDdemand.loc['Demand',d]) \n",
    "    \n",
    "## for every city, sum across the plants for the city\n",
    "## we can only reference the DVs as a matrix\n",
    "SolverFactory('glpk').solve(model)\n",
    "model.display()\n"
   ]
  },
  {
   "cell_type": "markdown",
   "id": "e08ad340-bcec-4564-b407-33b8756c1992",
   "metadata": {},
   "source": [
    "### Crushing More Rocks"
   ]
  },
  {
   "cell_type": "markdown",
   "id": "b23ca077-4c0d-43ae-8ba0-eb3fc2234e76",
   "metadata": {},
   "source": [
    "##### Problem Description"
   ]
  },
  {
   "cell_type": "code",
   "execution_count": null,
   "id": "09be080e-3f46-480f-8ecf-2f338b6ee8f4",
   "metadata": {},
   "outputs": [],
   "source": [
    "#Decision Variables: tons of fine, medium, and coarse rock to process\n",
    "#Objective: minimize cost \n",
    "#ST: material composition requirements for fine, medium, and coarse rock, max available material type, if we use a setting must produce at least 50 tons "
   ]
  },
  {
   "cell_type": "code",
   "execution_count": 12,
   "id": "e26da6d5-28c8-4e46-81f7-a4db5cd0ca3b",
   "metadata": {
    "tags": []
   },
   "outputs": [],
   "source": [
    "CMRcost = pd.read_excel(\"Portfolio3Data.xlsx\", sheet_name=\"CMRCost\", index_col=0)\n",
    "CMRdata = pd.read_excel(\"Portfolio3Data.xlsx\", sheet_name=\"CMRData\", index_col=0)"
   ]
  },
  {
   "cell_type": "code",
   "execution_count": 13,
   "id": "eb1c31f3-ae55-4f42-87c0-b3d0a4aabe34",
   "metadata": {
    "tags": []
   },
   "outputs": [
    {
     "data": {
      "text/html": [
       "<div>\n",
       "<style scoped>\n",
       "    .dataframe tbody tr th:only-of-type {\n",
       "        vertical-align: middle;\n",
       "    }\n",
       "\n",
       "    .dataframe tbody tr th {\n",
       "        vertical-align: top;\n",
       "    }\n",
       "\n",
       "    .dataframe thead th {\n",
       "        text-align: right;\n",
       "    }\n",
       "</style>\n",
       "<table border=\"1\" class=\"dataframe\">\n",
       "  <thead>\n",
       "    <tr style=\"text-align: right;\">\n",
       "      <th></th>\n",
       "      <th>Cost</th>\n",
       "    </tr>\n",
       "  </thead>\n",
       "  <tbody>\n",
       "    <tr>\n",
       "      <th>Fine</th>\n",
       "      <td>8</td>\n",
       "    </tr>\n",
       "    <tr>\n",
       "      <th>Medium</th>\n",
       "      <td>5</td>\n",
       "    </tr>\n",
       "    <tr>\n",
       "      <th>Coarse</th>\n",
       "      <td>3</td>\n",
       "    </tr>\n",
       "  </tbody>\n",
       "</table>\n",
       "</div>"
      ],
      "text/plain": [
       "        Cost\n",
       "Fine       8\n",
       "Medium     5\n",
       "Coarse     3"
      ]
     },
     "execution_count": 13,
     "metadata": {},
     "output_type": "execute_result"
    }
   ],
   "source": [
    "CMRcost"
   ]
  },
  {
   "cell_type": "code",
   "execution_count": 14,
   "id": "c44b995b-7670-423b-8947-3f812af49759",
   "metadata": {
    "tags": []
   },
   "outputs": [
    {
     "data": {
      "text/html": [
       "<div>\n",
       "<style scoped>\n",
       "    .dataframe tbody tr th:only-of-type {\n",
       "        vertical-align: middle;\n",
       "    }\n",
       "\n",
       "    .dataframe tbody tr th {\n",
       "        vertical-align: top;\n",
       "    }\n",
       "\n",
       "    .dataframe thead th {\n",
       "        text-align: right;\n",
       "    }\n",
       "</style>\n",
       "<table border=\"1\" class=\"dataframe\">\n",
       "  <thead>\n",
       "    <tr style=\"text-align: right;\">\n",
       "      <th></th>\n",
       "      <th>Limestone</th>\n",
       "      <th>Chat</th>\n",
       "      <th>Redi-Mix</th>\n",
       "      <th>Rough</th>\n",
       "    </tr>\n",
       "  </thead>\n",
       "  <tbody>\n",
       "    <tr>\n",
       "      <th>Fine</th>\n",
       "      <td>0.50</td>\n",
       "      <td>0.3</td>\n",
       "      <td>0.20</td>\n",
       "      <td>0.0</td>\n",
       "    </tr>\n",
       "    <tr>\n",
       "      <th>Medium</th>\n",
       "      <td>0.20</td>\n",
       "      <td>0.4</td>\n",
       "      <td>0.30</td>\n",
       "      <td>0.1</td>\n",
       "    </tr>\n",
       "    <tr>\n",
       "      <th>Coarse</th>\n",
       "      <td>0.05</td>\n",
       "      <td>0.2</td>\n",
       "      <td>0.35</td>\n",
       "      <td>0.4</td>\n",
       "    </tr>\n",
       "    <tr>\n",
       "      <th>Demand</th>\n",
       "      <td>50.00</td>\n",
       "      <td>60.0</td>\n",
       "      <td>70.00</td>\n",
       "      <td>30.0</td>\n",
       "    </tr>\n",
       "  </tbody>\n",
       "</table>\n",
       "</div>"
      ],
      "text/plain": [
       "        Limestone  Chat  Redi-Mix  Rough\n",
       "Fine         0.50   0.3      0.20    0.0\n",
       "Medium       0.20   0.4      0.30    0.1\n",
       "Coarse       0.05   0.2      0.35    0.4\n",
       "Demand      50.00  60.0     70.00   30.0"
      ]
     },
     "execution_count": 14,
     "metadata": {},
     "output_type": "execute_result"
    }
   ],
   "source": [
    "CMRdata"
   ]
  },
  {
   "cell_type": "code",
   "execution_count": 81,
   "id": "5d16736e-adbe-430e-bee2-451a76bedb56",
   "metadata": {
    "tags": []
   },
   "outputs": [],
   "source": [
    "## WHAT IF ANALYSIS: trial #1 - run model without minimum of 50 tons constraint"
   ]
  },
  {
   "cell_type": "code",
   "execution_count": 15,
   "id": "2cccbaeb-5923-4234-bf42-fb2cf5ce6c5d",
   "metadata": {
    "tags": []
   },
   "outputs": [
    {
     "name": "stdout",
     "output_type": "stream",
     "text": [
      "Model Crushing More Rocks\n",
      "\n",
      "  Variables:\n",
      "    dv_cmr : Size=3, Index={Fine, Coarse, Medium}\n",
      "        Key    : Lower : Value : Upper : Fixed : Stale : Domain\n",
      "        Coarse :     0 : 134.0 :  None : False : False : NonNegativeIntegers\n",
      "          Fine :     0 :  76.0 :  None : False : False : NonNegativeIntegers\n",
      "        Medium :     0 :  27.0 :  None : False : False : NonNegativeIntegers\n",
      "\n",
      "  Objectives:\n",
      "    cost : Size=1, Index=None, Active=True\n",
      "        Key  : Active : Value\n",
      "        None :   True : 1145.0\n",
      "\n",
      "  Constraints:\n",
      "    cons : Size=4\n",
      "        Key : Lower : Body               : Upper\n",
      "          1 :  50.0 :               50.1 :  None\n",
      "          2 :  60.0 : 60.400000000000006 :  None\n",
      "          3 :  70.0 :               70.2 :  None\n",
      "          4 :  30.0 : 56.300000000000004 :  None\n"
     ]
    }
   ],
   "source": [
    "model = ConcreteModel(\"Crushing More Rocks\")\n",
    "\n",
    "Cost_cmr = CMRcost.index\n",
    "\n",
    "model.dv_cmr = Var(Cost_cmr, domain=NonNegativeIntegers)\n",
    "\n",
    "model.cost = Objective(expr = sum([model.dv_cmr[c]*CMRcost.loc[c,'Cost']for c in Cost_cmr]), sense = minimize)\n",
    "\n",
    "keys_cmr=CMRdata.keys()\n",
    "\n",
    "model.cons = ConstraintList()\n",
    "\n",
    "for i in keys_cmr:\n",
    "    model.cons.add(sum([model.dv_cmr[c]*CMRdata.loc[c,i] for c in Cost_cmr]) >= CMRdata.loc['Demand',i])\n",
    "\n",
    "SolverFactory('glpk').solve(model)\n",
    "model.display()"
   ]
  },
  {
   "cell_type": "code",
   "execution_count": 82,
   "id": "36fac6a2-28cd-40a4-92c6-4ecd1e5a85da",
   "metadata": {
    "tags": []
   },
   "outputs": [],
   "source": [
    "## trial #2 - add constraint\n",
    "## optimal solution tells us to run 27 tons on medium\n",
    "## need to add constraint: a minimum of 50 tons of rock must be produced on each setting"
   ]
  },
  {
   "cell_type": "code",
   "execution_count": 80,
   "id": "a2fca402-1224-4a04-b8c6-6042400f9df0",
   "metadata": {
    "tags": []
   },
   "outputs": [
    {
     "name": "stdout",
     "output_type": "stream",
     "text": [
      "Model Crushing More Rocks\n",
      "\n",
      "  Variables:\n",
      "    dv_cmr : Size=3, Index={Medium, Coarse, Fine}\n",
      "        Key    : Lower : Value : Upper : Fixed : Stale : Domain\n",
      "        Coarse :     0 : 118.0 :  None : False : False : NonNegativeIntegers\n",
      "          Fine :     0 :  68.0 :  None : False : False : NonNegativeIntegers\n",
      "        Medium :     0 :  51.0 :  None : False : False : NonNegativeIntegers\n",
      "\n",
      "  Objectives:\n",
      "    cost : Size=1, Index=None, Active=True\n",
      "        Key  : Active : Value\n",
      "        None :   True : 1153.0\n",
      "\n",
      "  Constraints:\n",
      "    cons : Size=7\n",
      "        Key : Lower : Body               : Upper\n",
      "          1 :  50.0 :               50.1 :  None\n",
      "          2 :  60.0 :               64.4 :  None\n",
      "          3 :  70.0 :  70.19999999999999 :  None\n",
      "          4 :  30.0 : 52.300000000000004 :  None\n",
      "          5 :  50.0 :               68.0 :  None\n",
      "          6 :  50.0 :               51.0 :  None\n",
      "          7 :  50.0 :              118.0 :  None\n"
     ]
    }
   ],
   "source": [
    "model = ConcreteModel(\"Crushing More Rocks\")\n",
    "\n",
    "Cost_cmr = CMRcost.index\n",
    "\n",
    "model.dv_cmr = Var(Cost_cmr, domain=NonNegativeIntegers)\n",
    "\n",
    "model.cost = Objective(expr = sum([model.dv_cmr[c]*CMRcost.loc[c,'Cost']for c in Cost_cmr]), sense = minimize)\n",
    "\n",
    "keys_cmr=CMRdata.keys()\n",
    "\n",
    "model.cons = ConstraintList()\n",
    "\n",
    "for i in keys_cmr:\n",
    "    model.cons.add(sum([model.dv_cmr[c]*CMRdata.loc[c,i] for c in Cost_cmr]) >= CMRdata.loc['Demand',i])\n",
    "\n",
    "model.cons.add(model.dv_cmr['Fine'] >= 50) \n",
    "model.cons.add(model.dv_cmr['Medium'] >= 50)\n",
    "model.cons.add(model.dv_cmr['Coarse'] >= 50)\n",
    "\n",
    "SolverFactory('glpk').solve(model)\n",
    "model.display()"
   ]
  },
  {
   "cell_type": "markdown",
   "id": "5b64c0bc-8444-4c9f-81f7-a9e18ea758ff",
   "metadata": {},
   "source": [
    "### Hospital Scheduling"
   ]
  },
  {
   "cell_type": "markdown",
   "id": "f85829f4-a12f-49ef-bb84-077a02936673",
   "metadata": {},
   "source": [
    "##### Problem Description"
   ]
  },
  {
   "cell_type": "code",
   "execution_count": null,
   "id": "928130d4-737d-48d5-b9e3-980ab39b9c72",
   "metadata": {},
   "outputs": [],
   "source": [
    "#Decision variables: No. of face lift, lipo, and implant patients to be admitted each week\n",
    "#Objective function: maximize profit\n",
    "#490 total bed days available each week, 165 surgical suite hours available per week"
   ]
  },
  {
   "cell_type": "code",
   "execution_count": 83,
   "id": "6892a828-e3b5-471b-911b-67e9c42111cd",
   "metadata": {
    "tags": []
   },
   "outputs": [],
   "source": [
    "HSprofit = pd.read_excel(\"Portfolio3Data.xlsx\", sheet_name=\"HSProfit\", index_col=0)\n",
    "HSdata = pd.read_excel(\"Portfolio3Data.xlsx\", sheet_name=\"HSData\", index_col=0)"
   ]
  },
  {
   "cell_type": "code",
   "execution_count": 84,
   "id": "b930bed0-b3e2-4ee3-bddd-95543453eced",
   "metadata": {
    "tags": []
   },
   "outputs": [
    {
     "data": {
      "text/html": [
       "<div>\n",
       "<style scoped>\n",
       "    .dataframe tbody tr th:only-of-type {\n",
       "        vertical-align: middle;\n",
       "    }\n",
       "\n",
       "    .dataframe tbody tr th {\n",
       "        vertical-align: top;\n",
       "    }\n",
       "\n",
       "    .dataframe thead th {\n",
       "        text-align: right;\n",
       "    }\n",
       "</style>\n",
       "<table border=\"1\" class=\"dataframe\">\n",
       "  <thead>\n",
       "    <tr style=\"text-align: right;\">\n",
       "      <th></th>\n",
       "      <th>Face Lift</th>\n",
       "      <th>Lipo</th>\n",
       "      <th>Implants</th>\n",
       "    </tr>\n",
       "  </thead>\n",
       "  <tbody>\n",
       "    <tr>\n",
       "      <th>Profit</th>\n",
       "      <td>240</td>\n",
       "      <td>225</td>\n",
       "      <td>425</td>\n",
       "    </tr>\n",
       "  </tbody>\n",
       "</table>\n",
       "</div>"
      ],
      "text/plain": [
       "        Face Lift  Lipo  Implants\n",
       "Profit        240   225       425"
      ]
     },
     "execution_count": 84,
     "metadata": {},
     "output_type": "execute_result"
    }
   ],
   "source": [
    "HSprofit"
   ]
  },
  {
   "cell_type": "code",
   "execution_count": 85,
   "id": "bfb7f867-aac6-4acc-b39d-33d612bbca3e",
   "metadata": {
    "tags": []
   },
   "outputs": [
    {
     "data": {
      "text/html": [
       "<div>\n",
       "<style scoped>\n",
       "    .dataframe tbody tr th:only-of-type {\n",
       "        vertical-align: middle;\n",
       "    }\n",
       "\n",
       "    .dataframe tbody tr th {\n",
       "        vertical-align: top;\n",
       "    }\n",
       "\n",
       "    .dataframe thead th {\n",
       "        text-align: right;\n",
       "    }\n",
       "</style>\n",
       "<table border=\"1\" class=\"dataframe\">\n",
       "  <thead>\n",
       "    <tr style=\"text-align: right;\">\n",
       "      <th></th>\n",
       "      <th>Face Lift</th>\n",
       "      <th>Lipo</th>\n",
       "      <th>Implants</th>\n",
       "      <th>Available</th>\n",
       "    </tr>\n",
       "  </thead>\n",
       "  <tbody>\n",
       "    <tr>\n",
       "      <th>Stay</th>\n",
       "      <td>3</td>\n",
       "      <td>5.0</td>\n",
       "      <td>6</td>\n",
       "      <td>490</td>\n",
       "    </tr>\n",
       "    <tr>\n",
       "      <th>Surgery Hours</th>\n",
       "      <td>2</td>\n",
       "      <td>1.5</td>\n",
       "      <td>3</td>\n",
       "      <td>165</td>\n",
       "    </tr>\n",
       "  </tbody>\n",
       "</table>\n",
       "</div>"
      ],
      "text/plain": [
       "                Face Lift  Lipo  Implants  Available\n",
       "Stay                    3   5.0         6        490\n",
       "Surgery Hours           2   1.5         3        165"
      ]
     },
     "execution_count": 85,
     "metadata": {},
     "output_type": "execute_result"
    }
   ],
   "source": [
    "HSdata"
   ]
  },
  {
   "cell_type": "code",
   "execution_count": 87,
   "id": "260f4418-ccc5-4759-ade0-b5136188e265",
   "metadata": {
    "tags": []
   },
   "outputs": [
    {
     "name": "stdout",
     "output_type": "stream",
     "text": [
      "Model Hospital Scheduling\n",
      "\n",
      "  Variables:\n",
      "    dv_hs : Size=3, Index={Lipo, Face Lift, Implants}\n",
      "        Key       : Lower : Value : Upper : Fixed : Stale : Domain\n",
      "        Face Lift :     0 :   0.0 :  None : False : False : NonNegativeIntegers\n",
      "         Implants :     0 :  15.0 :  None : False : False : NonNegativeIntegers\n",
      "             Lipo :     0 :  80.0 :  None : False : False : NonNegativeIntegers\n",
      "\n",
      "  Objectives:\n",
      "    profit : Size=1, Index=None, Active=True\n",
      "        Key  : Active : Value\n",
      "        None :   True : 24375.0\n",
      "\n",
      "  Constraints:\n",
      "    cons : Size=2\n",
      "        Key : Lower : Body  : Upper\n",
      "          1 :  None : 490.0 : 490.0\n",
      "          2 :  None : 165.0 : 165.0\n"
     ]
    }
   ],
   "source": [
    "model = ConcreteModel(\"Hospital Scheduling\")\n",
    "\n",
    "P_hs = HSprofit.keys()\n",
    "\n",
    "model.dv_hs = Var(P_hs, domain=NonNegativeIntegers)\n",
    "\n",
    "model.profit = Objective(expr = sum([model.dv_hs[p]*HSprofit.loc['Profit', p]for p in P_hs]), sense = maximize)\n",
    "\n",
    "I_hs=HSdata.index\n",
    "\n",
    "model.cons = ConstraintList()\n",
    "\n",
    "for i in I_hs:\n",
    "    model.cons.add(sum([model.dv_hs[p]*HSdata.loc[i,p] for p in P_hs]) <= HSdata.loc[i,'Available'])\n",
    "\n",
    "SolverFactory('glpk').solve(model)\n",
    "model.display()"
   ]
  },
  {
   "cell_type": "markdown",
   "id": "6433b7bb-1c5d-4ccb-a97d-117a24f43f8e",
   "metadata": {},
   "source": [
    "### Butter"
   ]
  },
  {
   "cell_type": "markdown",
   "id": "37c33c15-306e-4ad2-b62e-6acc006ab1f4",
   "metadata": {},
   "source": [
    "##### Problem Description"
   ]
  },
  {
   "cell_type": "code",
   "execution_count": 25,
   "id": "8938cbe4-8ec0-404a-aa94-8aff6850ddc2",
   "metadata": {
    "tags": []
   },
   "outputs": [],
   "source": [
    "##Decision Variables: No. of apple butter jars (in 1000s) and peanut butter jars (in 1000s) to produce this week\n",
    "##Objective: maximize profit\n",
    "##ST: 40 hours of packaging and 40 hours of sterilization"
   ]
  },
  {
   "cell_type": "code",
   "execution_count": 88,
   "id": "16e32b7a-aef8-4733-b694-dd4848490071",
   "metadata": {
    "tags": []
   },
   "outputs": [],
   "source": [
    "Bprofit = pd.read_excel(\"Portfolio3Data.xlsx\", sheet_name=\"BProfit\", index_col=0)\n",
    "Bdata = pd.read_excel(\"Portfolio3Data.xlsx\", sheet_name=\"BData\", index_col=0)"
   ]
  },
  {
   "cell_type": "code",
   "execution_count": 89,
   "id": "52393a9c-e145-49eb-b02b-82111c117769",
   "metadata": {
    "tags": []
   },
   "outputs": [
    {
     "data": {
      "text/html": [
       "<div>\n",
       "<style scoped>\n",
       "    .dataframe tbody tr th:only-of-type {\n",
       "        vertical-align: middle;\n",
       "    }\n",
       "\n",
       "    .dataframe tbody tr th {\n",
       "        vertical-align: top;\n",
       "    }\n",
       "\n",
       "    .dataframe thead th {\n",
       "        text-align: right;\n",
       "    }\n",
       "</style>\n",
       "<table border=\"1\" class=\"dataframe\">\n",
       "  <thead>\n",
       "    <tr style=\"text-align: right;\">\n",
       "      <th></th>\n",
       "      <th>Peanut</th>\n",
       "      <th>Apple</th>\n",
       "    </tr>\n",
       "  </thead>\n",
       "  <tbody>\n",
       "    <tr>\n",
       "      <th>Profit</th>\n",
       "      <td>1.1</td>\n",
       "      <td>1.3</td>\n",
       "    </tr>\n",
       "  </tbody>\n",
       "</table>\n",
       "</div>"
      ],
      "text/plain": [
       "        Peanut  Apple\n",
       "Profit     1.1    1.3"
      ]
     },
     "execution_count": 89,
     "metadata": {},
     "output_type": "execute_result"
    }
   ],
   "source": [
    "Bprofit"
   ]
  },
  {
   "cell_type": "code",
   "execution_count": 90,
   "id": "2257b6a3-766e-45e8-bd13-6ac11d71172b",
   "metadata": {
    "tags": []
   },
   "outputs": [
    {
     "data": {
      "text/html": [
       "<div>\n",
       "<style scoped>\n",
       "    .dataframe tbody tr th:only-of-type {\n",
       "        vertical-align: middle;\n",
       "    }\n",
       "\n",
       "    .dataframe tbody tr th {\n",
       "        vertical-align: top;\n",
       "    }\n",
       "\n",
       "    .dataframe thead th {\n",
       "        text-align: right;\n",
       "    }\n",
       "</style>\n",
       "<table border=\"1\" class=\"dataframe\">\n",
       "  <thead>\n",
       "    <tr style=\"text-align: right;\">\n",
       "      <th></th>\n",
       "      <th>Peanut</th>\n",
       "      <th>Apple</th>\n",
       "      <th>Capacity</th>\n",
       "    </tr>\n",
       "  </thead>\n",
       "  <tbody>\n",
       "    <tr>\n",
       "      <th>Packaging</th>\n",
       "      <td>0.005</td>\n",
       "      <td>0.004</td>\n",
       "      <td>40</td>\n",
       "    </tr>\n",
       "    <tr>\n",
       "      <th>Sterilization</th>\n",
       "      <td>0.004</td>\n",
       "      <td>0.006</td>\n",
       "      <td>40</td>\n",
       "    </tr>\n",
       "  </tbody>\n",
       "</table>\n",
       "</div>"
      ],
      "text/plain": [
       "               Peanut  Apple  Capacity\n",
       "Packaging       0.005  0.004        40\n",
       "Sterilization   0.004  0.006        40"
      ]
     },
     "execution_count": 90,
     "metadata": {},
     "output_type": "execute_result"
    }
   ],
   "source": [
    "Bdata"
   ]
  },
  {
   "cell_type": "code",
   "execution_count": 35,
   "id": "a33b8a35-98d7-4694-be36-849d28c9537e",
   "metadata": {
    "tags": []
   },
   "outputs": [],
   "source": [
    "##WHAT IF ANALYSIS: if apple butter is produced, at least 5000 jars should be produced"
   ]
  },
  {
   "cell_type": "code",
   "execution_count": null,
   "id": "d395fa26-f642-4747-a08d-e05e03d7787e",
   "metadata": {},
   "outputs": [],
   "source": [
    "##trial no.1: no min apple butter constraint\n",
    "##profit: $999.7 and no. apple jars: 2858"
   ]
  },
  {
   "cell_type": "code",
   "execution_count": 91,
   "id": "5c4359ca-36a9-490c-948f-8323f23fb14c",
   "metadata": {
    "tags": []
   },
   "outputs": [
    {
     "name": "stdout",
     "output_type": "stream",
     "text": [
      "Model Butter\n",
      "\n",
      "  Variables:\n",
      "    dv_b : Size=2, Index={Apple, Peanut}\n",
      "        Key    : Lower : Value  : Upper : Fixed : Stale : Domain\n",
      "         Apple :     0 : 2858.0 :  None : False : False : NonNegativeIntegers\n",
      "        Peanut :     0 : 5713.0 :  None : False : False : NonNegativeIntegers\n",
      "\n",
      "  Objectives:\n",
      "    profit : Size=1, Index=None, Active=True\n",
      "        Key  : Active : Value\n",
      "        None :   True : 9999.7\n",
      "\n",
      "  Constraints:\n",
      "    cons : Size=2\n",
      "        Key : Lower : Body   : Upper\n",
      "          1 :  None : 39.997 :  40.0\n",
      "          2 :  None :   40.0 :  40.0\n"
     ]
    }
   ],
   "source": [
    "model = ConcreteModel(\"Butter\")\n",
    "\n",
    "P_b = Bprofit.keys()\n",
    "\n",
    "model.dv_b = Var(P_b, domain=NonNegativeIntegers)\n",
    "\n",
    "model.profit = Objective(expr = sum([model.dv_b[p]*Bprofit.loc['Profit', p]for p in P_b]), sense = maximize)\n",
    "\n",
    "I_b=Bdata.index\n",
    "\n",
    "model.cons = ConstraintList()\n",
    "\n",
    "for i in I_b:\n",
    "    model.cons.add(sum([model.dv_b[p]*Bdata.loc[i,p] for p in P_b]) <= Bdata.loc[i,'Capacity'])\n",
    "    \n",
    "\n",
    "SolverFactory('glpk').solve(model)\n",
    "model.display()"
   ]
  },
  {
   "cell_type": "code",
   "execution_count": 7,
   "id": "2fe86690-5e73-400f-9144-0b3ac6530632",
   "metadata": {},
   "outputs": [],
   "source": [
    "##trial no.2: adding the min apple butter constraint\n",
    "##proft: $9250 and no. apple jars: 5000"
   ]
  },
  {
   "cell_type": "code",
   "execution_count": 36,
   "id": "616d793b-a5cf-44f3-9458-b8fbdbfacc54",
   "metadata": {
    "tags": []
   },
   "outputs": [],
   "source": [
    "profit = pd.read_excel(\"Portfolio3Data.xlsx\", sheet_name=\"BProfit\", index_col=0)\n",
    "data = pd.read_excel(\"Portfolio3Data.xlsx\", sheet_name=\"BData\", index_col=0)"
   ]
  },
  {
   "cell_type": "code",
   "execution_count": 92,
   "id": "917f95e6-7efd-427f-8ab8-304a472dd78b",
   "metadata": {
    "tags": []
   },
   "outputs": [
    {
     "name": "stdout",
     "output_type": "stream",
     "text": [
      "Model Butter\n",
      "\n",
      "  Variables:\n",
      "    dv_b : Size=2, Index={Apple, Peanut}\n",
      "        Key    : Lower : Value  : Upper : Fixed : Stale : Domain\n",
      "         Apple :     0 : 5000.0 :  None : False : False : NonNegativeIntegers\n",
      "        Peanut :     0 : 2500.0 :  None : False : False : NonNegativeIntegers\n",
      "\n",
      "  Objectives:\n",
      "    profit : Size=1, Index=None, Active=True\n",
      "        Key  : Active : Value\n",
      "        None :   True : 9250.0\n",
      "\n",
      "  Constraints:\n",
      "    cons : Size=3\n",
      "        Key : Lower  : Body   : Upper\n",
      "          1 :   None :   32.5 :  40.0\n",
      "          2 :   None :   40.0 :  40.0\n",
      "          3 : 5000.0 : 5000.0 :  None\n"
     ]
    }
   ],
   "source": [
    "model = ConcreteModel(\"Butter\")\n",
    "\n",
    "P_b = Bprofit.keys()\n",
    "\n",
    "model.dv_b = Var(P_b, domain=NonNegativeIntegers)\n",
    "\n",
    "model.profit = Objective(expr = sum([model.dv_b[p]*Bprofit.loc['Profit', p]for p in P_b]), sense = maximize)\n",
    "\n",
    "I_b=Bdata.index\n",
    "\n",
    "model.cons = ConstraintList()\n",
    "\n",
    "for i in I_b:\n",
    "    model.cons.add(sum([model.dv_b[p]*Bdata.loc[i,p] for p in P_b]) <= Bdata.loc[i,'Capacity'])\n",
    "\n",
    "model.cons.add(model.dv_b['Apple']>=5000)\n",
    "\n",
    "SolverFactory('glpk').solve(model)\n",
    "model.display()"
   ]
  },
  {
   "cell_type": "code",
   "execution_count": 11,
   "id": "82f2f1a3-3dd6-49d0-8b6f-b1943f529a71",
   "metadata": {
    "tags": []
   },
   "outputs": [],
   "source": [
    "##trial no.3: no apple butter\n",
    "##proft: $8800 and no. apple jars: 0"
   ]
  },
  {
   "cell_type": "code",
   "execution_count": 93,
   "id": "a4eded97-ca1a-4a38-8442-10a8527f73ca",
   "metadata": {},
   "outputs": [
    {
     "name": "stdout",
     "output_type": "stream",
     "text": [
      "Model Butter\n",
      "\n",
      "  Variables:\n",
      "    dv_b : Size=2, Index={Apple, Peanut}\n",
      "        Key    : Lower : Value  : Upper : Fixed : Stale : Domain\n",
      "         Apple :     0 :    0.0 :  None : False : False : NonNegativeIntegers\n",
      "        Peanut :     0 : 8000.0 :  None : False : False : NonNegativeIntegers\n",
      "\n",
      "  Objectives:\n",
      "    profit : Size=1, Index=None, Active=True\n",
      "        Key  : Active : Value\n",
      "        None :   True : 8800.0\n",
      "\n",
      "  Constraints:\n",
      "    cons : Size=3\n",
      "        Key : Lower : Body : Upper\n",
      "          1 :  None : 40.0 :  40.0\n",
      "          2 :  None : 32.0 :  40.0\n",
      "          3 :   0.0 :  0.0 :   0.0\n"
     ]
    }
   ],
   "source": [
    "model = ConcreteModel(\"Butter\")\n",
    "\n",
    "P_b = Bprofit.keys()\n",
    "\n",
    "model.dv_b = Var(P_b, domain=NonNegativeIntegers)\n",
    "\n",
    "model.profit = Objective(expr = sum([model.dv_b[p]*Bprofit.loc['Profit', p]for p in P_b]), sense = maximize)\n",
    "\n",
    "I_b=Bdata.index\n",
    "\n",
    "model.cons = ConstraintList()\n",
    "\n",
    "for i in I_b:\n",
    "    model.cons.add(sum([model.dv_b[p]*Bdata.loc[i,p] for p in P_b]) <= Bdata.loc[i,'Capacity'])\n",
    "\n",
    "model.cons.add(model.dv_b['Apple']==0)\n",
    "\n",
    "SolverFactory('glpk').solve(model)\n",
    "model.display()"
   ]
  },
  {
   "cell_type": "code",
   "execution_count": 12,
   "id": "5fe2b56a-6d0e-4367-b147-197e9f8886a9",
   "metadata": {
    "tags": []
   },
   "outputs": [],
   "source": [
    "### we should include the minimum of 5000 jars apple butter constraint"
   ]
  },
  {
   "cell_type": "markdown",
   "id": "35917bc3-63f2-4bbb-9a0e-50b05d722b7e",
   "metadata": {},
   "source": [
    "### Pet Food"
   ]
  },
  {
   "cell_type": "markdown",
   "id": "353a1acd-5fd5-47bc-99b0-8698f96f61b4",
   "metadata": {},
   "source": [
    "##### Problem Description"
   ]
  },
  {
   "cell_type": "code",
   "execution_count": null,
   "id": "f9e152c9-957f-4d19-b3d8-5a2f009804f9",
   "metadata": {},
   "outputs": [],
   "source": [
    "## Decision Variables: \n",
    "    #tons of seeds in bird food\n",
    "    #tons of stone in bird food\n",
    "    #tons of cereal in bird food\n",
    "    #total tons of bird food manufactured each day**\n",
    "    #tons of meat in dog food\n",
    "    #tons of fishmeal in dog food\n",
    "    #tons of cereal in dog food\n",
    "    #total tons of dog food manufactured each day**\n",
    "    \n",
    "##Objective: maximize project (revenue of $750/ton bird food and $980/ton dog food - cost of seeds, stones,\n",
    "    #cereal, meat, and fishmeal\n",
    "    \n",
    "##ST: \n",
    "    #8 hours per day available of blending and packaging each\n",
    "    #composition requirements that bird and dog food havd for protein, carbs, trace minerals, abrasives, and seeds"
   ]
  },
  {
   "cell_type": "code",
   "execution_count": 96,
   "id": "6c0302c2-fabc-47e1-8e6f-35f81e0f6b6d",
   "metadata": {
    "tags": []
   },
   "outputs": [],
   "source": [
    "PFrevenue = pd.read_excel(\"PetFood2.xlsx\", sheet_name=\"PFRevenue\", index_col=0)\n",
    "PFcost = pd.read_excel(\"PetFood2.xlsx\", sheet_name=\"PFCost\", index_col=0)\n",
    "PFmtrl = pd.read_excel(\"PetFood2.xlsx\", sheet_name=\"PFMtrl\", index_col=0)\n",
    "PFdpt = pd.read_excel(\"PetFood2.xlsx\", sheet_name=\"PFDpt\", index_col=0)"
   ]
  },
  {
   "cell_type": "code",
   "execution_count": 97,
   "id": "295c373e-afba-4931-aa0a-d8fe76cc2edd",
   "metadata": {
    "tags": []
   },
   "outputs": [
    {
     "data": {
      "text/html": [
       "<div>\n",
       "<style scoped>\n",
       "    .dataframe tbody tr th:only-of-type {\n",
       "        vertical-align: middle;\n",
       "    }\n",
       "\n",
       "    .dataframe tbody tr th {\n",
       "        vertical-align: top;\n",
       "    }\n",
       "\n",
       "    .dataframe thead th {\n",
       "        text-align: right;\n",
       "    }\n",
       "</style>\n",
       "<table border=\"1\" class=\"dataframe\">\n",
       "  <thead>\n",
       "    <tr style=\"text-align: right;\">\n",
       "      <th></th>\n",
       "      <th>Bseeds</th>\n",
       "      <th>Bstones</th>\n",
       "      <th>Bcereal</th>\n",
       "      <th>Dmeat</th>\n",
       "      <th>Dfishmeal</th>\n",
       "      <th>Dcereal</th>\n",
       "    </tr>\n",
       "  </thead>\n",
       "  <tbody>\n",
       "    <tr>\n",
       "      <th>Revenue</th>\n",
       "      <td>750</td>\n",
       "      <td>750</td>\n",
       "      <td>750</td>\n",
       "      <td>980</td>\n",
       "      <td>980</td>\n",
       "      <td>980</td>\n",
       "    </tr>\n",
       "  </tbody>\n",
       "</table>\n",
       "</div>"
      ],
      "text/plain": [
       "         Bseeds  Bstones  Bcereal  Dmeat  Dfishmeal  Dcereal\n",
       "Revenue     750      750      750    980        980      980"
      ]
     },
     "execution_count": 97,
     "metadata": {},
     "output_type": "execute_result"
    }
   ],
   "source": [
    "PFrevenue"
   ]
  },
  {
   "cell_type": "code",
   "execution_count": 98,
   "id": "c6295dca-c078-4594-a2c0-eeb7a6a48223",
   "metadata": {
    "tags": []
   },
   "outputs": [
    {
     "data": {
      "text/html": [
       "<div>\n",
       "<style scoped>\n",
       "    .dataframe tbody tr th:only-of-type {\n",
       "        vertical-align: middle;\n",
       "    }\n",
       "\n",
       "    .dataframe tbody tr th {\n",
       "        vertical-align: top;\n",
       "    }\n",
       "\n",
       "    .dataframe thead th {\n",
       "        text-align: right;\n",
       "    }\n",
       "</style>\n",
       "<table border=\"1\" class=\"dataframe\">\n",
       "  <thead>\n",
       "    <tr style=\"text-align: right;\">\n",
       "      <th></th>\n",
       "      <th>Bseeds</th>\n",
       "      <th>Bstones</th>\n",
       "      <th>Bcereal</th>\n",
       "      <th>Dmeat</th>\n",
       "      <th>Dfishmeal</th>\n",
       "      <th>Dcereal</th>\n",
       "    </tr>\n",
       "  </thead>\n",
       "  <tbody>\n",
       "    <tr>\n",
       "      <th>Cost</th>\n",
       "      <td>700</td>\n",
       "      <td>100</td>\n",
       "      <td>200</td>\n",
       "      <td>600</td>\n",
       "      <td>900</td>\n",
       "      <td>200</td>\n",
       "    </tr>\n",
       "  </tbody>\n",
       "</table>\n",
       "</div>"
      ],
      "text/plain": [
       "      Bseeds  Bstones  Bcereal  Dmeat  Dfishmeal  Dcereal\n",
       "Cost     700      100      200    600        900      200"
      ]
     },
     "execution_count": 98,
     "metadata": {},
     "output_type": "execute_result"
    }
   ],
   "source": [
    "PFcost"
   ]
  },
  {
   "cell_type": "code",
   "execution_count": 99,
   "id": "72cb87c2-c2a1-43b1-aa64-5ac105ee3a3b",
   "metadata": {
    "tags": []
   },
   "outputs": [
    {
     "data": {
      "text/html": [
       "<div>\n",
       "<style scoped>\n",
       "    .dataframe tbody tr th:only-of-type {\n",
       "        vertical-align: middle;\n",
       "    }\n",
       "\n",
       "    .dataframe tbody tr th {\n",
       "        vertical-align: top;\n",
       "    }\n",
       "\n",
       "    .dataframe thead th {\n",
       "        text-align: right;\n",
       "    }\n",
       "</style>\n",
       "<table border=\"1\" class=\"dataframe\">\n",
       "  <thead>\n",
       "    <tr style=\"text-align: right;\">\n",
       "      <th></th>\n",
       "      <th>Bseeds</th>\n",
       "      <th>Bstones</th>\n",
       "      <th>Bcereal</th>\n",
       "      <th>Dmeat</th>\n",
       "      <th>Dfishmeal</th>\n",
       "      <th>Dcereal</th>\n",
       "      <th>Brequired</th>\n",
       "      <th>Drequired</th>\n",
       "    </tr>\n",
       "  </thead>\n",
       "  <tbody>\n",
       "    <tr>\n",
       "      <th>Protein</th>\n",
       "      <td>0.10</td>\n",
       "      <td>0.00</td>\n",
       "      <td>0.03</td>\n",
       "      <td>0.12</td>\n",
       "      <td>0.20</td>\n",
       "      <td>0.03</td>\n",
       "      <td>0.05</td>\n",
       "      <td>0.11</td>\n",
       "    </tr>\n",
       "    <tr>\n",
       "      <th>Carbs</th>\n",
       "      <td>0.10</td>\n",
       "      <td>0.00</td>\n",
       "      <td>0.30</td>\n",
       "      <td>0.10</td>\n",
       "      <td>0.08</td>\n",
       "      <td>0.30</td>\n",
       "      <td>0.18</td>\n",
       "      <td>0.15</td>\n",
       "    </tr>\n",
       "    <tr>\n",
       "      <th>Minerals</th>\n",
       "      <td>0.02</td>\n",
       "      <td>0.03</td>\n",
       "      <td>0.00</td>\n",
       "      <td>0.01</td>\n",
       "      <td>0.02</td>\n",
       "      <td>0.00</td>\n",
       "      <td>0.01</td>\n",
       "      <td>0.01</td>\n",
       "    </tr>\n",
       "    <tr>\n",
       "      <th>Abrasives</th>\n",
       "      <td>0.01</td>\n",
       "      <td>1.00</td>\n",
       "      <td>0.00</td>\n",
       "      <td>0.00</td>\n",
       "      <td>0.00</td>\n",
       "      <td>0.00</td>\n",
       "      <td>0.02</td>\n",
       "      <td>0.00</td>\n",
       "    </tr>\n",
       "    <tr>\n",
       "      <th>Seeds</th>\n",
       "      <td>1.00</td>\n",
       "      <td>0.00</td>\n",
       "      <td>0.00</td>\n",
       "      <td>0.00</td>\n",
       "      <td>0.00</td>\n",
       "      <td>0.00</td>\n",
       "      <td>0.10</td>\n",
       "      <td>0.00</td>\n",
       "    </tr>\n",
       "  </tbody>\n",
       "</table>\n",
       "</div>"
      ],
      "text/plain": [
       "           Bseeds  Bstones  Bcereal  Dmeat  Dfishmeal  Dcereal  Brequired  \\\n",
       "Protein      0.10     0.00     0.03   0.12       0.20     0.03       0.05   \n",
       "Carbs        0.10     0.00     0.30   0.10       0.08     0.30       0.18   \n",
       "Minerals     0.02     0.03     0.00   0.01       0.02     0.00       0.01   \n",
       "Abrasives    0.01     1.00     0.00   0.00       0.00     0.00       0.02   \n",
       "Seeds        1.00     0.00     0.00   0.00       0.00     0.00       0.10   \n",
       "\n",
       "           Drequired  \n",
       "Protein         0.11  \n",
       "Carbs           0.15  \n",
       "Minerals        0.01  \n",
       "Abrasives       0.00  \n",
       "Seeds           0.00  "
      ]
     },
     "execution_count": 99,
     "metadata": {},
     "output_type": "execute_result"
    }
   ],
   "source": [
    "PFmtrl"
   ]
  },
  {
   "cell_type": "code",
   "execution_count": 100,
   "id": "0ce6082c-a6b7-4c1e-9361-5ffac66ad6c8",
   "metadata": {
    "tags": []
   },
   "outputs": [
    {
     "data": {
      "text/html": [
       "<div>\n",
       "<style scoped>\n",
       "    .dataframe tbody tr th:only-of-type {\n",
       "        vertical-align: middle;\n",
       "    }\n",
       "\n",
       "    .dataframe tbody tr th {\n",
       "        vertical-align: top;\n",
       "    }\n",
       "\n",
       "    .dataframe thead th {\n",
       "        text-align: right;\n",
       "    }\n",
       "</style>\n",
       "<table border=\"1\" class=\"dataframe\">\n",
       "  <thead>\n",
       "    <tr style=\"text-align: right;\">\n",
       "      <th></th>\n",
       "      <th>Bseeds</th>\n",
       "      <th>Bstones</th>\n",
       "      <th>Bcereal</th>\n",
       "      <th>Dmeat</th>\n",
       "      <th>Dfishmeal</th>\n",
       "      <th>Dcereal</th>\n",
       "      <th>DptMax</th>\n",
       "    </tr>\n",
       "  </thead>\n",
       "  <tbody>\n",
       "    <tr>\n",
       "      <th>Blending</th>\n",
       "      <td>0.25</td>\n",
       "      <td>0.25</td>\n",
       "      <td>0.25</td>\n",
       "      <td>0.15</td>\n",
       "      <td>0.15</td>\n",
       "      <td>0.15</td>\n",
       "      <td>8</td>\n",
       "    </tr>\n",
       "    <tr>\n",
       "      <th>Packaging</th>\n",
       "      <td>0.10</td>\n",
       "      <td>0.10</td>\n",
       "      <td>0.10</td>\n",
       "      <td>0.30</td>\n",
       "      <td>0.30</td>\n",
       "      <td>0.30</td>\n",
       "      <td>8</td>\n",
       "    </tr>\n",
       "  </tbody>\n",
       "</table>\n",
       "</div>"
      ],
      "text/plain": [
       "           Bseeds  Bstones  Bcereal  Dmeat  Dfishmeal  Dcereal  DptMax\n",
       "Blending     0.25     0.25     0.25   0.15       0.15     0.15       8\n",
       "Packaging    0.10     0.10     0.10   0.30       0.30     0.30       8"
      ]
     },
     "execution_count": 100,
     "metadata": {},
     "output_type": "execute_result"
    }
   ],
   "source": [
    "PFdpt"
   ]
  },
  {
   "cell_type": "code",
   "execution_count": 101,
   "id": "5437fc24-e5d9-43d0-aedc-4e7a90c552a8",
   "metadata": {
    "tags": []
   },
   "outputs": [
    {
     "name": "stdout",
     "output_type": "stream",
     "text": [
      "Model Pet Food\n",
      "\n",
      "  Variables:\n",
      "    dv_pf : Size=6, Index={Bseeds, Dmeat, Dfishmeal, Bcereal, Bstones, Dcereal}\n",
      "        Key       : Lower : Value            : Upper : Fixed : Stale : Domain\n",
      "          Bcereal :     0 : 11.1111111111111 :  None : False : False : NonNegativeReals\n",
      "           Bseeds :     0 : 6.66666666666667 :  None : False : False : NonNegativeReals\n",
      "          Bstones :     0 : 2.22222222222222 :  None : False : False : NonNegativeReals\n",
      "          Dcereal :     0 :             10.0 :  None : False : False : NonNegativeReals\n",
      "        Dfishmeal :     0 :             10.0 :  None : False : False : NonNegativeReals\n",
      "            Dmeat :     0 :              0.0 :  None : False : False : NonNegativeReals\n",
      "\n",
      "  Objectives:\n",
      "    profit : Size=1, Index=None, Active=True\n",
      "        Key  : Active : Value\n",
      "        None :   True : 16488.888888888883\n",
      "\n",
      "  Constraints:\n",
      "    cons : Size=12\n",
      "        Key : Lower : Body                   : Upper\n",
      "          1 :  None : -4.440892098500626e-16 :   0.0\n",
      "          2 :  None :     -0.399999999999999 :   0.0\n",
      "          3 :  None : -8.326672684688674e-17 :   0.0\n",
      "          4 :  None :     -1.888888888888887 :   0.0\n",
      "          5 :  None :    -4.6666666666666705 :   0.0\n",
      "          6 :  None :   -0.09999999999999964 :   0.0\n",
      "          7 :  None :    -0.7999999999999998 :   0.0\n",
      "          8 :  None :                    0.0 :   0.0\n",
      "          9 :  None :                    0.0 :   0.0\n",
      "         10 :  None :                    0.0 :   0.0\n",
      "         11 :  None :      7.999999999999997 :   8.0\n",
      "         12 :  None :      7.999999999999999 :   8.0\n"
     ]
    }
   ],
   "source": [
    "model = ConcreteModel(\"Pet Food\")\n",
    "\n",
    "##creating set for DVS\n",
    "I_pf=PFrevenue.keys() #I for ingredients\n",
    "\n",
    "##DECLARE DVs\n",
    "model.dv_pf = Var(I_pf, domain=NonNegativeReals)\n",
    "\n",
    "##OBJECTIVE FUNCTION\n",
    "#MA: Xprofit  = rev per ton of ingredient - cost per ton of ingredient\n",
    "model.profit = Objective(expr = \n",
    "                         sum([model.dv_pf[i]*PFrevenue.loc['Revenue',i]for i in I_pf]) -\n",
    "                         sum([model.dv_pf[i]*PFcost.loc['Cost',i] for i in I_pf]),\n",
    "                         sense = maximize)\n",
    "\n",
    "##CONSTRAINTS\n",
    "model.cons = ConstraintList()\n",
    "\n",
    "#both of our material composition constraints require us to multiply a percentage by the total tons of bird food and dog food produced,\n",
    "# so we have to calculate the total tons \n",
    "\n",
    "TotalBF=model.dv_pf['Bseeds'] + model.dv_pf['Bstones'] + model.dv_pf['Bcereal']\n",
    "TotalDF=model.dv_pf['Dmeat'] + model.dv_pf['Dfishmeal'] + model.dv_pf['Dcereal']\n",
    "\n",
    "\n",
    "##bird material composition constraint\n",
    "\n",
    "M_pf = PFmtrl.index #M for material\n",
    "\n",
    "for m in M_pf:\n",
    "    model.cons.add( (model.dv_pf['Bseeds']*PFmtrl.loc[m,'Bseeds'] \n",
    "                   + model.dv_pf['Bstones']*PFmtrl.loc[m,'Bstones'] \n",
    "                   + model.dv_pf['Bcereal']*PFmtrl.loc[m,'Bcereal']) >= PFmtrl.loc[m,'Brequired'] * TotalBF)\n",
    "\n",
    "##dog material composition constraint\n",
    "\n",
    "for m in M_pf:\n",
    "    model.cons.add( (model.dv_pf['Dmeat']*PFmtrl.loc[m,'Dmeat'] \n",
    "                   + model.dv_pf['Dfishmeal']*PFmtrl.loc[m,'Dfishmeal'] \n",
    "                   + model.dv_pf['Dcereal']*PFmtrl.loc[m,'Dcereal']) >= PFmtrl.loc[m,'Drequired'] * TotalDF)\n",
    "\n",
    "##department capacity constraint\n",
    "\n",
    "D_pf = PFdpt.index #D for department\n",
    "\n",
    "for d in D_pf:\n",
    "    model.cons.add(sum([model.dv_pf[i] * PFdpt.loc[d,i] for i in I_pf]) <= PFdpt.loc[d,'DptMax'])\n",
    "            \n",
    "SolverFactory('glpk').solve(model)\n",
    "model.display()"
   ]
  },
  {
   "cell_type": "markdown",
   "id": "6b166684-9baf-4436-a8d5-ea8a13712e4f",
   "metadata": {},
   "source": [
    "### Employee Scheduling"
   ]
  },
  {
   "cell_type": "markdown",
   "id": "b96f7854-d74b-4183-b44e-daea7e8a45a0",
   "metadata": {},
   "source": [
    "##### Problem Description"
   ]
  },
  {
   "cell_type": "code",
   "execution_count": null,
   "id": "f761ba19-c656-49e1-8b2e-b3b3fdfc2a01",
   "metadata": {},
   "outputs": [],
   "source": [
    "## Decision variables: how many employees to hire for shifts 1,2,3,4,5,6,7\n",
    "## Objective: minimize wage costs \n",
    "## Constraints: must meed 99% of demand "
   ]
  },
  {
   "cell_type": "code",
   "execution_count": 102,
   "id": "76890169-4d33-4cc1-a807-6750dee9de97",
   "metadata": {
    "tags": []
   },
   "outputs": [],
   "source": [
    "EScost = pd.read_excel(\"Portfolio3Data.xlsx\", sheet_name=\"ESCost\", index_col=0)\n",
    "ESdemand = pd.read_excel(\"Portfolio3Data.xlsx\", sheet_name=\"ESDemand\", index_col=0)\n",
    "ESshift = pd.read_excel(\"Portfolio3Data.xlsx\", sheet_name=\"ESShift\", index_col=0)"
   ]
  },
  {
   "cell_type": "code",
   "execution_count": 103,
   "id": "758abdb8-889e-4302-8cfa-53c75dc0acc9",
   "metadata": {
    "tags": []
   },
   "outputs": [
    {
     "data": {
      "text/html": [
       "<div>\n",
       "<style scoped>\n",
       "    .dataframe tbody tr th:only-of-type {\n",
       "        vertical-align: middle;\n",
       "    }\n",
       "\n",
       "    .dataframe tbody tr th {\n",
       "        vertical-align: top;\n",
       "    }\n",
       "\n",
       "    .dataframe thead th {\n",
       "        text-align: right;\n",
       "    }\n",
       "</style>\n",
       "<table border=\"1\" class=\"dataframe\">\n",
       "  <thead>\n",
       "    <tr style=\"text-align: right;\">\n",
       "      <th></th>\n",
       "      <th>1</th>\n",
       "      <th>2</th>\n",
       "      <th>3</th>\n",
       "      <th>4</th>\n",
       "      <th>5</th>\n",
       "      <th>6</th>\n",
       "      <th>7</th>\n",
       "    </tr>\n",
       "  </thead>\n",
       "  <tbody>\n",
       "    <tr>\n",
       "      <th>Cost</th>\n",
       "      <td>680</td>\n",
       "      <td>705</td>\n",
       "      <td>705</td>\n",
       "      <td>705</td>\n",
       "      <td>705</td>\n",
       "      <td>680</td>\n",
       "      <td>655</td>\n",
       "    </tr>\n",
       "  </tbody>\n",
       "</table>\n",
       "</div>"
      ],
      "text/plain": [
       "        1    2    3    4    5    6    7\n",
       "Cost  680  705  705  705  705  680  655"
      ]
     },
     "execution_count": 103,
     "metadata": {},
     "output_type": "execute_result"
    }
   ],
   "source": [
    "EScost"
   ]
  },
  {
   "cell_type": "code",
   "execution_count": 104,
   "id": "84bdd349-1cc5-4ce1-ac32-78e2f6df8bf5",
   "metadata": {
    "tags": []
   },
   "outputs": [
    {
     "data": {
      "text/html": [
       "<div>\n",
       "<style scoped>\n",
       "    .dataframe tbody tr th:only-of-type {\n",
       "        vertical-align: middle;\n",
       "    }\n",
       "\n",
       "    .dataframe tbody tr th {\n",
       "        vertical-align: top;\n",
       "    }\n",
       "\n",
       "    .dataframe thead th {\n",
       "        text-align: right;\n",
       "    }\n",
       "</style>\n",
       "<table border=\"1\" class=\"dataframe\">\n",
       "  <thead>\n",
       "    <tr style=\"text-align: right;\">\n",
       "      <th></th>\n",
       "      <th>Demand</th>\n",
       "    </tr>\n",
       "  </thead>\n",
       "  <tbody>\n",
       "    <tr>\n",
       "      <th>Sunday</th>\n",
       "      <td>17302.201179</td>\n",
       "    </tr>\n",
       "    <tr>\n",
       "      <th>Monday</th>\n",
       "      <td>25631.132594</td>\n",
       "    </tr>\n",
       "    <tr>\n",
       "      <th>Tuesday</th>\n",
       "      <td>21101.467706</td>\n",
       "    </tr>\n",
       "    <tr>\n",
       "      <th>Wednesday</th>\n",
       "      <td>24919.494949</td>\n",
       "    </tr>\n",
       "    <tr>\n",
       "      <th>Thursday</th>\n",
       "      <td>23554.342348</td>\n",
       "    </tr>\n",
       "    <tr>\n",
       "      <th>Friday</th>\n",
       "      <td>20388.683176</td>\n",
       "    </tr>\n",
       "    <tr>\n",
       "      <th>Saturday</th>\n",
       "      <td>17707.072963</td>\n",
       "    </tr>\n",
       "  </tbody>\n",
       "</table>\n",
       "</div>"
      ],
      "text/plain": [
       "                 Demand\n",
       "Sunday     17302.201179\n",
       "Monday     25631.132594\n",
       "Tuesday    21101.467706\n",
       "Wednesday  24919.494949\n",
       "Thursday   23554.342348\n",
       "Friday     20388.683176\n",
       "Saturday   17707.072963"
      ]
     },
     "execution_count": 104,
     "metadata": {},
     "output_type": "execute_result"
    }
   ],
   "source": [
    "ESdemand"
   ]
  },
  {
   "cell_type": "code",
   "execution_count": 105,
   "id": "ae7c984b-ca7c-4469-a8cb-d21dc7929507",
   "metadata": {
    "tags": []
   },
   "outputs": [
    {
     "data": {
      "text/html": [
       "<div>\n",
       "<style scoped>\n",
       "    .dataframe tbody tr th:only-of-type {\n",
       "        vertical-align: middle;\n",
       "    }\n",
       "\n",
       "    .dataframe tbody tr th {\n",
       "        vertical-align: top;\n",
       "    }\n",
       "\n",
       "    .dataframe thead th {\n",
       "        text-align: right;\n",
       "    }\n",
       "</style>\n",
       "<table border=\"1\" class=\"dataframe\">\n",
       "  <thead>\n",
       "    <tr style=\"text-align: right;\">\n",
       "      <th></th>\n",
       "      <th>1</th>\n",
       "      <th>2</th>\n",
       "      <th>3</th>\n",
       "      <th>4</th>\n",
       "      <th>5</th>\n",
       "      <th>6</th>\n",
       "      <th>7</th>\n",
       "    </tr>\n",
       "  </thead>\n",
       "  <tbody>\n",
       "    <tr>\n",
       "      <th>Sunday</th>\n",
       "      <td>0</td>\n",
       "      <td>1</td>\n",
       "      <td>1</td>\n",
       "      <td>1</td>\n",
       "      <td>1</td>\n",
       "      <td>1</td>\n",
       "      <td>0</td>\n",
       "    </tr>\n",
       "    <tr>\n",
       "      <th>Monday</th>\n",
       "      <td>0</td>\n",
       "      <td>0</td>\n",
       "      <td>1</td>\n",
       "      <td>1</td>\n",
       "      <td>1</td>\n",
       "      <td>1</td>\n",
       "      <td>1</td>\n",
       "    </tr>\n",
       "    <tr>\n",
       "      <th>Tuesday</th>\n",
       "      <td>1</td>\n",
       "      <td>0</td>\n",
       "      <td>0</td>\n",
       "      <td>1</td>\n",
       "      <td>1</td>\n",
       "      <td>1</td>\n",
       "      <td>1</td>\n",
       "    </tr>\n",
       "    <tr>\n",
       "      <th>Wednesday</th>\n",
       "      <td>1</td>\n",
       "      <td>1</td>\n",
       "      <td>0</td>\n",
       "      <td>0</td>\n",
       "      <td>1</td>\n",
       "      <td>1</td>\n",
       "      <td>1</td>\n",
       "    </tr>\n",
       "    <tr>\n",
       "      <th>Thursday</th>\n",
       "      <td>1</td>\n",
       "      <td>1</td>\n",
       "      <td>1</td>\n",
       "      <td>0</td>\n",
       "      <td>0</td>\n",
       "      <td>1</td>\n",
       "      <td>1</td>\n",
       "    </tr>\n",
       "    <tr>\n",
       "      <th>Friday</th>\n",
       "      <td>1</td>\n",
       "      <td>1</td>\n",
       "      <td>1</td>\n",
       "      <td>1</td>\n",
       "      <td>0</td>\n",
       "      <td>0</td>\n",
       "      <td>1</td>\n",
       "    </tr>\n",
       "    <tr>\n",
       "      <th>Saturday</th>\n",
       "      <td>1</td>\n",
       "      <td>1</td>\n",
       "      <td>1</td>\n",
       "      <td>1</td>\n",
       "      <td>1</td>\n",
       "      <td>0</td>\n",
       "      <td>0</td>\n",
       "    </tr>\n",
       "  </tbody>\n",
       "</table>\n",
       "</div>"
      ],
      "text/plain": [
       "           1  2  3  4  5  6  7\n",
       "Sunday     0  1  1  1  1  1  0\n",
       "Monday     0  0  1  1  1  1  1\n",
       "Tuesday    1  0  0  1  1  1  1\n",
       "Wednesday  1  1  0  0  1  1  1\n",
       "Thursday   1  1  1  0  0  1  1\n",
       "Friday     1  1  1  1  0  0  1\n",
       "Saturday   1  1  1  1  1  0  0"
      ]
     },
     "execution_count": 105,
     "metadata": {},
     "output_type": "execute_result"
    }
   ],
   "source": [
    "ESshift"
   ]
  },
  {
   "cell_type": "code",
   "execution_count": 106,
   "id": "537c79e3-e8bf-4f2c-9070-91c687ccd557",
   "metadata": {
    "tags": []
   },
   "outputs": [
    {
     "name": "stdout",
     "output_type": "stream",
     "text": [
      "Model Employee Scheduling\n",
      "\n",
      "  Variables:\n",
      "    dv_es : Size=7, Index={1, 2, 3, 4, 5, 6, 7}\n",
      "        Key : Lower : Value : Upper : Fixed : Stale : Domain\n",
      "          1 :     0 :   3.0 :  None : False : False : NonNegativeIntegers\n",
      "          2 :     0 :   2.0 :  None : False : False : NonNegativeIntegers\n",
      "          3 :     0 :   6.0 :  None : False : False : NonNegativeIntegers\n",
      "          4 :     0 :   0.0 :  None : False : False : NonNegativeIntegers\n",
      "          5 :     0 :   7.0 :  None : False : False : NonNegativeIntegers\n",
      "          6 :     0 :   3.0 :  None : False : False : NonNegativeIntegers\n",
      "          7 :     0 :  10.0 :  None : False : False : NonNegativeIntegers\n",
      "\n",
      "  Objectives:\n",
      "    cost : Size=1, Index=None, Active=True\n",
      "        Key  : Active : Value\n",
      "        None :   True : 21205.0\n",
      "\n",
      "  Constraints:\n",
      "    cons : Size=7\n",
      "        Key : Lower              : Body    : Upper\n",
      "          1 :   17302.2011793957 : 18000.0 :  None\n",
      "          2 :  25631.13259405359 : 26000.0 :  None\n",
      "          3 : 21101.467706169988 : 23000.0 :  None\n",
      "          4 : 24919.494948545263 : 25000.0 :  None\n",
      "          5 :    23554.342347762 : 24000.0 :  None\n",
      "          6 :  20388.68317608688 : 21000.0 :  None\n",
      "          7 : 17707.072962883474 : 18000.0 :  None\n"
     ]
    }
   ],
   "source": [
    "model = ConcreteModel(\"Employee Scheduling\")\n",
    "\n",
    "C_es = EScost.keys()\n",
    "\n",
    "##DECLARE DVs\n",
    "model.dv_es = Var(C_es, domain=NonNegativeIntegers)\n",
    "\n",
    "##OBJECTIVE FUNCTION\n",
    "#MIN: cost  = cost per shift per employee (shift is their work for 5 days)\n",
    "\n",
    "model.cost = Objective(expr = sum([model.dv_es[c]*EScost.loc['Cost',c] for c in C_es]), sense = minimize)\n",
    "\n",
    "\n",
    "                       \n",
    "##CONSTRAINTS\n",
    "model.cons = ConstraintList()\n",
    "\n",
    "##demand constraint\n",
    "D_es = ESshift.index\n",
    "\n",
    "for d in D_es:\n",
    "    model.cons.add(sum(([model.dv_es[c] * ESshift.loc[d,c] for c in C_es])*1000) >= ESdemand.loc[d,'Demand'])\n",
    "    \n",
    "                       \n",
    "SolverFactory('glpk').solve(model)\n",
    "model.display()"
   ]
  },
  {
   "cell_type": "markdown",
   "id": "a15a0999-5948-40de-9e30-ec087a2181ec",
   "metadata": {},
   "source": [
    "### Lockbox Problem"
   ]
  },
  {
   "cell_type": "markdown",
   "id": "f7b054f3-924e-4c60-a231-3d4622853b33",
   "metadata": {},
   "source": [
    "##### Problem Description:"
   ]
  },
  {
   "cell_type": "code",
   "execution_count": null,
   "id": "6e6112c9-9d22-4fb7-a5ce-479a72620cc1",
   "metadata": {},
   "outputs": [],
   "source": [
    "## Decision Variables: at which region-lockbox locations should masterdebt open lockboxes? there are 42 binary DVs\n",
    "## Objective Function: MIN cost of interest = sum (float time for given region-lockbox location\n",
    "                                                    # *ave daily paymebt for that region\n",
    "                                                    # *.15)\n",
    "                                                #+ sum (operation cost per location if lockbox is opened at that location)\n",
    "        \n",
    "## Constraints: every region needs to be assigned a lockbox"
   ]
  },
  {
   "cell_type": "code",
   "execution_count": 56,
   "id": "34753e02-1bde-4a26-9e3a-8af633ac941d",
   "metadata": {
    "tags": []
   },
   "outputs": [],
   "source": [
    "LBinterest = pd.read_excel(\"Portfolio3Data.xlsx\", sheet_name=\"LBInterestCost\", index_col=0)\n",
    "LBopcost = pd.read_excel(\"Portfolio3Data.xlsx\", sheet_name=\"LBOpCost\", index_col=0)"
   ]
  },
  {
   "cell_type": "code",
   "execution_count": 108,
   "id": "4808b01d-f17a-4892-9eac-2c8ac8d8ed89",
   "metadata": {
    "tags": []
   },
   "outputs": [
    {
     "data": {
      "text/html": [
       "<div>\n",
       "<style scoped>\n",
       "    .dataframe tbody tr th:only-of-type {\n",
       "        vertical-align: middle;\n",
       "    }\n",
       "\n",
       "    .dataframe tbody tr th {\n",
       "        vertical-align: top;\n",
       "    }\n",
       "\n",
       "    .dataframe thead th {\n",
       "        text-align: right;\n",
       "    }\n",
       "</style>\n",
       "<table border=\"1\" class=\"dataframe\">\n",
       "  <thead>\n",
       "    <tr style=\"text-align: right;\">\n",
       "      <th></th>\n",
       "      <th>Sacramento</th>\n",
       "      <th>Denver</th>\n",
       "      <th>Chicago</th>\n",
       "      <th>Dallas</th>\n",
       "      <th>New York</th>\n",
       "      <th>Atlanta</th>\n",
       "    </tr>\n",
       "  </thead>\n",
       "  <tbody>\n",
       "    <tr>\n",
       "      <th>Central</th>\n",
       "      <td>27.0</td>\n",
       "      <td>13.5</td>\n",
       "      <td>13.50</td>\n",
       "      <td>13.5</td>\n",
       "      <td>20.25</td>\n",
       "      <td>20.25</td>\n",
       "    </tr>\n",
       "    <tr>\n",
       "      <th>Mid-Atlantic</th>\n",
       "      <td>58.5</td>\n",
       "      <td>39.0</td>\n",
       "      <td>29.25</td>\n",
       "      <td>39.0</td>\n",
       "      <td>19.50</td>\n",
       "      <td>19.50</td>\n",
       "    </tr>\n",
       "    <tr>\n",
       "      <th>Midwest</th>\n",
       "      <td>22.5</td>\n",
       "      <td>15.0</td>\n",
       "      <td>22.50</td>\n",
       "      <td>15.0</td>\n",
       "      <td>37.50</td>\n",
       "      <td>30.00</td>\n",
       "    </tr>\n",
       "    <tr>\n",
       "      <th>Northeast</th>\n",
       "      <td>81.0</td>\n",
       "      <td>54.0</td>\n",
       "      <td>27.00</td>\n",
       "      <td>67.5</td>\n",
       "      <td>27.00</td>\n",
       "      <td>40.50</td>\n",
       "    </tr>\n",
       "    <tr>\n",
       "      <th>Northwest</th>\n",
       "      <td>21.0</td>\n",
       "      <td>31.5</td>\n",
       "      <td>52.50</td>\n",
       "      <td>42.0</td>\n",
       "      <td>63.00</td>\n",
       "      <td>73.50</td>\n",
       "    </tr>\n",
       "    <tr>\n",
       "      <th>Southeast</th>\n",
       "      <td>84.0</td>\n",
       "      <td>48.0</td>\n",
       "      <td>36.00</td>\n",
       "      <td>24.0</td>\n",
       "      <td>48.00</td>\n",
       "      <td>24.00</td>\n",
       "    </tr>\n",
       "    <tr>\n",
       "      <th>Southwest</th>\n",
       "      <td>18.0</td>\n",
       "      <td>27.0</td>\n",
       "      <td>54.00</td>\n",
       "      <td>18.0</td>\n",
       "      <td>63.00</td>\n",
       "      <td>54.00</td>\n",
       "    </tr>\n",
       "  </tbody>\n",
       "</table>\n",
       "</div>"
      ],
      "text/plain": [
       "              Sacramento  Denver  Chicago  Dallas  New York   Atlanta\n",
       "Central             27.0    13.5    13.50    13.5      20.25    20.25\n",
       "Mid-Atlantic        58.5    39.0    29.25    39.0      19.50    19.50\n",
       "Midwest             22.5    15.0    22.50    15.0      37.50    30.00\n",
       "Northeast           81.0    54.0    27.00    67.5      27.00    40.50\n",
       "Northwest           21.0    31.5    52.50    42.0      63.00    73.50\n",
       "Southeast           84.0    48.0    36.00    24.0      48.00    24.00\n",
       "Southwest           18.0    27.0    54.00    18.0      63.00    54.00"
      ]
     },
     "execution_count": 108,
     "metadata": {},
     "output_type": "execute_result"
    }
   ],
   "source": [
    "LBinterest"
   ]
  },
  {
   "cell_type": "code",
   "execution_count": 110,
   "id": "78c90e34-4c79-4e8f-8c0a-0ea0ac6c15cd",
   "metadata": {
    "tags": []
   },
   "outputs": [
    {
     "data": {
      "text/html": [
       "<div>\n",
       "<style scoped>\n",
       "    .dataframe tbody tr th:only-of-type {\n",
       "        vertical-align: middle;\n",
       "    }\n",
       "\n",
       "    .dataframe tbody tr th {\n",
       "        vertical-align: top;\n",
       "    }\n",
       "\n",
       "    .dataframe thead th {\n",
       "        text-align: right;\n",
       "    }\n",
       "</style>\n",
       "<table border=\"1\" class=\"dataframe\">\n",
       "  <thead>\n",
       "    <tr style=\"text-align: right;\">\n",
       "      <th></th>\n",
       "      <th>Sacramento</th>\n",
       "      <th>Denver</th>\n",
       "      <th>Chicago</th>\n",
       "      <th>Dallas</th>\n",
       "      <th>New York</th>\n",
       "      <th>Atlanta</th>\n",
       "    </tr>\n",
       "  </thead>\n",
       "  <tbody>\n",
       "    <tr>\n",
       "      <th>Cost</th>\n",
       "      <td>25</td>\n",
       "      <td>60</td>\n",
       "      <td>35</td>\n",
       "      <td>35</td>\n",
       "      <td>30</td>\n",
       "      <td>35</td>\n",
       "    </tr>\n",
       "  </tbody>\n",
       "</table>\n",
       "</div>"
      ],
      "text/plain": [
       "      Sacramento  Denver  Chicago  Dallas  New York   Atlanta\n",
       "Cost          25      60       35      35         30       35"
      ]
     },
     "execution_count": 110,
     "metadata": {},
     "output_type": "execute_result"
    }
   ],
   "source": [
    "LBopcost"
   ]
  },
  {
   "cell_type": "code",
   "execution_count": 60,
   "id": "eb855b6d-27d2-46f4-9eda-1859f63d0b04",
   "metadata": {
    "tags": []
   },
   "outputs": [
    {
     "name": "stdout",
     "output_type": "stream",
     "text": [
      "Model Lockbox\n",
      "\n",
      "  Variables:\n",
      "    dv_lb : Size=42, Index={Central, Northwest, Southeast, Mid-Atlantic, Northeast, Southwest, Midwest}*{Chicago, Sacramento, New York , Dallas, Atlanta, Denver}\n",
      "        Key                            : Lower : Value : Upper : Fixed : Stale : Domain\n",
      "                ('Central', 'Atlanta') :     0 :   0.0 :     1 : False : False : Binary\n",
      "                ('Central', 'Chicago') :     0 :   0.0 :     1 : False : False : Binary\n",
      "                 ('Central', 'Dallas') :     0 :   1.0 :     1 : False : False : Binary\n",
      "                 ('Central', 'Denver') :     0 :   0.0 :     1 : False : False : Binary\n",
      "              ('Central', 'New York ') :     0 :   0.0 :     1 : False : False : Binary\n",
      "             ('Central', 'Sacramento') :     0 :   0.0 :     1 : False : False : Binary\n",
      "           ('Mid-Atlantic', 'Atlanta') :     0 :   0.0 :     1 : False : False : Binary\n",
      "           ('Mid-Atlantic', 'Chicago') :     0 :   0.0 :     1 : False : False : Binary\n",
      "            ('Mid-Atlantic', 'Dallas') :     0 :   0.0 :     1 : False : False : Binary\n",
      "            ('Mid-Atlantic', 'Denver') :     0 :   0.0 :     1 : False : False : Binary\n",
      "         ('Mid-Atlantic', 'New York ') :     0 :   1.0 :     1 : False : False : Binary\n",
      "        ('Mid-Atlantic', 'Sacramento') :     0 :   0.0 :     1 : False : False : Binary\n",
      "                ('Midwest', 'Atlanta') :     0 :   0.0 :     1 : False : False : Binary\n",
      "                ('Midwest', 'Chicago') :     0 :   0.0 :     1 : False : False : Binary\n",
      "                 ('Midwest', 'Dallas') :     0 :   1.0 :     1 : False : False : Binary\n",
      "                 ('Midwest', 'Denver') :     0 :   0.0 :     1 : False : False : Binary\n",
      "              ('Midwest', 'New York ') :     0 :   0.0 :     1 : False : False : Binary\n",
      "             ('Midwest', 'Sacramento') :     0 :   0.0 :     1 : False : False : Binary\n",
      "              ('Northeast', 'Atlanta') :     0 :   0.0 :     1 : False : False : Binary\n",
      "              ('Northeast', 'Chicago') :     0 :   0.0 :     1 : False : False : Binary\n",
      "               ('Northeast', 'Dallas') :     0 :   0.0 :     1 : False : False : Binary\n",
      "               ('Northeast', 'Denver') :     0 :   0.0 :     1 : False : False : Binary\n",
      "            ('Northeast', 'New York ') :     0 :   1.0 :     1 : False : False : Binary\n",
      "           ('Northeast', 'Sacramento') :     0 :   0.0 :     1 : False : False : Binary\n",
      "              ('Northwest', 'Atlanta') :     0 :   0.0 :     1 : False : False : Binary\n",
      "              ('Northwest', 'Chicago') :     0 :   0.0 :     1 : False : False : Binary\n",
      "               ('Northwest', 'Dallas') :     0 :   1.0 :     1 : False : False : Binary\n",
      "               ('Northwest', 'Denver') :     0 :   0.0 :     1 : False : False : Binary\n",
      "            ('Northwest', 'New York ') :     0 :   0.0 :     1 : False : False : Binary\n",
      "           ('Northwest', 'Sacramento') :     0 :   0.0 :     1 : False : False : Binary\n",
      "              ('Southeast', 'Atlanta') :     0 :   0.0 :     1 : False : False : Binary\n",
      "              ('Southeast', 'Chicago') :     0 :   0.0 :     1 : False : False : Binary\n",
      "               ('Southeast', 'Dallas') :     0 :   1.0 :     1 : False : False : Binary\n",
      "               ('Southeast', 'Denver') :     0 :   0.0 :     1 : False : False : Binary\n",
      "            ('Southeast', 'New York ') :     0 :   0.0 :     1 : False : False : Binary\n",
      "           ('Southeast', 'Sacramento') :     0 :   0.0 :     1 : False : False : Binary\n",
      "              ('Southwest', 'Atlanta') :     0 :   0.0 :     1 : False : False : Binary\n",
      "              ('Southwest', 'Chicago') :     0 :   0.0 :     1 : False : False : Binary\n",
      "               ('Southwest', 'Dallas') :     0 :   1.0 :     1 : False : False : Binary\n",
      "               ('Southwest', 'Denver') :     0 :   0.0 :     1 : False : False : Binary\n",
      "            ('Southwest', 'New York ') :     0 :   0.0 :     1 : False : False : Binary\n",
      "           ('Southwest', 'Sacramento') :     0 :   0.0 :     1 : False : False : Binary\n",
      "    ind_lb : Size=6, Index={Chicago, Sacramento, New York , Dallas, Atlanta, Denver}\n",
      "        Key        : Lower : Value : Upper : Fixed : Stale : Domain\n",
      "           Atlanta :     0 :   0.0 :     1 : False : False : Binary\n",
      "           Chicago :     0 :   0.0 :     1 : False : False : Binary\n",
      "            Dallas :     0 :   1.0 :     1 : False : False : Binary\n",
      "            Denver :     0 :   0.0 :     1 : False : False : Binary\n",
      "         New York  :     0 :   1.0 :     1 : False : False : Binary\n",
      "        Sacramento :     0 :   0.0 :     1 : False : False : Binary\n",
      "\n",
      "  Objectives:\n",
      "    cost : Size=1, Index=None, Active=True\n",
      "        Key  : Active : Value\n",
      "        None :   True : 224.0\n",
      "\n",
      "  Constraints:\n",
      "    cons : Size=49\n",
      "        Key : Lower : Body : Upper\n",
      "          1 :   1.0 :  1.0 :   1.0\n",
      "          2 :   1.0 :  1.0 :   1.0\n",
      "          3 :   1.0 :  1.0 :   1.0\n",
      "          4 :   1.0 :  1.0 :   1.0\n",
      "          5 :   1.0 :  1.0 :   1.0\n",
      "          6 :   1.0 :  1.0 :   1.0\n",
      "          7 :   1.0 :  1.0 :   1.0\n",
      "          8 :  None :  0.0 :   0.0\n",
      "          9 :  None :  0.0 :   0.0\n",
      "         10 :  None :  0.0 :   0.0\n",
      "         11 :  None :  0.0 :   0.0\n",
      "         12 :  None : -1.0 :   0.0\n",
      "         13 :  None :  0.0 :   0.0\n",
      "         14 :  None :  0.0 :   0.0\n",
      "         15 :  None :  0.0 :   0.0\n",
      "         16 :  None :  0.0 :   0.0\n",
      "         17 :  None : -1.0 :   0.0\n",
      "         18 :  None :  0.0 :   0.0\n",
      "         19 :  None :  0.0 :   0.0\n",
      "         20 :  None :  0.0 :   0.0\n",
      "         21 :  None :  0.0 :   0.0\n",
      "         22 :  None :  0.0 :   0.0\n",
      "         23 :  None :  0.0 :   0.0\n",
      "         24 :  None : -1.0 :   0.0\n",
      "         25 :  None :  0.0 :   0.0\n",
      "         26 :  None :  0.0 :   0.0\n",
      "         27 :  None :  0.0 :   0.0\n",
      "         28 :  None :  0.0 :   0.0\n",
      "         29 :  None : -1.0 :   0.0\n",
      "         30 :  None :  0.0 :   0.0\n",
      "         31 :  None :  0.0 :   0.0\n",
      "         32 :  None :  0.0 :   0.0\n",
      "         33 :  None :  0.0 :   0.0\n",
      "         34 :  None :  0.0 :   0.0\n",
      "         35 :  None :  0.0 :   0.0\n",
      "         36 :  None : -1.0 :   0.0\n",
      "         37 :  None :  0.0 :   0.0\n",
      "         38 :  None :  0.0 :   0.0\n",
      "         39 :  None :  0.0 :   0.0\n",
      "         40 :  None :  0.0 :   0.0\n",
      "         41 :  None :  0.0 :   0.0\n",
      "         42 :  None : -1.0 :   0.0\n",
      "         43 :  None :  0.0 :   0.0\n",
      "         44 :  None :  0.0 :   0.0\n",
      "         45 :  None :  0.0 :   0.0\n",
      "         46 :  None :  0.0 :   0.0\n",
      "         47 :  None :  0.0 :   0.0\n",
      "         48 :  None : -1.0 :   0.0\n",
      "         49 :  None :  0.0 :   0.0\n"
     ]
    },
    {
     "name": "stderr",
     "output_type": "stream",
     "text": [
      "C:\\Users\\katie\\AppData\\Local\\Temp\\ipykernel_23288\\1979585335.py:16: DeprecationWarning: Calling np.sum(generator) is deprecated, and in the future will give a different result. Use np.sum(np.fromiter(generator)) or the python sum builtin instead.\n",
      "  model.cost = Objective(expr = sum(model.dv_lb[r,c] * LBinterest.loc[r,c] for c in C_lb for r in R_lb) + sum([model.ind_lb[c] * LBopcost.loc['Cost', c] for c in OC_lb]), sense = minimize)\n",
      "C:\\Users\\katie\\AppData\\Local\\Temp\\ipykernel_23288\\1979585335.py:23: DeprecationWarning: Calling np.sum(generator) is deprecated, and in the future will give a different result. Use np.sum(np.fromiter(generator)) or the python sum builtin instead.\n",
      "  model.cons.add(sum(model.dv_lb[r,c] for c in C_lb) == 1)\n"
     ]
    }
   ],
   "source": [
    "model = ConcreteModel(\"Lockbox\")\n",
    "\n",
    "R_lb = LBinterest.index #R for region\n",
    "C_lb = LBinterest.keys() #C for city\n",
    "OC_lb = LBopcost.keys() #OC for operating cost\n",
    "\n",
    "## DECLARE DVS\n",
    "# declaire the 42 variables \n",
    "model.dv_lb = Var(R_lb,C_lb,domain=Binary)\n",
    "\n",
    "# declare the 6 indicator variables\n",
    "##when youre reading in two \n",
    "model.ind_lb = Var(OC_lb, domain=Binary)\n",
    "\n",
    "## OBJECTIVE FUNCTION\n",
    "model.cost = Objective(expr = sum(model.dv_lb[r,c] * LBinterest.loc[r,c] for c in C_lb for r in R_lb) + sum([model.ind_lb[c] * LBopcost.loc['Cost', c] for c in OC_lb]), sense = minimize)\n",
    "\n",
    "\n",
    "## CONSTRAINTS\n",
    "model.cons = ConstraintList()\n",
    "\n",
    "for r in R_lb:\n",
    "    model.cons.add(sum(model.dv_lb[r,c] for c in C_lb) == 1)\n",
    "\n",
    "for r in R_lb:\n",
    "    for c in C_lb:\n",
    "        model.cons.add(model.ind_lb[c] >= model.dv_lb[r,c])\n",
    "  ##two outer loops is better coding practice                          \n",
    "                            \n",
    "SolverFactory('glpk').solve(model)\n",
    "model.display()"
   ]
  },
  {
   "cell_type": "markdown",
   "id": "77b587d2-9dc2-4ab6-8285-604a60121170",
   "metadata": {
    "tags": []
   },
   "source": [
    "### Farming"
   ]
  },
  {
   "cell_type": "markdown",
   "id": "ac98cb00-4748-4e2b-a980-24d89fc7d9f2",
   "metadata": {},
   "source": [
    "##### Problem Description:"
   ]
  },
  {
   "cell_type": "code",
   "execution_count": 2,
   "id": "8b6bc47a-d07e-4728-9ea7-6f2d6fd07556",
   "metadata": {
    "tags": []
   },
   "outputs": [],
   "source": [
    "## Decision Variables: no acres milo on farm 1,2,3. no acres cotton on farm 1,2,3. no acres of wheat on farm 1,2,3\n",
    "## Objective: max profit\n",
    "## Constraints: maximum acreage per farm, max water available per farm, harvesting capacity per crop type, required water per crop"
   ]
  },
  {
   "cell_type": "code",
   "execution_count": 112,
   "id": "868ea3aa-b792-4cb8-95f8-c66b3f404bb6",
   "metadata": {
    "tags": []
   },
   "outputs": [],
   "source": [
    "FProfit = pd.read_excel(\"Portfolio3Data.xlsx\", sheet_name=\"FProfit\", index_col=0)\n",
    "FarmSTs = pd.read_excel(\"Portfolio3Data.xlsx\", sheet_name=\"FarmSTs\", index_col=0)\n",
    "CropSTs = pd.read_excel(\"Portfolio3Data.xlsx\", sheet_name=\"CropSTs\", index_col=0)"
   ]
  },
  {
   "cell_type": "code",
   "execution_count": 113,
   "id": "dd19b598-c618-4b2e-957e-f60150e82582",
   "metadata": {
    "tags": []
   },
   "outputs": [
    {
     "data": {
      "text/html": [
       "<div>\n",
       "<style scoped>\n",
       "    .dataframe tbody tr th:only-of-type {\n",
       "        vertical-align: middle;\n",
       "    }\n",
       "\n",
       "    .dataframe tbody tr th {\n",
       "        vertical-align: top;\n",
       "    }\n",
       "\n",
       "    .dataframe thead th {\n",
       "        text-align: right;\n",
       "    }\n",
       "</style>\n",
       "<table border=\"1\" class=\"dataframe\">\n",
       "  <thead>\n",
       "    <tr style=\"text-align: right;\">\n",
       "      <th></th>\n",
       "      <th>Farm 1</th>\n",
       "      <th>Farm 2</th>\n",
       "      <th>Farm 3</th>\n",
       "    </tr>\n",
       "  </thead>\n",
       "  <tbody>\n",
       "    <tr>\n",
       "      <th>Milo</th>\n",
       "      <td>400</td>\n",
       "      <td>400</td>\n",
       "      <td>400</td>\n",
       "    </tr>\n",
       "    <tr>\n",
       "      <th>Cotton</th>\n",
       "      <td>300</td>\n",
       "      <td>300</td>\n",
       "      <td>300</td>\n",
       "    </tr>\n",
       "    <tr>\n",
       "      <th>Wheat</th>\n",
       "      <td>100</td>\n",
       "      <td>100</td>\n",
       "      <td>100</td>\n",
       "    </tr>\n",
       "  </tbody>\n",
       "</table>\n",
       "</div>"
      ],
      "text/plain": [
       "        Farm 1  Farm 2  Farm 3\n",
       "Milo       400     400     400\n",
       "Cotton     300     300     300\n",
       "Wheat      100     100     100"
      ]
     },
     "execution_count": 113,
     "metadata": {},
     "output_type": "execute_result"
    }
   ],
   "source": [
    "FProfit"
   ]
  },
  {
   "cell_type": "code",
   "execution_count": 114,
   "id": "1526a628-64dd-49be-b64d-5b84c4ef2fc9",
   "metadata": {
    "tags": []
   },
   "outputs": [
    {
     "data": {
      "text/html": [
       "<div>\n",
       "<style scoped>\n",
       "    .dataframe tbody tr th:only-of-type {\n",
       "        vertical-align: middle;\n",
       "    }\n",
       "\n",
       "    .dataframe tbody tr th {\n",
       "        vertical-align: top;\n",
       "    }\n",
       "\n",
       "    .dataframe thead th {\n",
       "        text-align: right;\n",
       "    }\n",
       "</style>\n",
       "<table border=\"1\" class=\"dataframe\">\n",
       "  <thead>\n",
       "    <tr style=\"text-align: right;\">\n",
       "      <th></th>\n",
       "      <th>Farm 1</th>\n",
       "      <th>Farm 2</th>\n",
       "      <th>Farm 3</th>\n",
       "    </tr>\n",
       "  </thead>\n",
       "  <tbody>\n",
       "    <tr>\n",
       "      <th>Acres</th>\n",
       "      <td>400</td>\n",
       "      <td>600</td>\n",
       "      <td>300</td>\n",
       "    </tr>\n",
       "    <tr>\n",
       "      <th>WaterCap</th>\n",
       "      <td>1500</td>\n",
       "      <td>2000</td>\n",
       "      <td>900</td>\n",
       "    </tr>\n",
       "  </tbody>\n",
       "</table>\n",
       "</div>"
      ],
      "text/plain": [
       "          Farm 1  Farm 2  Farm 3\n",
       "Acres        400     600     300\n",
       "WaterCap    1500    2000     900"
      ]
     },
     "execution_count": 114,
     "metadata": {},
     "output_type": "execute_result"
    }
   ],
   "source": [
    "FarmSTs"
   ]
  },
  {
   "cell_type": "code",
   "execution_count": 115,
   "id": "358bfd9c-8725-4319-bc8c-44317d3e1602",
   "metadata": {
    "tags": []
   },
   "outputs": [
    {
     "data": {
      "text/html": [
       "<div>\n",
       "<style scoped>\n",
       "    .dataframe tbody tr th:only-of-type {\n",
       "        vertical-align: middle;\n",
       "    }\n",
       "\n",
       "    .dataframe tbody tr th {\n",
       "        vertical-align: top;\n",
       "    }\n",
       "\n",
       "    .dataframe thead th {\n",
       "        text-align: right;\n",
       "    }\n",
       "</style>\n",
       "<table border=\"1\" class=\"dataframe\">\n",
       "  <thead>\n",
       "    <tr style=\"text-align: right;\">\n",
       "      <th></th>\n",
       "      <th>Capacity</th>\n",
       "      <th>WaterReq</th>\n",
       "    </tr>\n",
       "  </thead>\n",
       "  <tbody>\n",
       "    <tr>\n",
       "      <th>Milo</th>\n",
       "      <td>700</td>\n",
       "      <td>6</td>\n",
       "    </tr>\n",
       "    <tr>\n",
       "      <th>Cotton</th>\n",
       "      <td>800</td>\n",
       "      <td>4</td>\n",
       "    </tr>\n",
       "    <tr>\n",
       "      <th>Wheat</th>\n",
       "      <td>300</td>\n",
       "      <td>2</td>\n",
       "    </tr>\n",
       "  </tbody>\n",
       "</table>\n",
       "</div>"
      ],
      "text/plain": [
       "        Capacity  WaterReq\n",
       "Milo         700         6\n",
       "Cotton       800         4\n",
       "Wheat        300         2"
      ]
     },
     "execution_count": 115,
     "metadata": {},
     "output_type": "execute_result"
    }
   ],
   "source": [
    "CropSTs"
   ]
  },
  {
   "cell_type": "code",
   "execution_count": null,
   "id": "d8088dc8-5ac0-4301-8075-6aa1335d90d5",
   "metadata": {},
   "outputs": [],
   "source": [
    "## why is for f in F outside parenthesis from for c in F in objective function"
   ]
  },
  {
   "cell_type": "code",
   "execution_count": 116,
   "id": "01a8d791-d2f7-4bfd-b0a7-c274348efd24",
   "metadata": {
    "tags": []
   },
   "outputs": [
    {
     "name": "stdout",
     "output_type": "stream",
     "text": [
      "Model Farming\n",
      "\n",
      "  Variables:\n",
      "    dv_f : Size=9, Index={Cotton, Wheat, Milo}*{Farm 1, Farm 2, Farm 3}\n",
      "        Key                  : Lower : Value : Upper : Fixed : Stale : Domain\n",
      "        ('Cotton', 'Farm 1') :     0 : 375.0 :  None : False : False : NonNegativeReals\n",
      "        ('Cotton', 'Farm 2') :     0 : 200.0 :  None : False : False : NonNegativeReals\n",
      "        ('Cotton', 'Farm 3') :     0 : 225.0 :  None : False : False : NonNegativeReals\n",
      "          ('Milo', 'Farm 1') :     0 :   0.0 :  None : False : False : NonNegativeReals\n",
      "          ('Milo', 'Farm 2') :     0 : 200.0 :  None : False : False : NonNegativeReals\n",
      "          ('Milo', 'Farm 3') :     0 :   0.0 :  None : False : False : NonNegativeReals\n",
      "         ('Wheat', 'Farm 1') :     0 :   0.0 :  None : False : False : NonNegativeReals\n",
      "         ('Wheat', 'Farm 2') :     0 :   0.0 :  None : False : False : NonNegativeReals\n",
      "         ('Wheat', 'Farm 3') :     0 :   0.0 :  None : False : False : NonNegativeReals\n",
      "\n",
      "  Objectives:\n",
      "    profit : Size=1, Index=None, Active=True\n",
      "        Key  : Active : Value\n",
      "        None :   True : 320000.0\n",
      "\n",
      "  Constraints:\n",
      "    cons : Size=9\n",
      "        Key : Lower : Body   : Upper\n",
      "          1 :  None :  375.0 :  400.0\n",
      "          2 :  None :  400.0 :  600.0\n",
      "          3 :  None :  225.0 :  300.0\n",
      "          4 :  None :  200.0 :  700.0\n",
      "          5 :  None :  800.0 :  800.0\n",
      "          6 :  None :    0.0 :  300.0\n",
      "          7 :  None : 1500.0 : 1500.0\n",
      "          8 :  None : 2000.0 : 2000.0\n",
      "          9 :  None :  900.0 :  900.0\n"
     ]
    },
    {
     "name": "stderr",
     "output_type": "stream",
     "text": [
      "C:\\Users\\katie\\AppData\\Local\\Temp\\ipykernel_2436\\1041810712.py:12: DeprecationWarning: Calling np.sum(generator) is deprecated, and in the future will give a different result. Use np.sum(np.fromiter(generator)) or the python sum builtin instead.\n",
      "  sum(\n"
     ]
    }
   ],
   "source": [
    "model = ConcreteModel(\"Farming\")\n",
    "\n",
    "## create sets for DVs\n",
    "C_f = FProfit.index #C for crop\n",
    "F_f = FProfit.keys() #F for farm\n",
    "\n",
    "## DECLARE DVS\n",
    "model.dv_f = Var(C_f,F_f,domain=NonNegativeReals)\n",
    "\n",
    "## OBJECTIVE FUNCTION\n",
    "model.profit = Objective(expr = \n",
    "                         sum(\n",
    "                             model.dv_f[c,f] * \n",
    "                             FProfit.loc[c,f] \n",
    "                             for c in C_f for f in F_f),\n",
    "                             sense = maximize)\n",
    "\n",
    "## CONSTRAINTS\n",
    "model.cons = ConstraintList()\n",
    "\n",
    "#each farm has an acreage capacity\n",
    "for f in F_f:\n",
    "    model.cons.add(sum([model.dv_f[c,f] for c in C_f]) <= FarmSTs.loc['Acres',f])\n",
    "                                                     \n",
    "#each crop has harvesting capacity\n",
    "for c in C_f:\n",
    "    model.cons.add(sum([model.dv_f[c,f] for f in F_f]) <= CropSTs.loc[c, 'Capacity'])\n",
    "\n",
    "#each farm has a water capacity. this is where we used the acres of water required for each crop \n",
    "for f in F_f:\n",
    "    model.cons.add(sum([model.dv_f[c,f] * CropSTs.loc[c,'WaterReq'] for c in C_f]) <= FarmSTs.loc['WaterCap',f])\n",
    "    \n",
    "SolverFactory('glpk').solve(model)\n",
    "model.display()"
   ]
  },
  {
   "cell_type": "markdown",
   "id": "f7045100-78ef-45d7-ac2b-e4a7331617ed",
   "metadata": {
    "tags": []
   },
   "source": [
    "### Inventory Management"
   ]
  },
  {
   "cell_type": "markdown",
   "id": "1ac96810-3af4-4aca-9f4b-2d5a5817cb40",
   "metadata": {},
   "source": [
    "##### Problem Description:"
   ]
  },
  {
   "cell_type": "code",
   "execution_count": 121,
   "id": "f9906a26-cb37-444e-90e6-c4ca3d8708dc",
   "metadata": {
    "tags": []
   },
   "outputs": [],
   "source": [
    "IMDVs = pd.read_excel(\"Portfolio3Data.xlsx\", sheet_name=\"IMDVs\", index_col=0)\n",
    "IMDemand = pd.read_excel(\"Portfolio3Data.xlsx\", sheet_name=\"IMDemand\", index_col=0)"
   ]
  },
  {
   "cell_type": "code",
   "execution_count": 122,
   "id": "b644122e-14e8-40c2-9163-3cc703c34b87",
   "metadata": {
    "tags": []
   },
   "outputs": [
    {
     "data": {
      "text/html": [
       "<div>\n",
       "<style scoped>\n",
       "    .dataframe tbody tr th:only-of-type {\n",
       "        vertical-align: middle;\n",
       "    }\n",
       "\n",
       "    .dataframe tbody tr th {\n",
       "        vertical-align: top;\n",
       "    }\n",
       "\n",
       "    .dataframe thead th {\n",
       "        text-align: right;\n",
       "    }\n",
       "</style>\n",
       "<table border=\"1\" class=\"dataframe\">\n",
       "  <thead>\n",
       "    <tr style=\"text-align: right;\">\n",
       "      <th></th>\n",
       "      <th>H</th>\n",
       "      <th>L</th>\n",
       "      <th>LU</th>\n",
       "      <th>LR</th>\n",
       "      <th>HFL</th>\n",
       "      <th>HU</th>\n",
       "      <th>HR</th>\n",
       "    </tr>\n",
       "  </thead>\n",
       "  <tbody>\n",
       "    <tr>\n",
       "      <th>1</th>\n",
       "      <td>0</td>\n",
       "      <td>0</td>\n",
       "      <td>0</td>\n",
       "      <td>0</td>\n",
       "      <td>0</td>\n",
       "      <td>0</td>\n",
       "      <td>0</td>\n",
       "    </tr>\n",
       "    <tr>\n",
       "      <th>2</th>\n",
       "      <td>0</td>\n",
       "      <td>0</td>\n",
       "      <td>0</td>\n",
       "      <td>0</td>\n",
       "      <td>0</td>\n",
       "      <td>0</td>\n",
       "      <td>0</td>\n",
       "    </tr>\n",
       "    <tr>\n",
       "      <th>3</th>\n",
       "      <td>0</td>\n",
       "      <td>0</td>\n",
       "      <td>0</td>\n",
       "      <td>0</td>\n",
       "      <td>0</td>\n",
       "      <td>0</td>\n",
       "      <td>0</td>\n",
       "    </tr>\n",
       "    <tr>\n",
       "      <th>4</th>\n",
       "      <td>0</td>\n",
       "      <td>0</td>\n",
       "      <td>0</td>\n",
       "      <td>0</td>\n",
       "      <td>0</td>\n",
       "      <td>0</td>\n",
       "      <td>0</td>\n",
       "    </tr>\n",
       "    <tr>\n",
       "      <th>5</th>\n",
       "      <td>0</td>\n",
       "      <td>0</td>\n",
       "      <td>0</td>\n",
       "      <td>0</td>\n",
       "      <td>0</td>\n",
       "      <td>0</td>\n",
       "      <td>0</td>\n",
       "    </tr>\n",
       "    <tr>\n",
       "      <th>6</th>\n",
       "      <td>0</td>\n",
       "      <td>0</td>\n",
       "      <td>0</td>\n",
       "      <td>0</td>\n",
       "      <td>0</td>\n",
       "      <td>0</td>\n",
       "      <td>0</td>\n",
       "    </tr>\n",
       "    <tr>\n",
       "      <th>7</th>\n",
       "      <td>0</td>\n",
       "      <td>0</td>\n",
       "      <td>0</td>\n",
       "      <td>0</td>\n",
       "      <td>0</td>\n",
       "      <td>0</td>\n",
       "      <td>0</td>\n",
       "    </tr>\n",
       "  </tbody>\n",
       "</table>\n",
       "</div>"
      ],
      "text/plain": [
       "   H  L  LU  LR  HFL  HU  HR\n",
       "1  0  0   0   0    0   0   0\n",
       "2  0  0   0   0    0   0   0\n",
       "3  0  0   0   0    0   0   0\n",
       "4  0  0   0   0    0   0   0\n",
       "5  0  0   0   0    0   0   0\n",
       "6  0  0   0   0    0   0   0\n",
       "7  0  0   0   0    0   0   0"
      ]
     },
     "execution_count": 122,
     "metadata": {},
     "output_type": "execute_result"
    }
   ],
   "source": [
    "IMDVs"
   ]
  },
  {
   "cell_type": "code",
   "execution_count": 123,
   "id": "708fd29b-27c5-4b5b-90bd-a6c91618c8f9",
   "metadata": {
    "tags": []
   },
   "outputs": [
    {
     "data": {
      "text/html": [
       "<div>\n",
       "<style scoped>\n",
       "    .dataframe tbody tr th:only-of-type {\n",
       "        vertical-align: middle;\n",
       "    }\n",
       "\n",
       "    .dataframe tbody tr th {\n",
       "        vertical-align: top;\n",
       "    }\n",
       "\n",
       "    .dataframe thead th {\n",
       "        text-align: right;\n",
       "    }\n",
       "</style>\n",
       "<table border=\"1\" class=\"dataframe\">\n",
       "  <thead>\n",
       "    <tr style=\"text-align: right;\">\n",
       "      <th></th>\n",
       "      <th>LightDemand</th>\n",
       "      <th>HeavyDemand</th>\n",
       "    </tr>\n",
       "  </thead>\n",
       "  <tbody>\n",
       "    <tr>\n",
       "      <th>1</th>\n",
       "      <td>6</td>\n",
       "      <td>0</td>\n",
       "    </tr>\n",
       "    <tr>\n",
       "      <th>2</th>\n",
       "      <td>3</td>\n",
       "      <td>2</td>\n",
       "    </tr>\n",
       "    <tr>\n",
       "      <th>3</th>\n",
       "      <td>5</td>\n",
       "      <td>4</td>\n",
       "    </tr>\n",
       "    <tr>\n",
       "      <th>4</th>\n",
       "      <td>8</td>\n",
       "      <td>3</td>\n",
       "    </tr>\n",
       "    <tr>\n",
       "      <th>5</th>\n",
       "      <td>2</td>\n",
       "      <td>1</td>\n",
       "    </tr>\n",
       "    <tr>\n",
       "      <th>6</th>\n",
       "      <td>4</td>\n",
       "      <td>4</td>\n",
       "    </tr>\n",
       "    <tr>\n",
       "      <th>7</th>\n",
       "      <td>1</td>\n",
       "      <td>2</td>\n",
       "    </tr>\n",
       "  </tbody>\n",
       "</table>\n",
       "</div>"
      ],
      "text/plain": [
       "   LightDemand  HeavyDemand\n",
       "1            6            0\n",
       "2            3            2\n",
       "3            5            4\n",
       "4            8            3\n",
       "5            2            1\n",
       "6            4            4\n",
       "7            1            2"
      ]
     },
     "execution_count": 123,
     "metadata": {},
     "output_type": "execute_result"
    }
   ],
   "source": [
    "IMDemand"
   ]
  },
  {
   "cell_type": "code",
   "execution_count": null,
   "id": "aa9775f8-8976-46eb-aeb6-854aafdddce0",
   "metadata": {},
   "outputs": [],
   "source": [
    "# we will make days of the week an index set\n",
    "# we wont make light and heavy index set because they dont behave the same in the model"
   ]
  },
  {
   "cell_type": "code",
   "execution_count": 59,
   "id": "e4a231d8-c86a-4e92-b80c-247f1ac99e1b",
   "metadata": {
    "tags": []
   },
   "outputs": [],
   "source": [
    "## DVS: #1. no heavy owned H **not day dependent and we do not need to multiply it by 7\n",
    "        #2. no light owned L **not day dependent\n",
    "        #3. no light used LU[d] *everything with [d] will change by day\n",
    "        #4. no light rented LR[d]\n",
    "        #5. no heavy for light HFL[d]\n",
    "        #6. no heavy used HU[d] ***not including HFL\n",
    "        #7. no heavy rent HR[d]\n",
    "# the trucks we own are constants, they are not day-dependent\n",
    "# the trucks we rent are day-dependent\n",
    "\n",
    "## Objective: MIN cost = cost of light owned * no light owned + cost heavy owned * no heavy owned + cost light rented * no light rented + cost heavy rent * no heavy rent\n",
    "        # sum across our days of: (32L + 44H + 40LU + 54(HU+HFL) + 175LR + 225HR)\n",
    "\n",
    "\n",
    "## Constraints \n",
    "\n",
    "## ST 1: demand per day\n",
    "# demand changes per day\n",
    "# the first thing we will do is we will meet heavy demand\n",
    "\n",
    "#D = IMdays.index\n",
    "# for every day, Heavy used for each day + heavy rent for each day >= heavy demand for that day \n",
    "#for d in D:\n",
    " #   HU[d] + HR[d] >= HDemand[d]\n",
    "    \n",
    "#for d in D:\n",
    " #   HU[d] + HFL[d] <= H\n",
    "    \n",
    "## the greatest HU[d] can be is H\n",
    "## when H <= HD then HU = H\n",
    "## when HU <= HD then HL = HD-HU\n",
    "## the obj fct will make sure we go in the right order\n",
    "## if H >= HD then we rent nothing and HU = \n",
    "## HU + HFL <= H\n",
    "##HFL will only turn on if we need it for the lights but the above calc tells us how much HFL room we have \n",
    "\n",
    "##\n",
    "#for d in D: \n",
    "\n",
    "## LU[d] + HFL[d] + LR[d] >= LD[d]\n",
    "## LU[d] <= L\n",
    "## when we owned more light than demand, LU = LD, HFL=0, LR =0\n",
    "## when LU<=D, then LU = L, look for HFL and use that and if we still need more then we will rent lights"
   ]
  },
  {
   "cell_type": "code",
   "execution_count": 124,
   "id": "8f4daf4d-05f8-45f3-92e6-068307c6cfb2",
   "metadata": {
    "tags": []
   },
   "outputs": [
    {
     "name": "stdout",
     "output_type": "stream",
     "text": [
      "Model Inventory Management\n",
      "\n",
      "  Variables:\n",
      "    L : Size=1, Index=None\n",
      "        Key  : Lower : Value : Upper : Fixed : Stale : Domain\n",
      "        None :     0 :   5.0 :  None : False : False : NonNegativeIntegers\n",
      "    H : Size=1, Index=None\n",
      "        Key  : Lower : Value : Upper : Fixed : Stale : Domain\n",
      "        None :     0 :   4.0 :  None : False : False : NonNegativeIntegers\n",
      "    LU : Size=7, Index={1, 2, 3, 4, 5, 6, 7}\n",
      "        Key : Lower : Value : Upper : Fixed : Stale : Domain\n",
      "          1 :     0 :   5.0 :  None : False : False : NonNegativeIntegers\n",
      "          2 :     0 :   3.0 :  None : False : False : NonNegativeIntegers\n",
      "          3 :     0 :   5.0 :  None : False : False : NonNegativeIntegers\n",
      "          4 :     0 :   5.0 :  None : False : False : NonNegativeIntegers\n",
      "          5 :     0 :   2.0 :  None : False : False : NonNegativeIntegers\n",
      "          6 :     0 :   4.0 :  None : False : False : NonNegativeIntegers\n",
      "          7 :     0 :   1.0 :  None : False : False : NonNegativeIntegers\n",
      "    HU : Size=7, Index={1, 2, 3, 4, 5, 6, 7}\n",
      "        Key : Lower : Value : Upper : Fixed : Stale : Domain\n",
      "          1 :     0 :   0.0 :  None : False : False : NonNegativeIntegers\n",
      "          2 :     0 :   2.0 :  None : False : False : NonNegativeIntegers\n",
      "          3 :     0 :   4.0 :  None : False : False : NonNegativeIntegers\n",
      "          4 :     0 :   3.0 :  None : False : False : NonNegativeIntegers\n",
      "          5 :     0 :   1.0 :  None : False : False : NonNegativeIntegers\n",
      "          6 :     0 :   4.0 :  None : False : False : NonNegativeIntegers\n",
      "          7 :     0 :   2.0 :  None : False : False : NonNegativeIntegers\n",
      "    HFL : Size=7, Index={1, 2, 3, 4, 5, 6, 7}\n",
      "        Key : Lower : Value : Upper : Fixed : Stale : Domain\n",
      "          1 :     0 :   1.0 :  None : False : False : NonNegativeIntegers\n",
      "          2 :     0 :   0.0 :  None : False : False : NonNegativeIntegers\n",
      "          3 :     0 :   0.0 :  None : False : False : NonNegativeIntegers\n",
      "          4 :     0 :   1.0 :  None : False : False : NonNegativeIntegers\n",
      "          5 :     0 :   0.0 :  None : False : False : NonNegativeIntegers\n",
      "          6 :     0 :   0.0 :  None : False : False : NonNegativeIntegers\n",
      "          7 :     0 :   0.0 :  None : False : False : NonNegativeIntegers\n",
      "    LR : Size=7, Index={1, 2, 3, 4, 5, 6, 7}\n",
      "        Key : Lower : Value : Upper : Fixed : Stale : Domain\n",
      "          1 :     0 :   0.0 :  None : False : False : NonNegativeIntegers\n",
      "          2 :     0 :   0.0 :  None : False : False : NonNegativeIntegers\n",
      "          3 :     0 :   0.0 :  None : False : False : NonNegativeIntegers\n",
      "          4 :     0 :   2.0 :  None : False : False : NonNegativeIntegers\n",
      "          5 :     0 :   0.0 :  None : False : False : NonNegativeIntegers\n",
      "          6 :     0 :   0.0 :  None : False : False : NonNegativeIntegers\n",
      "          7 :     0 :   0.0 :  None : False : False : NonNegativeIntegers\n",
      "    HR : Size=7, Index={1, 2, 3, 4, 5, 6, 7}\n",
      "        Key : Lower : Value : Upper : Fixed : Stale : Domain\n",
      "          1 :     0 :   0.0 :  None : False : False : NonNegativeIntegers\n",
      "          2 :     0 :   0.0 :  None : False : False : NonNegativeIntegers\n",
      "          3 :     0 :   0.0 :  None : False : False : NonNegativeIntegers\n",
      "          4 :     0 :   0.0 :  None : False : False : NonNegativeIntegers\n",
      "          5 :     0 :   0.0 :  None : False : False : NonNegativeIntegers\n",
      "          6 :     0 :   0.0 :  None : False : False : NonNegativeIntegers\n",
      "          7 :     0 :   0.0 :  None : False : False : NonNegativeIntegers\n",
      "\n",
      "  Objectives:\n",
      "    cost : Size=1, Index=None, Active=True\n",
      "        Key  : Active : Value\n",
      "        None :   True : 4674.0\n",
      "\n",
      "  Constraints:\n",
      "    cons : Size=28\n",
      "        Key : Lower : Body : Upper\n",
      "          1 :   0.0 :  0.0 :  None\n",
      "          2 :   2.0 :  2.0 :  None\n",
      "          3 :   4.0 :  4.0 :  None\n",
      "          4 :   3.0 :  3.0 :  None\n",
      "          5 :   1.0 :  1.0 :  None\n",
      "          6 :   4.0 :  4.0 :  None\n",
      "          7 :   2.0 :  2.0 :  None\n",
      "          8 :  None : -3.0 :   0.0\n",
      "          9 :  None : -2.0 :   0.0\n",
      "         10 :  None :  0.0 :   0.0\n",
      "         11 :  None :  0.0 :   0.0\n",
      "         12 :  None : -3.0 :   0.0\n",
      "         13 :  None :  0.0 :   0.0\n",
      "         14 :  None : -2.0 :   0.0\n",
      "         15 :   6.0 :  6.0 :  None\n",
      "         16 :   3.0 :  3.0 :  None\n",
      "         17 :   5.0 :  5.0 :  None\n",
      "         18 :   8.0 :  8.0 :  None\n",
      "         19 :   2.0 :  2.0 :  None\n",
      "         20 :   4.0 :  4.0 :  None\n",
      "         21 :   1.0 :  1.0 :  None\n",
      "         22 :  None :  0.0 :   0.0\n",
      "         23 :  None : -2.0 :   0.0\n",
      "         24 :  None :  0.0 :   0.0\n",
      "         25 :  None :  0.0 :   0.0\n",
      "         26 :  None : -3.0 :   0.0\n",
      "         27 :  None : -1.0 :   0.0\n",
      "         28 :  None : -4.0 :   0.0\n"
     ]
    }
   ],
   "source": [
    "model = ConcreteModel(\"Inventory Management\")\n",
    "\n",
    "D_im=IMDemand.index #D for demand\n",
    "\n",
    "## DECLARE DVS\n",
    "model.L = Var(domain=NonNegativeIntegers)\n",
    "model.H = Var(domain=NonNegativeIntegers)\n",
    "\n",
    "model.LU = Var(D_im, domain=NonNegativeIntegers)\n",
    "model.HU = Var(D_im, domain=NonNegativeIntegers)\n",
    "model.HFL = Var(D_im, domain=NonNegativeIntegers)\n",
    "model.LR = Var(D_im, domain=NonNegativeIntegers)\n",
    "model.HR = Var(D_im, domain=NonNegativeIntegers)\n",
    "\n",
    "## OBJECTIVE FUNCTION\n",
    "model.cost = Objective(expr = sum([ \n",
    "            (32 * model.L)\n",
    "            + (44 * model.H)\n",
    "            + (40 * model.LU[d])\n",
    "            + (54 * (model.HU[d] + model.HFL[d]))\n",
    "            + (175 * model.LR[d])\n",
    "            + (225 * model.HR[d])\n",
    "            for d in D_im]), sense = minimize)\n",
    "\n",
    "## CONSTRAINTS\n",
    "model.cons = ConstraintList()\n",
    "\n",
    "# for every day HU + HR >= Hdemand \n",
    "for d in D_im:\n",
    "    model.cons.add(model.HU[d] + model.HR[d] >= IMDemand.loc[d,'HeavyDemand'])\n",
    "\n",
    "\n",
    "# for every day HU + HFL <= H\n",
    "for d in D_im:\n",
    "    model.cons.add(model.HU[d] + model.HFL[d] <= model.H)\n",
    "    \n",
    "\n",
    "# for every day LU + HFL + LR  >= LDemand \n",
    "for d in D_im:\n",
    "    model.cons.add(model.LU[d] + model.HFL[d] + model.LR[d] >= IMDemand.loc[d,'LightDemand'])\n",
    "\n",
    "# for every day LU <= L\n",
    "for d in D_im:\n",
    "    model.cons.add(model.LU[d] <= model.L)\n",
    "    \n",
    "    \n",
    "#for r in R:\n",
    " #   model.cons.add(sum(model.dv_pf[f,i] for f in F * PFResources[f,r]) <= PFResources.loc['Capacity',r])\n",
    "    \n",
    "SolverFactory('glpk').solve(model)\n",
    "model.display()"
   ]
  },
  {
   "cell_type": "markdown",
   "id": "c4ae6e65-0477-4024-b5f5-38c85b4ffb5a",
   "metadata": {
    "tags": []
   },
   "source": [
    "### Inventory Depletion"
   ]
  },
  {
   "cell_type": "markdown",
   "id": "6cde55cb-215c-43a8-8976-5814c92f4049",
   "metadata": {},
   "source": [
    "##### Problem Description:"
   ]
  },
  {
   "cell_type": "code",
   "execution_count": null,
   "id": "bb4d1516-52cd-47c5-a127-51f0492df0dc",
   "metadata": {},
   "outputs": [],
   "source": [
    "## Decision Variables: how many weekender packages and expedition packages to make\n",
    "## Objective: MAX profit = sum(# each package * the respective cost) - sum(# each package * 1.5)\n",
    "## Constraints: cant use up more than the current inventories of fruit, meat, and veggies"
   ]
  },
  {
   "cell_type": "code",
   "execution_count": 125,
   "id": "9d2d40c5-ee5e-421e-a7aa-d01e8c9aa2af",
   "metadata": {
    "tags": []
   },
   "outputs": [],
   "source": [
    "IDRevenue = pd.read_excel(\"Portfolio3Data.xlsx\", sheet_name=\"IDRevenue\", index_col=0)\n",
    "IDCost = pd.read_excel(\"Portfolio3Data.xlsx\", sheet_name=\"IDCost\", index_col=0)\n",
    "IDIngredients = pd.read_excel(\"Portfolio3Data.xlsx\", sheet_name=\"IDIngredients\", index_col=0)"
   ]
  },
  {
   "cell_type": "code",
   "execution_count": 126,
   "id": "8cb29bfb-e74e-497f-aa23-0d240c79f1a9",
   "metadata": {
    "tags": []
   },
   "outputs": [
    {
     "data": {
      "text/html": [
       "<div>\n",
       "<style scoped>\n",
       "    .dataframe tbody tr th:only-of-type {\n",
       "        vertical-align: middle;\n",
       "    }\n",
       "\n",
       "    .dataframe tbody tr th {\n",
       "        vertical-align: top;\n",
       "    }\n",
       "\n",
       "    .dataframe thead th {\n",
       "        text-align: right;\n",
       "    }\n",
       "</style>\n",
       "<table border=\"1\" class=\"dataframe\">\n",
       "  <thead>\n",
       "    <tr style=\"text-align: right;\">\n",
       "      <th></th>\n",
       "      <th>Weekender</th>\n",
       "      <th>Expedition</th>\n",
       "    </tr>\n",
       "  </thead>\n",
       "  <tbody>\n",
       "    <tr>\n",
       "      <th>Revenue</th>\n",
       "      <td>3.8</td>\n",
       "      <td>7</td>\n",
       "    </tr>\n",
       "  </tbody>\n",
       "</table>\n",
       "</div>"
      ],
      "text/plain": [
       "         Weekender  Expedition\n",
       "Revenue        3.8           7"
      ]
     },
     "execution_count": 126,
     "metadata": {},
     "output_type": "execute_result"
    }
   ],
   "source": [
    "IDRevenue"
   ]
  },
  {
   "cell_type": "code",
   "execution_count": 127,
   "id": "daf3f90e-bdb6-4f14-9ae1-e071385020c9",
   "metadata": {
    "tags": []
   },
   "outputs": [
    {
     "data": {
      "text/html": [
       "<div>\n",
       "<style scoped>\n",
       "    .dataframe tbody tr th:only-of-type {\n",
       "        vertical-align: middle;\n",
       "    }\n",
       "\n",
       "    .dataframe tbody tr th {\n",
       "        vertical-align: top;\n",
       "    }\n",
       "\n",
       "    .dataframe thead th {\n",
       "        text-align: right;\n",
       "    }\n",
       "</style>\n",
       "<table border=\"1\" class=\"dataframe\">\n",
       "  <thead>\n",
       "    <tr style=\"text-align: right;\">\n",
       "      <th></th>\n",
       "      <th>Weekender</th>\n",
       "      <th>Expedition</th>\n",
       "    </tr>\n",
       "  </thead>\n",
       "  <tbody>\n",
       "    <tr>\n",
       "      <th>Cost</th>\n",
       "      <td>1.5</td>\n",
       "      <td>1.5</td>\n",
       "    </tr>\n",
       "  </tbody>\n",
       "</table>\n",
       "</div>"
      ],
      "text/plain": [
       "      Weekender  Expedition\n",
       "Cost        1.5         1.5"
      ]
     },
     "execution_count": 127,
     "metadata": {},
     "output_type": "execute_result"
    }
   ],
   "source": [
    "IDCost"
   ]
  },
  {
   "cell_type": "code",
   "execution_count": 128,
   "id": "b155b1ad-056f-40f3-be96-3fd1b8804a8d",
   "metadata": {
    "tags": []
   },
   "outputs": [
    {
     "data": {
      "text/html": [
       "<div>\n",
       "<style scoped>\n",
       "    .dataframe tbody tr th:only-of-type {\n",
       "        vertical-align: middle;\n",
       "    }\n",
       "\n",
       "    .dataframe tbody tr th {\n",
       "        vertical-align: top;\n",
       "    }\n",
       "\n",
       "    .dataframe thead th {\n",
       "        text-align: right;\n",
       "    }\n",
       "</style>\n",
       "<table border=\"1\" class=\"dataframe\">\n",
       "  <thead>\n",
       "    <tr style=\"text-align: right;\">\n",
       "      <th></th>\n",
       "      <th>Weekender</th>\n",
       "      <th>Expedition</th>\n",
       "      <th>Capacity</th>\n",
       "    </tr>\n",
       "  </thead>\n",
       "  <tbody>\n",
       "    <tr>\n",
       "      <th>Fruit</th>\n",
       "      <td>3</td>\n",
       "      <td>5</td>\n",
       "      <td>10000</td>\n",
       "    </tr>\n",
       "    <tr>\n",
       "      <th>Meat</th>\n",
       "      <td>7</td>\n",
       "      <td>18</td>\n",
       "      <td>25000</td>\n",
       "    </tr>\n",
       "    <tr>\n",
       "      <th>Vegetables</th>\n",
       "      <td>2</td>\n",
       "      <td>5</td>\n",
       "      <td>12000</td>\n",
       "    </tr>\n",
       "  </tbody>\n",
       "</table>\n",
       "</div>"
      ],
      "text/plain": [
       "            Weekender  Expedition  Capacity\n",
       "Fruit               3           5     10000\n",
       "Meat                7          18     25000\n",
       "Vegetables          2           5     12000"
      ]
     },
     "execution_count": 128,
     "metadata": {},
     "output_type": "execute_result"
    }
   ],
   "source": [
    "IDIngredients"
   ]
  },
  {
   "cell_type": "code",
   "execution_count": 129,
   "id": "870a598b-35d5-4d5c-9358-ba2fd6fdac12",
   "metadata": {
    "tags": []
   },
   "outputs": [
    {
     "name": "stdout",
     "output_type": "stream",
     "text": [
      "Model Inventory Depletion\n",
      "\n",
      "  Variables:\n",
      "    dv_id : Size=2, Index={Expedition, Weekender}\n",
      "        Key        : Lower : Value  : Upper : Fixed : Stale : Domain\n",
      "        Expedition :     0 :  263.0 :  None : False : False : NonNegativeIntegers\n",
      "         Weekender :     0 : 2895.0 :  None : False : False : NonNegativeIntegers\n",
      "\n",
      "  Objectives:\n",
      "    profit : Size=1, Index=None, Active=True\n",
      "        Key  : Active : Value\n",
      "        None :   True : 8105.0\n",
      "\n",
      "  Constraints:\n",
      "    cons : Size=3\n",
      "        Key : Lower : Body    : Upper\n",
      "          1 :  None : 10000.0 : 10000.0\n",
      "          2 :  None : 24999.0 : 25000.0\n",
      "          3 :  None :  7105.0 : 12000.0\n"
     ]
    }
   ],
   "source": [
    "model = ConcreteModel(\"Inventory Depletion\")\n",
    "\n",
    "Package_id = IDRevenue.keys()\n",
    "\n",
    "model.dv_id = Var(Package_id, domain = NonNegativeIntegers)\n",
    "\n",
    "model.profit = Objective(expr = \n",
    "                         sum([\n",
    "                             model.dv_id[p] *\n",
    "                             IDRevenue.loc['Revenue', p] \n",
    "                             for p in Package_id]) -\n",
    "                         sum([\n",
    "                             model.dv_id[p] *\n",
    "                             IDCost.loc['Cost',p]\n",
    "                             for p in Package_id]),\n",
    "                         sense = maximize)\n",
    "\n",
    "\n",
    "model.cons = ConstraintList()\n",
    "\n",
    "I_id = IDIngredients.index #I for ingredients\n",
    "\n",
    "for i in I_id:\n",
    "    model.cons.add(\n",
    "        sum([\n",
    "            model.dv_id[p] *\n",
    "            IDIngredients.loc[i,p]\n",
    "            for p in Package_id\n",
    "        ]) \n",
    "        <= IDIngredients.loc[i,'Capacity'])\n",
    "    \n",
    "SolverFactory('glpk').solve(model)\n",
    "model.display()    "
   ]
  },
  {
   "cell_type": "markdown",
   "id": "7aacc389-a80f-46c8-96be-984b4ce5a9d3",
   "metadata": {},
   "source": [
    "### Second Employee Scheduling"
   ]
  },
  {
   "cell_type": "markdown",
   "id": "61b3a420-145e-4aa9-aee7-fc842413d151",
   "metadata": {},
   "source": [
    "##### Problem Description:"
   ]
  },
  {
   "cell_type": "code",
   "execution_count": 130,
   "id": "45859dd3-36a3-42f9-b164-f20c455a2425",
   "metadata": {},
   "outputs": [],
   "source": [
    "## Decision Variables: how many english and bilingual consultants to start at 7, how many english and biligual consultants to start and 8, etc for 9, 10, and 11\n",
    "## Objective: minimize wage cost\n",
    "## Constraints: meet demand"
   ]
  },
  {
   "cell_type": "code",
   "execution_count": 43,
   "id": "f9f60e9a-8258-4482-891e-730e3084a55f",
   "metadata": {
    "tags": []
   },
   "outputs": [],
   "source": [
    "SESCost = pd.read_excel(\"Portfolio3Data.xlsx\", sheet_name=\"SESCost\", index_col=0)\n",
    "SESMatrix = pd.read_excel(\"Portfolio3Data.xlsx\", sheet_name=\"SESMatrix\", index_col=0)\n",
    "SESTotalDemand = pd.read_excel(\"Portfolio3Data.xlsx\", sheet_name=\"SESTDemand\", index_col=0)\n",
    "SESSpanishDemand = pd.read_excel(\"Portfolio3Data.xlsx\", sheet_name=\"SESSDemand\", index_col=0)"
   ]
  },
  {
   "cell_type": "code",
   "execution_count": 44,
   "id": "d09ccc43-9f57-4fc5-bc3a-d75adc323c3c",
   "metadata": {
    "tags": []
   },
   "outputs": [
    {
     "data": {
      "text/html": [
       "<div>\n",
       "<style scoped>\n",
       "    .dataframe tbody tr th:only-of-type {\n",
       "        vertical-align: middle;\n",
       "    }\n",
       "\n",
       "    .dataframe tbody tr th {\n",
       "        vertical-align: top;\n",
       "    }\n",
       "\n",
       "    .dataframe thead th {\n",
       "        text-align: right;\n",
       "    }\n",
       "</style>\n",
       "<table border=\"1\" class=\"dataframe\">\n",
       "  <thead>\n",
       "    <tr style=\"text-align: right;\">\n",
       "      <th></th>\n",
       "      <th>7</th>\n",
       "      <th>8</th>\n",
       "      <th>9</th>\n",
       "      <th>10</th>\n",
       "      <th>11</th>\n",
       "    </tr>\n",
       "  </thead>\n",
       "  <tbody>\n",
       "    <tr>\n",
       "      <th>7am</th>\n",
       "      <td>1</td>\n",
       "      <td>0</td>\n",
       "      <td>0</td>\n",
       "      <td>0</td>\n",
       "      <td>0</td>\n",
       "    </tr>\n",
       "    <tr>\n",
       "      <th>8am</th>\n",
       "      <td>1</td>\n",
       "      <td>1</td>\n",
       "      <td>0</td>\n",
       "      <td>0</td>\n",
       "      <td>0</td>\n",
       "    </tr>\n",
       "    <tr>\n",
       "      <th>9am</th>\n",
       "      <td>1</td>\n",
       "      <td>1</td>\n",
       "      <td>1</td>\n",
       "      <td>0</td>\n",
       "      <td>0</td>\n",
       "    </tr>\n",
       "    <tr>\n",
       "      <th>10am</th>\n",
       "      <td>1</td>\n",
       "      <td>1</td>\n",
       "      <td>1</td>\n",
       "      <td>1</td>\n",
       "      <td>0</td>\n",
       "    </tr>\n",
       "    <tr>\n",
       "      <th>11am</th>\n",
       "      <td>0</td>\n",
       "      <td>1</td>\n",
       "      <td>1</td>\n",
       "      <td>1</td>\n",
       "      <td>1</td>\n",
       "    </tr>\n",
       "    <tr>\n",
       "      <th>12pm</th>\n",
       "      <td>1</td>\n",
       "      <td>0</td>\n",
       "      <td>1</td>\n",
       "      <td>1</td>\n",
       "      <td>1</td>\n",
       "    </tr>\n",
       "    <tr>\n",
       "      <th>1pm</th>\n",
       "      <td>1</td>\n",
       "      <td>1</td>\n",
       "      <td>0</td>\n",
       "      <td>1</td>\n",
       "      <td>1</td>\n",
       "    </tr>\n",
       "    <tr>\n",
       "      <th>2pm</th>\n",
       "      <td>1</td>\n",
       "      <td>1</td>\n",
       "      <td>1</td>\n",
       "      <td>0</td>\n",
       "      <td>1</td>\n",
       "    </tr>\n",
       "    <tr>\n",
       "      <th>3pm</th>\n",
       "      <td>1</td>\n",
       "      <td>1</td>\n",
       "      <td>1</td>\n",
       "      <td>1</td>\n",
       "      <td>0</td>\n",
       "    </tr>\n",
       "    <tr>\n",
       "      <th>4pm</th>\n",
       "      <td>0</td>\n",
       "      <td>1</td>\n",
       "      <td>1</td>\n",
       "      <td>1</td>\n",
       "      <td>1</td>\n",
       "    </tr>\n",
       "    <tr>\n",
       "      <th>5pm</th>\n",
       "      <td>0</td>\n",
       "      <td>0</td>\n",
       "      <td>1</td>\n",
       "      <td>1</td>\n",
       "      <td>1</td>\n",
       "    </tr>\n",
       "    <tr>\n",
       "      <th>6pm</th>\n",
       "      <td>0</td>\n",
       "      <td>0</td>\n",
       "      <td>0</td>\n",
       "      <td>1</td>\n",
       "      <td>1</td>\n",
       "    </tr>\n",
       "    <tr>\n",
       "      <th>7pm</th>\n",
       "      <td>0</td>\n",
       "      <td>0</td>\n",
       "      <td>0</td>\n",
       "      <td>0</td>\n",
       "      <td>1</td>\n",
       "    </tr>\n",
       "  </tbody>\n",
       "</table>\n",
       "</div>"
      ],
      "text/plain": [
       "      7   8   9   10  11\n",
       "7am    1   0   0   0   0\n",
       "8am    1   1   0   0   0\n",
       "9am    1   1   1   0   0\n",
       "10am   1   1   1   1   0\n",
       "11am   0   1   1   1   1\n",
       "12pm   1   0   1   1   1\n",
       "1pm    1   1   0   1   1\n",
       "2pm    1   1   1   0   1\n",
       "3pm    1   1   1   1   0\n",
       "4pm    0   1   1   1   1\n",
       "5pm    0   0   1   1   1\n",
       "6pm    0   0   0   1   1\n",
       "7pm    0   0   0   0   1"
      ]
     },
     "execution_count": 44,
     "metadata": {},
     "output_type": "execute_result"
    }
   ],
   "source": [
    "SESMatrix"
   ]
  },
  {
   "cell_type": "code",
   "execution_count": 45,
   "id": "8a0ea1d7-efa1-4bd1-9d57-f72ad04786ed",
   "metadata": {
    "tags": []
   },
   "outputs": [
    {
     "data": {
      "text/html": [
       "<div>\n",
       "<style scoped>\n",
       "    .dataframe tbody tr th:only-of-type {\n",
       "        vertical-align: middle;\n",
       "    }\n",
       "\n",
       "    .dataframe tbody tr th {\n",
       "        vertical-align: top;\n",
       "    }\n",
       "\n",
       "    .dataframe thead th {\n",
       "        text-align: right;\n",
       "    }\n",
       "</style>\n",
       "<table border=\"1\" class=\"dataframe\">\n",
       "  <thead>\n",
       "    <tr style=\"text-align: right;\">\n",
       "      <th></th>\n",
       "      <th>Total_Demand</th>\n",
       "    </tr>\n",
       "  </thead>\n",
       "  <tbody>\n",
       "    <tr>\n",
       "      <th>7am</th>\n",
       "      <td>9</td>\n",
       "    </tr>\n",
       "    <tr>\n",
       "      <th>8am</th>\n",
       "      <td>9</td>\n",
       "    </tr>\n",
       "    <tr>\n",
       "      <th>9am</th>\n",
       "      <td>9</td>\n",
       "    </tr>\n",
       "    <tr>\n",
       "      <th>10am</th>\n",
       "      <td>9</td>\n",
       "    </tr>\n",
       "    <tr>\n",
       "      <th>11am</th>\n",
       "      <td>8</td>\n",
       "    </tr>\n",
       "    <tr>\n",
       "      <th>12pm</th>\n",
       "      <td>11</td>\n",
       "    </tr>\n",
       "    <tr>\n",
       "      <th>1pm</th>\n",
       "      <td>9</td>\n",
       "    </tr>\n",
       "    <tr>\n",
       "      <th>2pm</th>\n",
       "      <td>7</td>\n",
       "    </tr>\n",
       "    <tr>\n",
       "      <th>3pm</th>\n",
       "      <td>6</td>\n",
       "    </tr>\n",
       "    <tr>\n",
       "      <th>4pm</th>\n",
       "      <td>6</td>\n",
       "    </tr>\n",
       "    <tr>\n",
       "      <th>5pm</th>\n",
       "      <td>8</td>\n",
       "    </tr>\n",
       "    <tr>\n",
       "      <th>6pm</th>\n",
       "      <td>9</td>\n",
       "    </tr>\n",
       "    <tr>\n",
       "      <th>7pm</th>\n",
       "      <td>7</td>\n",
       "    </tr>\n",
       "  </tbody>\n",
       "</table>\n",
       "</div>"
      ],
      "text/plain": [
       "      Total_Demand\n",
       "7am              9\n",
       "8am              9\n",
       "9am              9\n",
       "10am             9\n",
       "11am             8\n",
       "12pm            11\n",
       "1pm              9\n",
       "2pm              7\n",
       "3pm              6\n",
       "4pm              6\n",
       "5pm              8\n",
       "6pm              9\n",
       "7pm              7"
      ]
     },
     "execution_count": 45,
     "metadata": {},
     "output_type": "execute_result"
    }
   ],
   "source": [
    "SESTotalDemand"
   ]
  },
  {
   "cell_type": "code",
   "execution_count": 46,
   "id": "27e58abe-536c-4c09-8444-078fc5206c1c",
   "metadata": {
    "tags": []
   },
   "outputs": [
    {
     "data": {
      "text/html": [
       "<div>\n",
       "<style scoped>\n",
       "    .dataframe tbody tr th:only-of-type {\n",
       "        vertical-align: middle;\n",
       "    }\n",
       "\n",
       "    .dataframe tbody tr th {\n",
       "        vertical-align: top;\n",
       "    }\n",
       "\n",
       "    .dataframe thead th {\n",
       "        text-align: right;\n",
       "    }\n",
       "</style>\n",
       "<table border=\"1\" class=\"dataframe\">\n",
       "  <thead>\n",
       "    <tr style=\"text-align: right;\">\n",
       "      <th></th>\n",
       "      <th>Spanish_Demand</th>\n",
       "    </tr>\n",
       "  </thead>\n",
       "  <tbody>\n",
       "    <tr>\n",
       "      <th>7am</th>\n",
       "      <td>5</td>\n",
       "    </tr>\n",
       "    <tr>\n",
       "      <th>8am</th>\n",
       "      <td>5</td>\n",
       "    </tr>\n",
       "    <tr>\n",
       "      <th>9am</th>\n",
       "      <td>4</td>\n",
       "    </tr>\n",
       "    <tr>\n",
       "      <th>10am</th>\n",
       "      <td>3</td>\n",
       "    </tr>\n",
       "    <tr>\n",
       "      <th>11am</th>\n",
       "      <td>2</td>\n",
       "    </tr>\n",
       "    <tr>\n",
       "      <th>12pm</th>\n",
       "      <td>3</td>\n",
       "    </tr>\n",
       "    <tr>\n",
       "      <th>1pm</th>\n",
       "      <td>4</td>\n",
       "    </tr>\n",
       "    <tr>\n",
       "      <th>2pm</th>\n",
       "      <td>3</td>\n",
       "    </tr>\n",
       "    <tr>\n",
       "      <th>3pm</th>\n",
       "      <td>2</td>\n",
       "    </tr>\n",
       "    <tr>\n",
       "      <th>4pm</th>\n",
       "      <td>1</td>\n",
       "    </tr>\n",
       "    <tr>\n",
       "      <th>5pm</th>\n",
       "      <td>3</td>\n",
       "    </tr>\n",
       "    <tr>\n",
       "      <th>6pm</th>\n",
       "      <td>4</td>\n",
       "    </tr>\n",
       "    <tr>\n",
       "      <th>7pm</th>\n",
       "      <td>4</td>\n",
       "    </tr>\n",
       "  </tbody>\n",
       "</table>\n",
       "</div>"
      ],
      "text/plain": [
       "      Spanish_Demand\n",
       "7am                5\n",
       "8am                5\n",
       "9am                4\n",
       "10am               3\n",
       "11am               2\n",
       "12pm               3\n",
       "1pm                4\n",
       "2pm                3\n",
       "3pm                2\n",
       "4pm                1\n",
       "5pm                3\n",
       "6pm                4\n",
       "7pm                4"
      ]
     },
     "execution_count": 46,
     "metadata": {},
     "output_type": "execute_result"
    }
   ],
   "source": [
    "SESSpanishDemand"
   ]
  },
  {
   "cell_type": "code",
   "execution_count": 47,
   "id": "c8b494f3-ac81-4578-90b9-c64f318616d4",
   "metadata": {
    "tags": []
   },
   "outputs": [
    {
     "data": {
      "text/html": [
       "<div>\n",
       "<style scoped>\n",
       "    .dataframe tbody tr th:only-of-type {\n",
       "        vertical-align: middle;\n",
       "    }\n",
       "\n",
       "    .dataframe tbody tr th {\n",
       "        vertical-align: top;\n",
       "    }\n",
       "\n",
       "    .dataframe thead th {\n",
       "        text-align: right;\n",
       "    }\n",
       "</style>\n",
       "<table border=\"1\" class=\"dataframe\">\n",
       "  <thead>\n",
       "    <tr style=\"text-align: right;\">\n",
       "      <th></th>\n",
       "      <th>7</th>\n",
       "      <th>8</th>\n",
       "      <th>9</th>\n",
       "      <th>10</th>\n",
       "      <th>11</th>\n",
       "    </tr>\n",
       "  </thead>\n",
       "  <tbody>\n",
       "    <tr>\n",
       "      <th>English_Cost</th>\n",
       "      <td>1.0</td>\n",
       "      <td>1.0</td>\n",
       "      <td>1.0</td>\n",
       "      <td>1.0</td>\n",
       "      <td>1.0</td>\n",
       "    </tr>\n",
       "    <tr>\n",
       "      <th>Bilingual_Cost</th>\n",
       "      <td>1.1</td>\n",
       "      <td>1.1</td>\n",
       "      <td>1.1</td>\n",
       "      <td>1.1</td>\n",
       "      <td>1.1</td>\n",
       "    </tr>\n",
       "  </tbody>\n",
       "</table>\n",
       "</div>"
      ],
      "text/plain": [
       "                 7    8    9    10   11\n",
       "English_Cost    1.0  1.0  1.0  1.0  1.0\n",
       "Bilingual_Cost  1.1  1.1  1.1  1.1  1.1"
      ]
     },
     "execution_count": 47,
     "metadata": {},
     "output_type": "execute_result"
    }
   ],
   "source": [
    "SESCost"
   ]
  },
  {
   "cell_type": "code",
   "execution_count": 54,
   "id": "7a2465b3-f77b-4761-838c-54455cb90dff",
   "metadata": {
    "tags": []
   },
   "outputs": [
    {
     "name": "stdout",
     "output_type": "stream",
     "text": [
      "Model Son of Employee Scheduling\n",
      "\n",
      "  Variables:\n",
      "    dv_sonemployeescheduling : Size=10, Index={English_Cost, Bilingual_Cost}*{7, 8, 9, 10, 11}\n",
      "        Key                    : Lower : Value : Upper : Fixed : Stale : Domain\n",
      "         ('Bilingual_Cost', 7) :     0 :   5.0 :  None : False : False : NonNegativeIntegers\n",
      "         ('Bilingual_Cost', 8) :     0 :   0.0 :  None : False : False : NonNegativeIntegers\n",
      "         ('Bilingual_Cost', 9) :     0 :   0.0 :  None : False : False : NonNegativeIntegers\n",
      "        ('Bilingual_Cost', 10) :     0 :   0.0 :  None : False : False : NonNegativeIntegers\n",
      "        ('Bilingual_Cost', 11) :     0 :   4.0 :  None : False : False : NonNegativeIntegers\n",
      "           ('English_Cost', 7) :     0 :   4.0 :  None : False : False : NonNegativeIntegers\n",
      "           ('English_Cost', 8) :     0 :   0.0 :  None : False : False : NonNegativeIntegers\n",
      "           ('English_Cost', 9) :     0 :   0.0 :  None : False : False : NonNegativeIntegers\n",
      "          ('English_Cost', 10) :     0 :   2.0 :  None : False : False : NonNegativeIntegers\n",
      "          ('English_Cost', 11) :     0 :   3.0 :  None : False : False : NonNegativeIntegers\n",
      "\n",
      "  Objectives:\n",
      "    cost : Size=1, Index=None, Active=True\n",
      "        Key  : Active : Value\n",
      "        None :   True :  18.9\n",
      "\n",
      "  Constraints:\n",
      "    cons : Size=26\n",
      "        Key : Lower : Body : Upper\n",
      "          1 :   5.0 :  5.0 :  None\n",
      "          2 :   5.0 :  5.0 :  None\n",
      "          3 :   4.0 :  5.0 :  None\n",
      "          4 :   3.0 :  5.0 :  None\n",
      "          5 :   2.0 :  4.0 :  None\n",
      "          6 :   3.0 :  9.0 :  None\n",
      "          7 :   4.0 :  9.0 :  None\n",
      "          8 :   3.0 :  9.0 :  None\n",
      "          9 :   2.0 :  5.0 :  None\n",
      "         10 :   1.0 :  4.0 :  None\n",
      "         11 :   3.0 :  4.0 :  None\n",
      "         12 :   4.0 :  4.0 :  None\n",
      "         13 :   4.0 :  4.0 :  None\n",
      "         14 :   9.0 :  9.0 :  None\n",
      "         15 :   9.0 :  9.0 :  None\n",
      "         16 :   9.0 :  9.0 :  None\n",
      "         17 :   9.0 : 11.0 :  None\n",
      "         18 :   8.0 :  9.0 :  None\n",
      "         19 :  11.0 : 18.0 :  None\n",
      "         20 :   9.0 : 18.0 :  None\n",
      "         21 :   7.0 : 16.0 :  None\n",
      "         22 :   6.0 : 11.0 :  None\n",
      "         23 :   6.0 :  9.0 :  None\n",
      "         24 :   8.0 :  9.0 :  None\n",
      "         25 :   9.0 :  9.0 :  None\n",
      "         26 :   7.0 :  7.0 :  None\n"
     ]
    },
    {
     "name": "stderr",
     "output_type": "stream",
     "text": [
      "C:\\Users\\katie\\AppData\\Local\\Temp\\ipykernel_23288\\3636069842.py:10: DeprecationWarning: Calling np.sum(generator) is deprecated, and in the future will give a different result. Use np.sum(np.fromiter(generator)) or the python sum builtin instead.\n",
      "  sum(\n",
      "C:\\Users\\katie\\AppData\\Local\\Temp\\ipykernel_23288\\3636069842.py:34: DeprecationWarning: Calling np.sum(generator) is deprecated, and in the future will give a different result. Use np.sum(np.fromiter(generator)) or the python sum builtin instead.\n",
      "  sum(model.dv_sonemployeescheduling[w,s] for w in SES_worker) *\n"
     ]
    }
   ],
   "source": [
    "model = ConcreteModel(\"Son of Employee Scheduling\")\n",
    "\n",
    "SES_worker = SESCost.index\n",
    "SES_shift = SESCost.keys()\n",
    "\n",
    "model.dv_sonemployeescheduling = Var(SES_worker,SES_shift, domain = NonNegativeIntegers)\n",
    "\n",
    "model.cost = Objective(expr = \n",
    "                       sum([\n",
    "                           sum(\n",
    "                               model.dv_sonemployeescheduling[w,s] * \n",
    "                               SESCost.loc[w,s]\n",
    "                               for w in SES_worker for s in SES_shift)\n",
    "                       ]),\n",
    "                       sense = minimize)\n",
    "\n",
    "model.cons = ConstraintList()\n",
    "\n",
    "T = SESMatrix.index\n",
    "\n",
    "for t in T:\n",
    "    model.cons.add(\n",
    "        sum([\n",
    "            model.dv_sonemployeescheduling['Bilingual_Cost',s] *\n",
    "            SESMatrix.loc[t,s] for s in SES_shift\n",
    "        ])\n",
    "        >= SESSpanishDemand.loc[t,'Spanish_Demand']\n",
    "    )\n",
    "\n",
    "    \n",
    "for t in T:\n",
    "    model.cons.add(\n",
    "        sum([\n",
    "            sum(model.dv_sonemployeescheduling[w,s] for w in SES_worker) *\n",
    "            SESMatrix.loc[t,s] for s in SES_shift\n",
    "        ])\n",
    "        >= SESTotalDemand.loc[t, 'Total_Demand']\n",
    "    )\n",
    "\n",
    "SolverFactory('glpk').solve(model)\n",
    "model.display()                "
   ]
  },
  {
   "cell_type": "markdown",
   "id": "982c8b7b-4551-42ed-a7c8-964b779f6577",
   "metadata": {},
   "source": [
    "### Multiperiod Planning"
   ]
  },
  {
   "cell_type": "markdown",
   "id": "ee897820-41f9-40d5-9632-3b7eff07b895",
   "metadata": {},
   "source": [
    "##### Problem Description:"
   ]
  },
  {
   "cell_type": "code",
   "execution_count": null,
   "id": "d6c6948a-3ee2-4fbe-b1d6-5244a9d69985",
   "metadata": {},
   "outputs": [],
   "source": [
    "## Decision Variables:  #how many pounds of peanuts, walnuts, and almonds to buy and and sell in month 1, \n",
    "                        #how many pounds of peanuts, walnuts, and almonds to buy in month 1 and sell in month 2,\n",
    "                        #how many pounds of peanuts, walnuts, and almonds to buy and sell in month 2\n",
    "        \n",
    "## Objective: MAX profit = selling price per lb of mix - cost per lb nut - inventory cost per lb\n",
    "\n",
    "## Constraints: #chalet no more than 25% peanuts and no less than 40% almonds\n",
    "                #hovel no more than 60% peanuts and no less than 20% almonds\n",
    "                #max of 700 lbs mixed each month\n",
    "                #max availability of each nut each month\n",
    "                #min mixed chalet of 200 lbs month 2"
   ]
  },
  {
   "cell_type": "code",
   "execution_count": 5,
   "id": "337f0de0-27b7-46b0-82cd-3a1997efc2f1",
   "metadata": {
    "tags": []
   },
   "outputs": [],
   "source": [
    "MPRevenue = pd.read_excel(\"Portfolio3Data.xlsx\", sheet_name=\"MPRevenue\", index_col=0)\n",
    "MPCost = pd.read_excel(\"Portfolio3Data.xlsx\", sheet_name=\"MPCost\", index_col=0)\n",
    "MPInvCost = pd.read_excel(\"Portfolio3Data.xlsx\", sheet_name=\"MPInvCost\", index_col=0)\n",
    "MPAvailability = pd.read_excel(\"Portfolio3Data.xlsx\", sheet_name=\"MPAvailability\", index_col=0)"
   ]
  },
  {
   "cell_type": "code",
   "execution_count": 6,
   "id": "47a64cad-ac53-4b25-9c3a-79d0851b0abf",
   "metadata": {
    "tags": []
   },
   "outputs": [
    {
     "data": {
      "text/html": [
       "<div>\n",
       "<style scoped>\n",
       "    .dataframe tbody tr th:only-of-type {\n",
       "        vertical-align: middle;\n",
       "    }\n",
       "\n",
       "    .dataframe tbody tr th {\n",
       "        vertical-align: top;\n",
       "    }\n",
       "\n",
       "    .dataframe thead th {\n",
       "        text-align: right;\n",
       "    }\n",
       "</style>\n",
       "<table border=\"1\" class=\"dataframe\">\n",
       "  <thead>\n",
       "    <tr style=\"text-align: right;\">\n",
       "      <th></th>\n",
       "      <th>Revenue</th>\n",
       "    </tr>\n",
       "  </thead>\n",
       "  <tbody>\n",
       "    <tr>\n",
       "      <th>CP11</th>\n",
       "      <td>0.80</td>\n",
       "    </tr>\n",
       "    <tr>\n",
       "      <th>CW11</th>\n",
       "      <td>0.80</td>\n",
       "    </tr>\n",
       "    <tr>\n",
       "      <th>CA11</th>\n",
       "      <td>0.80</td>\n",
       "    </tr>\n",
       "    <tr>\n",
       "      <th>HP11</th>\n",
       "      <td>0.40</td>\n",
       "    </tr>\n",
       "    <tr>\n",
       "      <th>HW11</th>\n",
       "      <td>0.40</td>\n",
       "    </tr>\n",
       "    <tr>\n",
       "      <th>HA11</th>\n",
       "      <td>0.40</td>\n",
       "    </tr>\n",
       "    <tr>\n",
       "      <th>CP12</th>\n",
       "      <td>0.81</td>\n",
       "    </tr>\n",
       "    <tr>\n",
       "      <th>CW12</th>\n",
       "      <td>0.81</td>\n",
       "    </tr>\n",
       "    <tr>\n",
       "      <th>CA12</th>\n",
       "      <td>0.81</td>\n",
       "    </tr>\n",
       "    <tr>\n",
       "      <th>HP12</th>\n",
       "      <td>0.39</td>\n",
       "    </tr>\n",
       "    <tr>\n",
       "      <th>HW12</th>\n",
       "      <td>0.39</td>\n",
       "    </tr>\n",
       "    <tr>\n",
       "      <th>HA12</th>\n",
       "      <td>0.39</td>\n",
       "    </tr>\n",
       "    <tr>\n",
       "      <th>CP22</th>\n",
       "      <td>0.81</td>\n",
       "    </tr>\n",
       "    <tr>\n",
       "      <th>CW22</th>\n",
       "      <td>0.81</td>\n",
       "    </tr>\n",
       "    <tr>\n",
       "      <th>CA22</th>\n",
       "      <td>0.81</td>\n",
       "    </tr>\n",
       "    <tr>\n",
       "      <th>HP22</th>\n",
       "      <td>0.39</td>\n",
       "    </tr>\n",
       "    <tr>\n",
       "      <th>HW22</th>\n",
       "      <td>0.39</td>\n",
       "    </tr>\n",
       "    <tr>\n",
       "      <th>HA22</th>\n",
       "      <td>0.39</td>\n",
       "    </tr>\n",
       "  </tbody>\n",
       "</table>\n",
       "</div>"
      ],
      "text/plain": [
       "      Revenue\n",
       "CP11     0.80\n",
       "CW11     0.80\n",
       "CA11     0.80\n",
       "HP11     0.40\n",
       "HW11     0.40\n",
       "HA11     0.40\n",
       "CP12     0.81\n",
       "CW12     0.81\n",
       "CA12     0.81\n",
       "HP12     0.39\n",
       "HW12     0.39\n",
       "HA12     0.39\n",
       "CP22     0.81\n",
       "CW22     0.81\n",
       "CA22     0.81\n",
       "HP22     0.39\n",
       "HW22     0.39\n",
       "HA22     0.39"
      ]
     },
     "execution_count": 6,
     "metadata": {},
     "output_type": "execute_result"
    }
   ],
   "source": [
    "MPRevenue"
   ]
  },
  {
   "cell_type": "code",
   "execution_count": 7,
   "id": "ed3217f6-a06f-4fe2-9e6f-7906205dc118",
   "metadata": {
    "tags": []
   },
   "outputs": [
    {
     "data": {
      "text/html": [
       "<div>\n",
       "<style scoped>\n",
       "    .dataframe tbody tr th:only-of-type {\n",
       "        vertical-align: middle;\n",
       "    }\n",
       "\n",
       "    .dataframe tbody tr th {\n",
       "        vertical-align: top;\n",
       "    }\n",
       "\n",
       "    .dataframe thead th {\n",
       "        text-align: right;\n",
       "    }\n",
       "</style>\n",
       "<table border=\"1\" class=\"dataframe\">\n",
       "  <thead>\n",
       "    <tr style=\"text-align: right;\">\n",
       "      <th></th>\n",
       "      <th>Cost</th>\n",
       "    </tr>\n",
       "  </thead>\n",
       "  <tbody>\n",
       "    <tr>\n",
       "      <th>CP11</th>\n",
       "      <td>0.20</td>\n",
       "    </tr>\n",
       "    <tr>\n",
       "      <th>CW11</th>\n",
       "      <td>0.35</td>\n",
       "    </tr>\n",
       "    <tr>\n",
       "      <th>CA11</th>\n",
       "      <td>0.50</td>\n",
       "    </tr>\n",
       "    <tr>\n",
       "      <th>HP11</th>\n",
       "      <td>0.20</td>\n",
       "    </tr>\n",
       "    <tr>\n",
       "      <th>HW11</th>\n",
       "      <td>0.35</td>\n",
       "    </tr>\n",
       "    <tr>\n",
       "      <th>HA11</th>\n",
       "      <td>0.50</td>\n",
       "    </tr>\n",
       "    <tr>\n",
       "      <th>CP12</th>\n",
       "      <td>0.20</td>\n",
       "    </tr>\n",
       "    <tr>\n",
       "      <th>CW12</th>\n",
       "      <td>0.35</td>\n",
       "    </tr>\n",
       "    <tr>\n",
       "      <th>CA12</th>\n",
       "      <td>0.50</td>\n",
       "    </tr>\n",
       "    <tr>\n",
       "      <th>HP12</th>\n",
       "      <td>0.20</td>\n",
       "    </tr>\n",
       "    <tr>\n",
       "      <th>HW12</th>\n",
       "      <td>0.35</td>\n",
       "    </tr>\n",
       "    <tr>\n",
       "      <th>HA12</th>\n",
       "      <td>0.50</td>\n",
       "    </tr>\n",
       "    <tr>\n",
       "      <th>CP22</th>\n",
       "      <td>0.19</td>\n",
       "    </tr>\n",
       "    <tr>\n",
       "      <th>CW22</th>\n",
       "      <td>0.36</td>\n",
       "    </tr>\n",
       "    <tr>\n",
       "      <th>CA22</th>\n",
       "      <td>0.52</td>\n",
       "    </tr>\n",
       "    <tr>\n",
       "      <th>HP22</th>\n",
       "      <td>0.19</td>\n",
       "    </tr>\n",
       "    <tr>\n",
       "      <th>HW22</th>\n",
       "      <td>0.36</td>\n",
       "    </tr>\n",
       "    <tr>\n",
       "      <th>HA22</th>\n",
       "      <td>0.52</td>\n",
       "    </tr>\n",
       "  </tbody>\n",
       "</table>\n",
       "</div>"
      ],
      "text/plain": [
       "      Cost\n",
       "CP11  0.20\n",
       "CW11  0.35\n",
       "CA11  0.50\n",
       "HP11  0.20\n",
       "HW11  0.35\n",
       "HA11  0.50\n",
       "CP12  0.20\n",
       "CW12  0.35\n",
       "CA12  0.50\n",
       "HP12  0.20\n",
       "HW12  0.35\n",
       "HA12  0.50\n",
       "CP22  0.19\n",
       "CW22  0.36\n",
       "CA22  0.52\n",
       "HP22  0.19\n",
       "HW22  0.36\n",
       "HA22  0.52"
      ]
     },
     "execution_count": 7,
     "metadata": {},
     "output_type": "execute_result"
    }
   ],
   "source": [
    "MPCost"
   ]
  },
  {
   "cell_type": "code",
   "execution_count": 8,
   "id": "31b08028-61a5-4479-bb42-debec82a3017",
   "metadata": {
    "tags": []
   },
   "outputs": [
    {
     "data": {
      "text/html": [
       "<div>\n",
       "<style scoped>\n",
       "    .dataframe tbody tr th:only-of-type {\n",
       "        vertical-align: middle;\n",
       "    }\n",
       "\n",
       "    .dataframe tbody tr th {\n",
       "        vertical-align: top;\n",
       "    }\n",
       "\n",
       "    .dataframe thead th {\n",
       "        text-align: right;\n",
       "    }\n",
       "</style>\n",
       "<table border=\"1\" class=\"dataframe\">\n",
       "  <thead>\n",
       "    <tr style=\"text-align: right;\">\n",
       "      <th></th>\n",
       "      <th>InvCost</th>\n",
       "    </tr>\n",
       "  </thead>\n",
       "  <tbody>\n",
       "    <tr>\n",
       "      <th>CP11</th>\n",
       "      <td>0.00</td>\n",
       "    </tr>\n",
       "    <tr>\n",
       "      <th>CW11</th>\n",
       "      <td>0.00</td>\n",
       "    </tr>\n",
       "    <tr>\n",
       "      <th>CA11</th>\n",
       "      <td>0.00</td>\n",
       "    </tr>\n",
       "    <tr>\n",
       "      <th>HP11</th>\n",
       "      <td>0.00</td>\n",
       "    </tr>\n",
       "    <tr>\n",
       "      <th>HW11</th>\n",
       "      <td>0.00</td>\n",
       "    </tr>\n",
       "    <tr>\n",
       "      <th>HA11</th>\n",
       "      <td>0.00</td>\n",
       "    </tr>\n",
       "    <tr>\n",
       "      <th>CP12</th>\n",
       "      <td>0.02</td>\n",
       "    </tr>\n",
       "    <tr>\n",
       "      <th>CW12</th>\n",
       "      <td>0.02</td>\n",
       "    </tr>\n",
       "    <tr>\n",
       "      <th>CA12</th>\n",
       "      <td>0.02</td>\n",
       "    </tr>\n",
       "    <tr>\n",
       "      <th>HP12</th>\n",
       "      <td>0.02</td>\n",
       "    </tr>\n",
       "    <tr>\n",
       "      <th>HW12</th>\n",
       "      <td>0.02</td>\n",
       "    </tr>\n",
       "    <tr>\n",
       "      <th>HA12</th>\n",
       "      <td>0.02</td>\n",
       "    </tr>\n",
       "    <tr>\n",
       "      <th>CP22</th>\n",
       "      <td>0.00</td>\n",
       "    </tr>\n",
       "    <tr>\n",
       "      <th>CW22</th>\n",
       "      <td>0.00</td>\n",
       "    </tr>\n",
       "    <tr>\n",
       "      <th>CA22</th>\n",
       "      <td>0.00</td>\n",
       "    </tr>\n",
       "    <tr>\n",
       "      <th>HP22</th>\n",
       "      <td>0.00</td>\n",
       "    </tr>\n",
       "    <tr>\n",
       "      <th>HW22</th>\n",
       "      <td>0.00</td>\n",
       "    </tr>\n",
       "    <tr>\n",
       "      <th>HA22</th>\n",
       "      <td>0.00</td>\n",
       "    </tr>\n",
       "  </tbody>\n",
       "</table>\n",
       "</div>"
      ],
      "text/plain": [
       "      InvCost\n",
       "CP11     0.00\n",
       "CW11     0.00\n",
       "CA11     0.00\n",
       "HP11     0.00\n",
       "HW11     0.00\n",
       "HA11     0.00\n",
       "CP12     0.02\n",
       "CW12     0.02\n",
       "CA12     0.02\n",
       "HP12     0.02\n",
       "HW12     0.02\n",
       "HA12     0.02\n",
       "CP22     0.00\n",
       "CW22     0.00\n",
       "CA22     0.00\n",
       "HP22     0.00\n",
       "HW22     0.00\n",
       "HA22     0.00"
      ]
     },
     "execution_count": 8,
     "metadata": {},
     "output_type": "execute_result"
    }
   ],
   "source": [
    "MPInvCost"
   ]
  },
  {
   "cell_type": "code",
   "execution_count": 9,
   "id": "b170fd4d-31c4-4246-b185-f01ef1d2e362",
   "metadata": {
    "tags": []
   },
   "outputs": [
    {
     "data": {
      "text/html": [
       "<div>\n",
       "<style scoped>\n",
       "    .dataframe tbody tr th:only-of-type {\n",
       "        vertical-align: middle;\n",
       "    }\n",
       "\n",
       "    .dataframe tbody tr th {\n",
       "        vertical-align: top;\n",
       "    }\n",
       "\n",
       "    .dataframe thead th {\n",
       "        text-align: right;\n",
       "    }\n",
       "</style>\n",
       "<table border=\"1\" class=\"dataframe\">\n",
       "  <thead>\n",
       "    <tr style=\"text-align: right;\">\n",
       "      <th></th>\n",
       "      <th>Available</th>\n",
       "    </tr>\n",
       "  </thead>\n",
       "  <tbody>\n",
       "    <tr>\n",
       "      <th>M1Peanuts</th>\n",
       "      <td>400</td>\n",
       "    </tr>\n",
       "    <tr>\n",
       "      <th>M1Almonds</th>\n",
       "      <td>200</td>\n",
       "    </tr>\n",
       "    <tr>\n",
       "      <th>M2Peanuts</th>\n",
       "      <td>500</td>\n",
       "    </tr>\n",
       "    <tr>\n",
       "      <th>M2Almonds</th>\n",
       "      <td>180</td>\n",
       "    </tr>\n",
       "  </tbody>\n",
       "</table>\n",
       "</div>"
      ],
      "text/plain": [
       "           Available\n",
       "M1Peanuts        400\n",
       "M1Almonds        200\n",
       "M2Peanuts        500\n",
       "M2Almonds        180"
      ]
     },
     "execution_count": 9,
     "metadata": {},
     "output_type": "execute_result"
    }
   ],
   "source": [
    "MPAvailability"
   ]
  },
  {
   "cell_type": "code",
   "execution_count": 11,
   "id": "267fd863-05ba-46ab-b7ee-71ad44711811",
   "metadata": {
    "tags": []
   },
   "outputs": [
    {
     "name": "stdout",
     "output_type": "stream",
     "text": [
      "Model Multi Period Planning\n",
      "\n",
      "  Variables:\n",
      "    dv_mp : Size=18, Index={HW11, HW12, HP11, HA11, CP11, CW11, CP22, HA12, CW22, CP12, HA22, HP22, HW22, HP12, CA11, CA22, CW12, CA12}\n",
      "        Key  : Lower : Value : Upper : Fixed : Stale : Domain\n",
      "        CA11 :     0 : 200.0 :  None : False : False : NonNegativeReals\n",
      "        CA12 :     0 :   0.0 :  None : False : False : NonNegativeReals\n",
      "        CA22 :     0 : 180.0 :  None : False : False : NonNegativeReals\n",
      "        CP11 :     0 : 125.0 :  None : False : False : NonNegativeReals\n",
      "        CP12 :     0 :   0.0 :  None : False : False : NonNegativeReals\n",
      "        CP22 :     0 : 112.5 :  None : False : False : NonNegativeReals\n",
      "        CW11 :     0 : 175.0 :  None : False : False : NonNegativeReals\n",
      "        CW12 :     0 :   0.0 :  None : False : False : NonNegativeReals\n",
      "        CW22 :     0 : 157.5 :  None : False : False : NonNegativeReals\n",
      "        HA11 :     0 :   0.0 :  None : False : False : NonNegativeReals\n",
      "        HA12 :     0 :   0.0 :  None : False : False : NonNegativeReals\n",
      "        HA22 :     0 :   0.0 :  None : False : False : NonNegativeReals\n",
      "        HP11 :     0 :   0.0 :  None : False : False : NonNegativeReals\n",
      "        HP12 :     0 :   0.0 :  None : False : False : NonNegativeReals\n",
      "        HP22 :     0 :   0.0 :  None : False : False : NonNegativeReals\n",
      "        HW11 :     0 :   0.0 :  None : False : False : NonNegativeReals\n",
      "        HW12 :     0 :   0.0 :  None : False : False : NonNegativeReals\n",
      "        HW22 :     0 :   0.0 :  None : False : False : NonNegativeReals\n",
      "\n",
      "  Objectives:\n",
      "    profit : Size=1, Index=None, Active=True\n",
      "        Key  : Active : Value\n",
      "        None :   True : 406.575\n",
      "\n",
      "  Constraints:\n",
      "    cons : Size=19\n",
      "        Key : Lower : Body  : Upper\n",
      "          1 :  None :   0.0 :   0.0\n",
      "          2 :  None :   0.0 :   0.0\n",
      "          3 :  None :   0.0 :   0.0\n",
      "          4 :  None :   0.0 :   0.0\n",
      "          5 :  None :   0.0 :   0.0\n",
      "          6 :  None :   0.0 :   0.0\n",
      "          7 :  None :   0.0 :   0.0\n",
      "          8 :  None :   0.0 :   0.0\n",
      "          9 :  None :   0.0 :   0.0\n",
      "         10 :  None :   0.0 :   0.0\n",
      "         11 :  None :   0.0 :   0.0\n",
      "         12 :  None :   0.0 :   0.0\n",
      "         13 :  None : 125.0 : 400.0\n",
      "         14 :  None : 200.0 : 200.0\n",
      "         15 :  None : 112.5 : 500.0\n",
      "         16 :  None : 180.0 : 180.0\n",
      "         17 :  None : 500.0 : 700.0\n",
      "         18 :  None : 450.0 : 700.0\n",
      "         19 : 200.0 : 450.0 :  None\n"
     ]
    },
    {
     "name": "stderr",
     "output_type": "stream",
     "text": [
      "C:\\Users\\katie\\AppData\\Local\\Temp\\ipykernel_1644\\1970770076.py:10: DeprecationWarning: Calling np.sum(generator) is deprecated, and in the future will give a different result. Use np.sum(np.fromiter(generator)) or the python sum builtin instead.\n",
      "  sum(model.dv_mp[n]*MPRevenue.loc[n,'Revenue']for n in N_mp)    #revenue\n",
      "C:\\Users\\katie\\AppData\\Local\\Temp\\ipykernel_1644\\1970770076.py:11: DeprecationWarning: Calling np.sum(generator) is deprecated, and in the future will give a different result. Use np.sum(np.fromiter(generator)) or the python sum builtin instead.\n",
      "  - sum(model.dv_mp[n]*MPCost.loc[n,'Cost']for n in N_mp)         #sales cost\n",
      "C:\\Users\\katie\\AppData\\Local\\Temp\\ipykernel_1644\\1970770076.py:12: DeprecationWarning: Calling np.sum(generator) is deprecated, and in the future will give a different result. Use np.sum(np.fromiter(generator)) or the python sum builtin instead.\n",
      "  - sum(model.dv_mp[n]*MPInvCost.loc[n,'InvCost']for n in N_mp),  #inventory cost\n"
     ]
    }
   ],
   "source": [
    "model = ConcreteModel(\"Multi Period Planning\")\n",
    "\n",
    "N_mp = MPRevenue.index #N for nut\n",
    "\n",
    "## DECLARE DVs\n",
    "model.dv_mp = Var(N_mp,domain=NonNegativeReals)\n",
    "\n",
    "## OBJECTIVE FUNCTION\n",
    "model.profit = Objective(expr = \n",
    "                          sum(model.dv_mp[n]*MPRevenue.loc[n,'Revenue']for n in N_mp)    #revenue\n",
    "                         - sum(model.dv_mp[n]*MPCost.loc[n,'Cost']for n in N_mp)         #sales cost\n",
    "                         - sum(model.dv_mp[n]*MPInvCost.loc[n,'InvCost']for n in N_mp),  #inventory cost\n",
    "                          sense = maximize)\n",
    "\n",
    "\n",
    "\n",
    "## CONSTRAINTS\n",
    "\n",
    "##PSUEDOCODE\n",
    "# ST1: chalet and hovel composition reqs for peanuts and almonds: \n",
    "\n",
    "# add up lbs of peanuts, almonds, and walnuts for chalet for M11, for hovel for M11, for chalet M12, hovel M12, chalet M22, hovel M22\n",
    "# multiply those totals by the percentage requirements:\n",
    "    #M11\n",
    "    # chalet peanuts M11 <= total p, a, and w for chalet M11 * .25\n",
    "    # chalet almonds M11 >= total p, a, and w for chalet M11 * .4\n",
    "    # hovel peanuts M11 <= total p, a, and w for hovel M11 * .6\n",
    "    # hovel almonds M11 >= total p, a, and w for hovel M11 * .2\n",
    "    #M12\n",
    "    # chalet peanuts M12 <= total p, a, and w for chalet M12 * .25\n",
    "    # chalet almonds M12 >= total p, a, and w for chalet M12 * .4\n",
    "    # hovel peanuts M12 <= total p, a, and w for hovel M12 * .6\n",
    "    # hovel almonds M12 >= total p, a, and w for hovel M12 * .2\n",
    "    #M22\n",
    "    # chalet peanuts M22 <= total p, a, and w for chalet M22 * .25\n",
    "    # chalet almonds M22 >= total p, a, and w for chalet M22 * .4\n",
    "    # hovel peanuts M22 <= total p, a, and w for hovel M22 * .6\n",
    "    # hovel almonds M22 >= total p, a, and w for hovel M22 * .2\n",
    "    \n",
    "    \n",
    "    \n",
    "    \n",
    "#trying to find a way to do a for loop:    \n",
    "    #peanuts \n",
    "    # chalet peanuts M11 <= total p, a, and w for chalet M11 * .25\n",
    "    # hovel peanuts M11 <= total p, a, and w for hovel M11 * .6\n",
    "    # chalet peanuts M12 <= total p, a, and w for chalet M12 * .25\n",
    "    # hovel peanuts M12 <= total p, a, and w for hovel M12 * .6\n",
    "    # chalet peanuts M22 <= total p, a, and w for chalet M22 * .25\n",
    "    # hovel peanuts M22 <= total p, a, and w for hovel M22 * .6\n",
    "    \n",
    "    #almonds \n",
    "    \n",
    "    \n",
    "    # code to add up total lbs nuts per mix per period (we will create variables):\n",
    "    #TotalC11=model.dv_mp['CP11'] + model.dv_mp['CA11'] + model.dv_mp['CW11']\n",
    "    #TotalH11=model.dv_mp['HP11'] + model.dv_mp['HA11'] + model.dv_mp['HW11']\n",
    "    #TotalC12=model.dv_mp['CP12'] + model.dv_mp['CA12'] + model.dv_mp['CW12']\n",
    "    #TotalH12=model.dv_mp['HP12'] + model.dv_mp['HA12'] + model.dv_mp['H12']\n",
    "    #TotalC22=model.dv_mp['CP22'] + model.dv_mp['CA22'] + model.dv_mp['CW22']\n",
    "    #TotalH22=model.dv_mp['HP22'] + model.dv_mp['HA22'] + model.dv_mp['HW22']\n",
    "   # we will plug these variables in on the right hand side of each constraint and multiple the variable by the required percentage \n",
    "    \n",
    "# ST2: pounds of peanuts and almonds available to buy in month 1  and month 2\n",
    "# CP11 + HP11 + CP12 + HP12 <=400\n",
    "# CA11 + HA11 + CA12 + HA12 <= 200\n",
    "# CP22 + HP22 <= 500\n",
    "# CA22 + HA22 <= 180\n",
    "\n",
    "# ST3: max of 700 pounds nuts can be mixed per month \n",
    "# CP11 + CA11 + CW11 + HP11 + HA11 + HW11 <= 700\n",
    "# CP12 + CA12 + CW12 + HP12 + HA12 + HW12 + CP22 + CA22 + CW22 + HP22 + HA22 + HW22 <= 700\n",
    "\n",
    "# ST4: min of 400 pounts of chalet mix in month 2\n",
    "# CP12 + CA12 + CW12 + CP22 + CA22 + CW22 >= 200\n",
    "\n",
    "\n",
    "\n",
    "#REAL CODE\n",
    "# ST1: chalet and hovel composition reqs for peanuts and almonds\n",
    "model.cons = ConstraintList()\n",
    "\n",
    "TotalC11=model.dv_mp['CP11'] + model.dv_mp['CA11'] + model.dv_mp['CW11']\n",
    "TotalH11=model.dv_mp['HP11'] + model.dv_mp['HA11'] + model.dv_mp['HW11']\n",
    "TotalC12=model.dv_mp['CP12'] + model.dv_mp['CA12'] + model.dv_mp['CW12']\n",
    "TotalH12=model.dv_mp['HP12'] + model.dv_mp['HA12'] + model.dv_mp['HW12']\n",
    "TotalC22=model.dv_mp['CP22'] + model.dv_mp['CA22'] + model.dv_mp['CW22']\n",
    "TotalH22=model.dv_mp['HP22'] + model.dv_mp['HA22'] + model.dv_mp['HW22']\n",
    "\n",
    "model.cons.add(model.dv_mp['CP11'] <= TotalC11 * 0.25)\n",
    "model.cons.add(model.dv_mp['HP11'] <= TotalH11 * 0.6)\n",
    "model.cons.add(model.dv_mp['CP12'] <= TotalC12 * 0.25)\n",
    "model.cons.add(model.dv_mp['HP12'] <= TotalH12 * 0.6)\n",
    "model.cons.add(model.dv_mp['CP22'] <= TotalC22 * 0.25)\n",
    "model.cons.add(model.dv_mp['HP22'] <= TotalH22 * 0.6)\n",
    "\n",
    "model.cons.add(model.dv_mp['CA11'] >= TotalC11 * 0.4)\n",
    "model.cons.add(model.dv_mp['HA11'] >= TotalH11 * 0.2)\n",
    "model.cons.add(model.dv_mp['CA12'] >= TotalC12 * 0.4)\n",
    "model.cons.add(model.dv_mp['HA12'] >= TotalH12 * 0.2)\n",
    "model.cons.add(model.dv_mp['CA22'] >= TotalC22 * 0.4)\n",
    "model.cons.add(model.dv_mp['HA22'] >= TotalH22 * 0.2)\n",
    "\n",
    "\n",
    "# ST2: available peanuts and almonds to buy in M1 and M2\n",
    "M1Peanuts=model.dv_mp['CP11'] + model.dv_mp['HP11'] + model.dv_mp['CP12'] + model.dv_mp['HP12']\n",
    "M1Almonds=model.dv_mp['CA11'] + model.dv_mp['HA11'] + model.dv_mp['CA12'] + model.dv_mp['HA12']\n",
    "M2Peanuts=model.dv_mp['CP22'] + model.dv_mp['HP22']\n",
    "M2Almonds=model.dv_mp['CA22'] + model.dv_mp['HA22']\n",
    "\n",
    "\n",
    "model.cons.add(M1Peanuts <= 400)\n",
    "model.cons.add(M1Almonds <= 200)\n",
    "model.cons.add(M2Peanuts <= 500)\n",
    "model.cons.add(M2Almonds <= 180)\n",
    "\n",
    "\n",
    "# ST3: max of 700 pounds nuts can be mixed per month \n",
    "M1Mix = model.dv_mp['CP11'] + model.dv_mp['CA11'] + model.dv_mp['CW11'] + model.dv_mp['HP11'] + model.dv_mp['HA11'] + model.dv_mp['HW11']\n",
    "M2Mix = model.dv_mp['CP12'] + model.dv_mp['CA12'] + model.dv_mp['CW12'] + model.dv_mp['HP12'] + model.dv_mp['HA12'] + model.dv_mp['HW12'] + model.dv_mp['CP22'] + model.dv_mp['CA22'] + model.dv_mp['CW22'] + model.dv_mp['HP22'] + model.dv_mp['HA22'] + model.dv_mp['HW22']\n",
    "\n",
    "model.cons.add(M1Mix <= 700)\n",
    "model.cons.add(M2Mix <= 700)\n",
    "\n",
    "\n",
    "# ST4: min of 200 pounts of chalet mix in month 2\n",
    "M2Chalet = model.dv_mp['CP12'] + model.dv_mp['CA12'] + model.dv_mp['CW12'] + model.dv_mp['CP22'] + model.dv_mp['CA22'] + model.dv_mp['CW22']\n",
    "\n",
    "model.cons.add(M2Chalet >= 200)\n",
    "\n",
    "\n",
    "SolverFactory('glpk').solve(model)\n",
    "model.display()\n"
   ]
  },
  {
   "cell_type": "markdown",
   "id": "8c68ba50-c6a6-41e7-bc88-8b34a8a7b46f",
   "metadata": {},
   "source": [
    "### Snow Removal"
   ]
  },
  {
   "cell_type": "markdown",
   "id": "4fb45d0f-5ee8-4de5-997d-ef5dc62739bd",
   "metadata": {},
   "source": [
    "##### Problem Description:"
   ]
  },
  {
   "cell_type": "code",
   "execution_count": null,
   "id": "8c9be587-2c80-44c4-86eb-14fc5372e90e",
   "metadata": {},
   "outputs": [],
   "source": [
    "## Decision Variables: which sites should each zone dump its snow off at? aka: \n",
    "                        #for a given zone-site pair, is snow being dumped?(50 total binary DVs)\n",
    "## Objective: MIN cost = amount of snow to move * distance * cost per meter per km\n",
    "## Constraints: move all snow expected at each zone, don't exceed site capacity"
   ]
  },
  {
   "cell_type": "code",
   "execution_count": 140,
   "id": "1c8cf5f8-d59a-4bf5-af1b-3a08ba31856f",
   "metadata": {
    "tags": []
   },
   "outputs": [],
   "source": [
    "SRCost = pd.read_excel(\"Portfolio3Data.xlsx\", sheet_name=\"SRCost\", index_col=0)\n",
    "SRAmount = pd.read_excel(\"Portfolio3Data.xlsx\", sheet_name=\"SRAmount\", index_col=0)\n",
    "SRCapacity = pd.read_excel(\"Portfolio3Data.xlsx\", sheet_name=\"SRCapacity\", index_col=0)"
   ]
  },
  {
   "cell_type": "code",
   "execution_count": 141,
   "id": "d959c764-59b6-4cc9-bbab-6773b5d4dcb4",
   "metadata": {
    "tags": []
   },
   "outputs": [
    {
     "data": {
      "text/html": [
       "<div>\n",
       "<style scoped>\n",
       "    .dataframe tbody tr th:only-of-type {\n",
       "        vertical-align: middle;\n",
       "    }\n",
       "\n",
       "    .dataframe tbody tr th {\n",
       "        vertical-align: top;\n",
       "    }\n",
       "\n",
       "    .dataframe thead th {\n",
       "        text-align: right;\n",
       "    }\n",
       "</style>\n",
       "<table border=\"1\" class=\"dataframe\">\n",
       "  <thead>\n",
       "    <tr style=\"text-align: right;\">\n",
       "      <th></th>\n",
       "      <th>A</th>\n",
       "      <th>B</th>\n",
       "      <th>C</th>\n",
       "      <th>D</th>\n",
       "      <th>E</th>\n",
       "    </tr>\n",
       "  </thead>\n",
       "  <tbody>\n",
       "    <tr>\n",
       "      <th>1</th>\n",
       "      <td>52.02</td>\n",
       "      <td>21.42</td>\n",
       "      <td>74.97</td>\n",
       "      <td>113.22</td>\n",
       "      <td>142.29</td>\n",
       "    </tr>\n",
       "    <tr>\n",
       "      <th>2</th>\n",
       "      <td>36.48</td>\n",
       "      <td>31.92</td>\n",
       "      <td>126.16</td>\n",
       "      <td>138.32</td>\n",
       "      <td>133.76</td>\n",
       "    </tr>\n",
       "    <tr>\n",
       "      <th>3</th>\n",
       "      <td>21.56</td>\n",
       "      <td>44.66</td>\n",
       "      <td>56.98</td>\n",
       "      <td>144.76</td>\n",
       "      <td>132.44</td>\n",
       "    </tr>\n",
       "    <tr>\n",
       "      <th>4</th>\n",
       "      <td>35.88</td>\n",
       "      <td>49.68</td>\n",
       "      <td>62.10</td>\n",
       "      <td>113.16</td>\n",
       "      <td>122.82</td>\n",
       "    </tr>\n",
       "    <tr>\n",
       "      <th>5</th>\n",
       "      <td>19.05</td>\n",
       "      <td>39.37</td>\n",
       "      <td>26.67</td>\n",
       "      <td>100.33</td>\n",
       "      <td>111.76</td>\n",
       "    </tr>\n",
       "    <tr>\n",
       "      <th>6</th>\n",
       "      <td>54.18</td>\n",
       "      <td>63.21</td>\n",
       "      <td>83.85</td>\n",
       "      <td>99.33</td>\n",
       "      <td>78.69</td>\n",
       "    </tr>\n",
       "    <tr>\n",
       "      <th>7</th>\n",
       "      <td>53.28</td>\n",
       "      <td>68.82</td>\n",
       "      <td>109.89</td>\n",
       "      <td>68.82</td>\n",
       "      <td>63.27</td>\n",
       "    </tr>\n",
       "    <tr>\n",
       "      <th>8</th>\n",
       "      <td>59.40</td>\n",
       "      <td>66.00</td>\n",
       "      <td>57.20</td>\n",
       "      <td>83.60</td>\n",
       "      <td>53.90</td>\n",
       "    </tr>\n",
       "    <tr>\n",
       "      <th>9</th>\n",
       "      <td>40.30</td>\n",
       "      <td>53.30</td>\n",
       "      <td>85.80</td>\n",
       "      <td>97.50</td>\n",
       "      <td>93.60</td>\n",
       "    </tr>\n",
       "    <tr>\n",
       "      <th>10</th>\n",
       "      <td>43.20</td>\n",
       "      <td>87.75</td>\n",
       "      <td>95.85</td>\n",
       "      <td>81.00</td>\n",
       "      <td>112.05</td>\n",
       "    </tr>\n",
       "  </tbody>\n",
       "</table>\n",
       "</div>"
      ],
      "text/plain": [
       "        A      B       C       D       E\n",
       "1   52.02  21.42   74.97  113.22  142.29\n",
       "2   36.48  31.92  126.16  138.32  133.76\n",
       "3   21.56  44.66   56.98  144.76  132.44\n",
       "4   35.88  49.68   62.10  113.16  122.82\n",
       "5   19.05  39.37   26.67  100.33  111.76\n",
       "6   54.18  63.21   83.85   99.33   78.69\n",
       "7   53.28  68.82  109.89   68.82   63.27\n",
       "8   59.40  66.00   57.20   83.60   53.90\n",
       "9   40.30  53.30   85.80   97.50   93.60\n",
       "10  43.20  87.75   95.85   81.00  112.05"
      ]
     },
     "execution_count": 141,
     "metadata": {},
     "output_type": "execute_result"
    }
   ],
   "source": [
    "SRCost"
   ]
  },
  {
   "cell_type": "code",
   "execution_count": 142,
   "id": "c48694fb-9018-4a64-bfd2-2e4a1f901226",
   "metadata": {
    "tags": []
   },
   "outputs": [
    {
     "data": {
      "text/html": [
       "<div>\n",
       "<style scoped>\n",
       "    .dataframe tbody tr th:only-of-type {\n",
       "        vertical-align: middle;\n",
       "    }\n",
       "\n",
       "    .dataframe tbody tr th {\n",
       "        vertical-align: top;\n",
       "    }\n",
       "\n",
       "    .dataframe thead th {\n",
       "        text-align: right;\n",
       "    }\n",
       "</style>\n",
       "<table border=\"1\" class=\"dataframe\">\n",
       "  <thead>\n",
       "    <tr style=\"text-align: right;\">\n",
       "      <th></th>\n",
       "      <th>Amount</th>\n",
       "    </tr>\n",
       "  </thead>\n",
       "  <tbody>\n",
       "    <tr>\n",
       "      <th>1</th>\n",
       "      <td>153</td>\n",
       "    </tr>\n",
       "    <tr>\n",
       "      <th>2</th>\n",
       "      <td>152</td>\n",
       "    </tr>\n",
       "    <tr>\n",
       "      <th>3</th>\n",
       "      <td>154</td>\n",
       "    </tr>\n",
       "    <tr>\n",
       "      <th>4</th>\n",
       "      <td>138</td>\n",
       "    </tr>\n",
       "    <tr>\n",
       "      <th>5</th>\n",
       "      <td>127</td>\n",
       "    </tr>\n",
       "    <tr>\n",
       "      <th>6</th>\n",
       "      <td>129</td>\n",
       "    </tr>\n",
       "    <tr>\n",
       "      <th>7</th>\n",
       "      <td>111</td>\n",
       "    </tr>\n",
       "    <tr>\n",
       "      <th>8</th>\n",
       "      <td>110</td>\n",
       "    </tr>\n",
       "    <tr>\n",
       "      <th>9</th>\n",
       "      <td>130</td>\n",
       "    </tr>\n",
       "    <tr>\n",
       "      <th>10</th>\n",
       "      <td>135</td>\n",
       "    </tr>\n",
       "  </tbody>\n",
       "</table>\n",
       "</div>"
      ],
      "text/plain": [
       "    Amount\n",
       "1      153\n",
       "2      152\n",
       "3      154\n",
       "4      138\n",
       "5      127\n",
       "6      129\n",
       "7      111\n",
       "8      110\n",
       "9      130\n",
       "10     135"
      ]
     },
     "execution_count": 142,
     "metadata": {},
     "output_type": "execute_result"
    }
   ],
   "source": [
    "SRAmount"
   ]
  },
  {
   "cell_type": "code",
   "execution_count": 143,
   "id": "b898ce39-6dd2-4651-bee5-38339280e160",
   "metadata": {
    "tags": []
   },
   "outputs": [
    {
     "data": {
      "text/html": [
       "<div>\n",
       "<style scoped>\n",
       "    .dataframe tbody tr th:only-of-type {\n",
       "        vertical-align: middle;\n",
       "    }\n",
       "\n",
       "    .dataframe tbody tr th {\n",
       "        vertical-align: top;\n",
       "    }\n",
       "\n",
       "    .dataframe thead th {\n",
       "        text-align: right;\n",
       "    }\n",
       "</style>\n",
       "<table border=\"1\" class=\"dataframe\">\n",
       "  <thead>\n",
       "    <tr style=\"text-align: right;\">\n",
       "      <th></th>\n",
       "      <th>A</th>\n",
       "      <th>B</th>\n",
       "      <th>C</th>\n",
       "      <th>D</th>\n",
       "      <th>E</th>\n",
       "    </tr>\n",
       "  </thead>\n",
       "  <tbody>\n",
       "    <tr>\n",
       "      <th>Capacity</th>\n",
       "      <td>350</td>\n",
       "      <td>250</td>\n",
       "      <td>500</td>\n",
       "      <td>400</td>\n",
       "      <td>200</td>\n",
       "    </tr>\n",
       "  </tbody>\n",
       "</table>\n",
       "</div>"
      ],
      "text/plain": [
       "            A    B    C    D    E\n",
       "Capacity  350  250  500  400  200"
      ]
     },
     "execution_count": 143,
     "metadata": {},
     "output_type": "execute_result"
    }
   ],
   "source": [
    "SRCapacity"
   ]
  },
  {
   "cell_type": "code",
   "execution_count": 144,
   "id": "d2b0d0be-808e-4769-a3c3-1f4c44f3adba",
   "metadata": {
    "tags": []
   },
   "outputs": [
    {
     "name": "stdout",
     "output_type": "stream",
     "text": [
      "Model Snow Removal\n",
      "\n",
      "  Variables:\n",
      "    dv_sr : Size=50, Index={1, 2, 3, 4, 5, 6, 7, 8, 9, 10}*{A, D, B, C, E}\n",
      "        Key       : Lower : Value : Upper : Fixed : Stale : Domain\n",
      "         (1, 'A') :     0 :   0.0 :     1 : False : False : Binary\n",
      "         (1, 'B') :     0 :   1.0 :     1 : False : False : Binary\n",
      "         (1, 'C') :     0 :   0.0 :     1 : False : False : Binary\n",
      "         (1, 'D') :     0 :   0.0 :     1 : False : False : Binary\n",
      "         (1, 'E') :     0 :   0.0 :     1 : False : False : Binary\n",
      "         (2, 'A') :     0 :   1.0 :     1 : False : False : Binary\n",
      "         (2, 'B') :     0 :   0.0 :     1 : False : False : Binary\n",
      "         (2, 'C') :     0 :   0.0 :     1 : False : False : Binary\n",
      "         (2, 'D') :     0 :   0.0 :     1 : False : False : Binary\n",
      "         (2, 'E') :     0 :   0.0 :     1 : False : False : Binary\n",
      "         (3, 'A') :     0 :   0.0 :     1 : False : False : Binary\n",
      "         (3, 'B') :     0 :   0.0 :     1 : False : False : Binary\n",
      "         (3, 'C') :     0 :   1.0 :     1 : False : False : Binary\n",
      "         (3, 'D') :     0 :   0.0 :     1 : False : False : Binary\n",
      "         (3, 'E') :     0 :   0.0 :     1 : False : False : Binary\n",
      "         (4, 'A') :     0 :   0.0 :     1 : False : False : Binary\n",
      "         (4, 'B') :     0 :   0.0 :     1 : False : False : Binary\n",
      "         (4, 'C') :     0 :   1.0 :     1 : False : False : Binary\n",
      "         (4, 'D') :     0 :   0.0 :     1 : False : False : Binary\n",
      "         (4, 'E') :     0 :   0.0 :     1 : False : False : Binary\n",
      "         (5, 'A') :     0 :   0.0 :     1 : False : False : Binary\n",
      "         (5, 'B') :     0 :   0.0 :     1 : False : False : Binary\n",
      "         (5, 'C') :     0 :   1.0 :     1 : False : False : Binary\n",
      "         (5, 'D') :     0 :   0.0 :     1 : False : False : Binary\n",
      "         (5, 'E') :     0 :   0.0 :     1 : False : False : Binary\n",
      "         (6, 'A') :     0 :   0.0 :     1 : False : False : Binary\n",
      "         (6, 'B') :     0 :   0.0 :     1 : False : False : Binary\n",
      "         (6, 'C') :     0 :   0.0 :     1 : False : False : Binary\n",
      "         (6, 'D') :     0 :   1.0 :     1 : False : False : Binary\n",
      "         (6, 'E') :     0 :   0.0 :     1 : False : False : Binary\n",
      "         (7, 'A') :     0 :   0.0 :     1 : False : False : Binary\n",
      "         (7, 'B') :     0 :   0.0 :     1 : False : False : Binary\n",
      "         (7, 'C') :     0 :   0.0 :     1 : False : False : Binary\n",
      "         (7, 'D') :     0 :   1.0 :     1 : False : False : Binary\n",
      "         (7, 'E') :     0 :   0.0 :     1 : False : False : Binary\n",
      "         (8, 'A') :     0 :   0.0 :     1 : False : False : Binary\n",
      "         (8, 'B') :     0 :   0.0 :     1 : False : False : Binary\n",
      "         (8, 'C') :     0 :   0.0 :     1 : False : False : Binary\n",
      "         (8, 'D') :     0 :   0.0 :     1 : False : False : Binary\n",
      "         (8, 'E') :     0 :   1.0 :     1 : False : False : Binary\n",
      "         (9, 'A') :     0 :   1.0 :     1 : False : False : Binary\n",
      "         (9, 'B') :     0 :   0.0 :     1 : False : False : Binary\n",
      "         (9, 'C') :     0 :   0.0 :     1 : False : False : Binary\n",
      "         (9, 'D') :     0 :   0.0 :     1 : False : False : Binary\n",
      "         (9, 'E') :     0 :   0.0 :     1 : False : False : Binary\n",
      "        (10, 'A') :     0 :   0.0 :     1 : False : False : Binary\n",
      "        (10, 'B') :     0 :   0.0 :     1 : False : False : Binary\n",
      "        (10, 'C') :     0 :   0.0 :     1 : False : False : Binary\n",
      "        (10, 'D') :     0 :   1.0 :     1 : False : False : Binary\n",
      "        (10, 'E') :     0 :   0.0 :     1 : False : False : Binary\n",
      "\n",
      "  Objectives:\n",
      "    cost : Size=1, Index=None, Active=True\n",
      "        Key  : Active : Value\n",
      "        None :   True : 547.0\n",
      "\n",
      "  Constraints:\n",
      "    cons : Size=15\n",
      "        Key : Lower : Body  : Upper\n",
      "          1 :   1.0 :   1.0 :   1.0\n",
      "          2 :   1.0 :   1.0 :   1.0\n",
      "          3 :   1.0 :   1.0 :   1.0\n",
      "          4 :   1.0 :   1.0 :   1.0\n",
      "          5 :   1.0 :   1.0 :   1.0\n",
      "          6 :   1.0 :   1.0 :   1.0\n",
      "          7 :   1.0 :   1.0 :   1.0\n",
      "          8 :   1.0 :   1.0 :   1.0\n",
      "          9 :   1.0 :   1.0 :   1.0\n",
      "         10 :   1.0 :   1.0 :   1.0\n",
      "         11 :  None : 282.0 : 350.0\n",
      "         12 :  None : 153.0 : 250.0\n",
      "         13 :  None : 419.0 : 500.0\n",
      "         14 :  None : 375.0 : 400.0\n",
      "         15 :  None : 110.0 : 200.0\n"
     ]
    },
    {
     "name": "stderr",
     "output_type": "stream",
     "text": [
      "C:\\Users\\katie\\AppData\\Local\\Temp\\ipykernel_2436\\1031922586.py:11: DeprecationWarning: Calling np.sum(generator) is deprecated, and in the future will give a different result. Use np.sum(np.fromiter(generator)) or the python sum builtin instead.\n",
      "  sum(sum([model.dv_sr[z,s] * SRCost.loc[z,s] for s in S_sr]) for z in Z_sr),\n"
     ]
    }
   ],
   "source": [
    "model = ConcreteModel(\"Snow Removal\")\n",
    "\n",
    "Z_sr = SRCost.index #Z for zone\n",
    "S_sr = SRCost.keys() #S for site\n",
    "\n",
    "## DECLARE DVs\n",
    "model.dv_sr = Var(Z_sr,S_sr,domain=Binary)\n",
    "\n",
    "## OBJECTIVE FUNCTION\n",
    "model.cost = Objective(expr = \n",
    "                         sum(sum([model.dv_sr[z,s] * SRCost.loc[z,s] for s in S_sr]) for z in Z_sr),\n",
    "                             sense = minimize)\n",
    "\n",
    "\n",
    "## CONSTRAINTS\n",
    "\n",
    "model.cons = ConstraintList()\n",
    "# each zone must be assigned to only one site\n",
    "for z in Z_sr:\n",
    "    model.cons.add(sum([model.dv_sr[z,s] for s in S_sr]) == 1)\n",
    "    \n",
    "# site capacity cant be exceeded\n",
    "for s in S_sr:\n",
    "    model.cons.add(sum([model.dv_sr[z,s] * SRAmount.loc[z,'Amount'] for z in Z_sr]) <= SRCapacity.loc['Capacity',s])\n",
    "\n",
    "SolverFactory('glpk').solve(model)\n",
    "model.display()    "
   ]
  },
  {
   "cell_type": "markdown",
   "id": "2ba3ef4e-2caf-4fe7-a0b1-7ed01e115eb0",
   "metadata": {},
   "source": [
    "### Network Flow"
   ]
  },
  {
   "cell_type": "markdown",
   "id": "7a94c66a-c14a-4e31-996f-c46fa4d4ef28",
   "metadata": {},
   "source": [
    "##### Problem Description:"
   ]
  },
  {
   "cell_type": "code",
   "execution_count": null,
   "id": "6134b36a-43fd-472f-b6d4-c12ff9822f29",
   "metadata": {},
   "outputs": [],
   "source": [
    "## Decision Variables: for every to-from station pair, how much LNG is transported\n",
    "## Objective: MAX profit achieved by transporting gas = # (revenue of cost willing to transport gas * net in) \n",
    "                                                        # - matrix of all LNG transported * matrix of transportation costs \n",
    "\n",
    "## Constraints: # pipeline capacities \n",
    "                # net in <= demand for each station\n",
    "                # net out <= supply for each station                "
   ]
  },
  {
   "cell_type": "code",
   "execution_count": 3,
   "id": "303fe883-f9da-4d82-8ee8-0663977f7355",
   "metadata": {
    "tags": []
   },
   "outputs": [],
   "source": [
    "NetworkFlow_Cost = pd.read_excel(\"NetworkFlow.xlsx\", sheet_name=\"NetworkFlow_Cost\", index_col=0)\n",
    "NetworkFlow_Capacity = pd.read_excel(\"NetworkFlow.xlsx\", sheet_name=\"NetworkFlow_Capacity\", index_col=0)\n",
    "NetworkFlow_Demand = pd.read_excel(\"NetworkFlow.xlsx\", sheet_name=\"NetworkFlow_Demand\", index_col=0)\n",
    "NetworkFlow_Supply = pd.read_excel(\"NetworkFlow.xlsx\", sheet_name=\"NetworkFlow_Supply\", index_col=0)\n",
    "NetworkFlow_AmtWillingtoPay = pd.read_excel(\"NetworkFlow.xlsx\", sheet_name=\"NetworkFlow_AmtWillingtoPay\", index_col=0)"
   ]
  },
  {
   "cell_type": "code",
   "execution_count": 4,
   "id": "ee3f7d84-8634-44ec-8470-a9743cbbf584",
   "metadata": {
    "tags": []
   },
   "outputs": [
    {
     "name": "stdout",
     "output_type": "stream",
     "text": [
      "Model Network Flow\n",
      "\n",
      "  Variables:\n",
      "    dv_nf : Size=121, Index={Kiowa, Lebanon, Wharton, Perryville, Katy, Waha, Carthage, Joliet, Henry, Leidy, Maumee}*{Kiowa, Lebanon, Wharton, Perryville, Katy, Waha, Carthage, Joliet, Henry, Leidy, Maumee}\n",
      "        Key                          : Lower : Value : Upper : Fixed : Stale : Domain\n",
      "            ('Carthage', 'Carthage') :     0 :   0.0 :  None : False : False : NonNegativeReals\n",
      "               ('Carthage', 'Henry') :     0 :   0.0 :  None : False : False : NonNegativeReals\n",
      "              ('Carthage', 'Joliet') :     0 :   0.0 :  None : False : False : NonNegativeReals\n",
      "                ('Carthage', 'Katy') :     0 :  30.0 :  None : False : False : NonNegativeReals\n",
      "               ('Carthage', 'Kiowa') :     0 :  20.0 :  None : False : False : NonNegativeReals\n",
      "             ('Carthage', 'Lebanon') :     0 :   0.0 :  None : False : False : NonNegativeReals\n",
      "               ('Carthage', 'Leidy') :     0 :   0.0 :  None : False : False : NonNegativeReals\n",
      "              ('Carthage', 'Maumee') :     0 :   0.0 :  None : False : False : NonNegativeReals\n",
      "          ('Carthage', 'Perryville') :     0 :   0.0 :  None : False : False : NonNegativeReals\n",
      "                ('Carthage', 'Waha') :     0 :   0.0 :  None : False : False : NonNegativeReals\n",
      "             ('Carthage', 'Wharton') :     0 :   0.0 :  None : False : False : NonNegativeReals\n",
      "               ('Henry', 'Carthage') :     0 :   0.0 :  None : False : False : NonNegativeReals\n",
      "                  ('Henry', 'Henry') :     0 :   0.0 :  None : False : False : NonNegativeReals\n",
      "                 ('Henry', 'Joliet') :     0 :   0.0 :  None : False : False : NonNegativeReals\n",
      "                   ('Henry', 'Katy') :     0 :  20.0 :  None : False : False : NonNegativeReals\n",
      "                  ('Henry', 'Kiowa') :     0 :   0.0 :  None : False : False : NonNegativeReals\n",
      "                ('Henry', 'Lebanon') :     0 :   0.0 :  None : False : False : NonNegativeReals\n",
      "                  ('Henry', 'Leidy') :     0 :   0.0 :  None : False : False : NonNegativeReals\n",
      "                 ('Henry', 'Maumee') :     0 :   0.0 :  None : False : False : NonNegativeReals\n",
      "             ('Henry', 'Perryville') :     0 :   0.0 :  None : False : False : NonNegativeReals\n",
      "                   ('Henry', 'Waha') :     0 :   0.0 :  None : False : False : NonNegativeReals\n",
      "                ('Henry', 'Wharton') :     0 :   0.0 :  None : False : False : NonNegativeReals\n",
      "              ('Joliet', 'Carthage') :     0 :  25.0 :  None : False : False : NonNegativeReals\n",
      "                 ('Joliet', 'Henry') :     0 :   0.0 :  None : False : False : NonNegativeReals\n",
      "                ('Joliet', 'Joliet') :     0 :   0.0 :  None : False : False : NonNegativeReals\n",
      "                  ('Joliet', 'Katy') :     0 :   0.0 :  None : False : False : NonNegativeReals\n",
      "                 ('Joliet', 'Kiowa') :     0 :   0.0 :  None : False : False : NonNegativeReals\n",
      "               ('Joliet', 'Lebanon') :     0 :   0.0 :  None : False : False : NonNegativeReals\n",
      "                 ('Joliet', 'Leidy') :     0 :   0.0 :  None : False : False : NonNegativeReals\n",
      "                ('Joliet', 'Maumee') :     0 :   0.0 :  None : False : False : NonNegativeReals\n",
      "            ('Joliet', 'Perryville') :     0 :  10.0 :  None : False : False : NonNegativeReals\n",
      "                  ('Joliet', 'Waha') :     0 :   0.0 :  None : False : False : NonNegativeReals\n",
      "               ('Joliet', 'Wharton') :     0 :   0.0 :  None : False : False : NonNegativeReals\n",
      "                ('Katy', 'Carthage') :     0 :   0.0 :  None : False : False : NonNegativeReals\n",
      "                   ('Katy', 'Henry') :     0 :   0.0 :  None : False : False : NonNegativeReals\n",
      "                  ('Katy', 'Joliet') :     0 :   0.0 :  None : False : False : NonNegativeReals\n",
      "                    ('Katy', 'Katy') :     0 :   0.0 :  None : False : False : NonNegativeReals\n",
      "                   ('Katy', 'Kiowa') :     0 :   0.0 :  None : False : False : NonNegativeReals\n",
      "                 ('Katy', 'Lebanon') :     0 :   0.0 :  None : False : False : NonNegativeReals\n",
      "                   ('Katy', 'Leidy') :     0 :   0.0 :  None : False : False : NonNegativeReals\n",
      "                  ('Katy', 'Maumee') :     0 :   0.0 :  None : False : False : NonNegativeReals\n",
      "              ('Katy', 'Perryville') :     0 :   0.0 :  None : False : False : NonNegativeReals\n",
      "                    ('Katy', 'Waha') :     0 :   0.0 :  None : False : False : NonNegativeReals\n",
      "                 ('Katy', 'Wharton') :     0 :   0.0 :  None : False : False : NonNegativeReals\n",
      "               ('Kiowa', 'Carthage') :     0 :   0.0 :  None : False : False : NonNegativeReals\n",
      "                  ('Kiowa', 'Henry') :     0 :   0.0 :  None : False : False : NonNegativeReals\n",
      "                 ('Kiowa', 'Joliet') :     0 :   0.0 :  None : False : False : NonNegativeReals\n",
      "                   ('Kiowa', 'Katy') :     0 :   0.0 :  None : False : False : NonNegativeReals\n",
      "                  ('Kiowa', 'Kiowa') :     0 :   0.0 :  None : False : False : NonNegativeReals\n",
      "                ('Kiowa', 'Lebanon') :     0 :   0.0 :  None : False : False : NonNegativeReals\n",
      "                  ('Kiowa', 'Leidy') :     0 :   0.0 :  None : False : False : NonNegativeReals\n",
      "                 ('Kiowa', 'Maumee') :     0 :   0.0 :  None : False : False : NonNegativeReals\n",
      "             ('Kiowa', 'Perryville') :     0 :   0.0 :  None : False : False : NonNegativeReals\n",
      "                   ('Kiowa', 'Waha') :     0 :  20.0 :  None : False : False : NonNegativeReals\n",
      "                ('Kiowa', 'Wharton') :     0 :   0.0 :  None : False : False : NonNegativeReals\n",
      "             ('Lebanon', 'Carthage') :     0 :  15.0 :  None : False : False : NonNegativeReals\n",
      "                ('Lebanon', 'Henry') :     0 :   0.0 :  None : False : False : NonNegativeReals\n",
      "               ('Lebanon', 'Joliet') :     0 :   0.0 :  None : False : False : NonNegativeReals\n",
      "                 ('Lebanon', 'Katy') :     0 :   0.0 :  None : False : False : NonNegativeReals\n",
      "                ('Lebanon', 'Kiowa') :     0 :   0.0 :  None : False : False : NonNegativeReals\n",
      "              ('Lebanon', 'Lebanon') :     0 :   0.0 :  None : False : False : NonNegativeReals\n",
      "                ('Lebanon', 'Leidy') :     0 :   0.0 :  None : False : False : NonNegativeReals\n",
      "               ('Lebanon', 'Maumee') :     0 :   0.0 :  None : False : False : NonNegativeReals\n",
      "           ('Lebanon', 'Perryville') :     0 :   5.0 :  None : False : False : NonNegativeReals\n",
      "                 ('Lebanon', 'Waha') :     0 :   0.0 :  None : False : False : NonNegativeReals\n",
      "              ('Lebanon', 'Wharton') :     0 :   0.0 :  None : False : False : NonNegativeReals\n",
      "               ('Leidy', 'Carthage') :     0 :   0.0 :  None : False : False : NonNegativeReals\n",
      "                  ('Leidy', 'Henry') :     0 :   0.0 :  None : False : False : NonNegativeReals\n",
      "                 ('Leidy', 'Joliet') :     0 :   0.0 :  None : False : False : NonNegativeReals\n",
      "                   ('Leidy', 'Katy') :     0 :   0.0 :  None : False : False : NonNegativeReals\n",
      "                  ('Leidy', 'Kiowa') :     0 :   0.0 :  None : False : False : NonNegativeReals\n",
      "                ('Leidy', 'Lebanon') :     0 :  20.0 :  None : False : False : NonNegativeReals\n",
      "                  ('Leidy', 'Leidy') :     0 :   0.0 :  None : False : False : NonNegativeReals\n",
      "                 ('Leidy', 'Maumee') :     0 :   0.0 :  None : False : False : NonNegativeReals\n",
      "             ('Leidy', 'Perryville') :     0 :  15.0 :  None : False : False : NonNegativeReals\n",
      "                   ('Leidy', 'Waha') :     0 :   0.0 :  None : False : False : NonNegativeReals\n",
      "                ('Leidy', 'Wharton') :     0 :   0.0 :  None : False : False : NonNegativeReals\n",
      "              ('Maumee', 'Carthage') :     0 :   0.0 :  None : False : False : NonNegativeReals\n",
      "                 ('Maumee', 'Henry') :     0 :   0.0 :  None : False : False : NonNegativeReals\n",
      "                ('Maumee', 'Joliet') :     0 :   0.0 :  None : False : False : NonNegativeReals\n",
      "                  ('Maumee', 'Katy') :     0 :   0.0 :  None : False : False : NonNegativeReals\n",
      "                 ('Maumee', 'Kiowa') :     0 :   0.0 :  None : False : False : NonNegativeReals\n",
      "               ('Maumee', 'Lebanon') :     0 :   0.0 :  None : False : False : NonNegativeReals\n",
      "                 ('Maumee', 'Leidy') :     0 :   0.0 :  None : False : False : NonNegativeReals\n",
      "                ('Maumee', 'Maumee') :     0 :   0.0 :  None : False : False : NonNegativeReals\n",
      "            ('Maumee', 'Perryville') :     0 :   0.0 :  None : False : False : NonNegativeReals\n",
      "                  ('Maumee', 'Waha') :     0 :   0.0 :  None : False : False : NonNegativeReals\n",
      "               ('Maumee', 'Wharton') :     0 :   0.0 :  None : False : False : NonNegativeReals\n",
      "          ('Perryville', 'Carthage') :     0 :  10.0 :  None : False : False : NonNegativeReals\n",
      "             ('Perryville', 'Henry') :     0 :  20.0 :  None : False : False : NonNegativeReals\n",
      "            ('Perryville', 'Joliet') :     0 :   0.0 :  None : False : False : NonNegativeReals\n",
      "              ('Perryville', 'Katy') :     0 :   0.0 :  None : False : False : NonNegativeReals\n",
      "             ('Perryville', 'Kiowa') :     0 :   0.0 :  None : False : False : NonNegativeReals\n",
      "           ('Perryville', 'Lebanon') :     0 :   0.0 :  None : False : False : NonNegativeReals\n",
      "             ('Perryville', 'Leidy') :     0 :   0.0 :  None : False : False : NonNegativeReals\n",
      "            ('Perryville', 'Maumee') :     0 :   0.0 :  None : False : False : NonNegativeReals\n",
      "        ('Perryville', 'Perryville') :     0 :   0.0 :  None : False : False : NonNegativeReals\n",
      "              ('Perryville', 'Waha') :     0 :   0.0 :  None : False : False : NonNegativeReals\n",
      "           ('Perryville', 'Wharton') :     0 :   0.0 :  None : False : False : NonNegativeReals\n",
      "                ('Waha', 'Carthage') :     0 :   0.0 :  None : False : False : NonNegativeReals\n",
      "                   ('Waha', 'Henry') :     0 :   0.0 :  None : False : False : NonNegativeReals\n",
      "                  ('Waha', 'Joliet') :     0 :   0.0 :  None : False : False : NonNegativeReals\n",
      "                    ('Waha', 'Katy') :     0 :  10.0 :  None : False : False : NonNegativeReals\n",
      "                   ('Waha', 'Kiowa') :     0 :   0.0 :  None : False : False : NonNegativeReals\n",
      "                 ('Waha', 'Lebanon') :     0 :   0.0 :  None : False : False : NonNegativeReals\n",
      "                   ('Waha', 'Leidy') :     0 :   0.0 :  None : False : False : NonNegativeReals\n",
      "                  ('Waha', 'Maumee') :     0 :   0.0 :  None : False : False : NonNegativeReals\n",
      "              ('Waha', 'Perryville') :     0 :   0.0 :  None : False : False : NonNegativeReals\n",
      "                    ('Waha', 'Waha') :     0 :   0.0 :  None : False : False : NonNegativeReals\n",
      "                 ('Waha', 'Wharton') :     0 :  10.0 :  None : False : False : NonNegativeReals\n",
      "             ('Wharton', 'Carthage') :     0 :   0.0 :  None : False : False : NonNegativeReals\n",
      "                ('Wharton', 'Henry') :     0 :   0.0 :  None : False : False : NonNegativeReals\n",
      "               ('Wharton', 'Joliet') :     0 :   0.0 :  None : False : False : NonNegativeReals\n",
      "                 ('Wharton', 'Katy') :     0 :  10.0 :  None : False : False : NonNegativeReals\n",
      "                ('Wharton', 'Kiowa') :     0 :   0.0 :  None : False : False : NonNegativeReals\n",
      "              ('Wharton', 'Lebanon') :     0 :   0.0 :  None : False : False : NonNegativeReals\n",
      "                ('Wharton', 'Leidy') :     0 :   0.0 :  None : False : False : NonNegativeReals\n",
      "               ('Wharton', 'Maumee') :     0 :   0.0 :  None : False : False : NonNegativeReals\n",
      "           ('Wharton', 'Perryville') :     0 :   0.0 :  None : False : False : NonNegativeReals\n",
      "                 ('Wharton', 'Waha') :     0 :   0.0 :  None : False : False : NonNegativeReals\n",
      "              ('Wharton', 'Wharton') :     0 :   0.0 :  None : False : False : NonNegativeReals\n",
      "\n",
      "  Objectives:\n",
      "    profit : Size=1, Index=None, Active=True\n",
      "        Key  : Active : Value\n",
      "        None :   True : 224.59999999999994\n",
      "\n",
      "  Constraints:\n",
      "    cons : Size=143\n",
      "        Key : Lower : Body  : Upper\n",
      "          1 :  None :   0.0 :   0.0\n",
      "          2 :  None :   0.0 :   0.0\n",
      "          3 :  None :   0.0 :   0.0\n",
      "          4 :  None : -70.0 :   0.0\n",
      "          5 :  None :   0.0 :   0.0\n",
      "          6 :  None :   0.0 :   0.0\n",
      "          7 :  None :  35.0 :  35.0\n",
      "          8 :  None :   0.0 :   0.0\n",
      "          9 :  None :   0.0 :   0.0\n",
      "         10 :  None :   0.0 :   0.0\n",
      "         11 :  None :  35.0 :  60.0\n",
      "         12 :  None :   0.0 :   0.0\n",
      "         13 :  None :   0.0 :   0.0\n",
      "         14 :  None :   0.0 :   0.0\n",
      "         15 :  None :  70.0 : 100.0\n",
      "         16 :  None :   0.0 :   0.0\n",
      "         17 :  None :   0.0 :   0.0\n",
      "         18 :  None : -35.0 :   0.0\n",
      "         19 :  None :   0.0 :   0.0\n",
      "         20 :  None :   0.0 :   0.0\n",
      "         21 :  None :   0.0 :   0.0\n",
      "         22 :  None : -35.0 :   0.0\n",
      "         23 :  None :   0.0 :   0.0\n",
      "         24 :  None :  20.0 :  25.0\n",
      "         25 :  None :   0.0 :  10.0\n",
      "         26 :  None :   0.0 :  15.0\n",
      "         27 :  None :   0.0 :   0.0\n",
      "         28 :  None :   0.0 :   0.0\n",
      "         29 :  None :   0.0 :   0.0\n",
      "         30 :  None :   0.0 :   0.0\n",
      "         31 :  None :   0.0 :   0.0\n",
      "         32 :  None :   0.0 :   0.0\n",
      "         33 :  None :   0.0 :   0.0\n",
      "         34 :  None :   0.0 :  25.0\n",
      "         35 :  None :   0.0 :   0.0\n",
      "         36 :  None :   0.0 :   0.0\n",
      "         37 :  None :   0.0 :   0.0\n",
      "         38 :  None :  20.0 :  20.0\n",
      "         39 :  None :   0.0 :   0.0\n",
      "         40 :  None :   0.0 :   0.0\n",
      "         41 :  None :   0.0 :   0.0\n",
      "         42 :  None :   0.0 :   0.0\n",
      "         43 :  None :   0.0 :   0.0\n",
      "         44 :  None :   0.0 :   0.0\n",
      "         45 :  None :  10.0 :  10.0\n",
      "         46 :  None :   0.0 :   0.0\n",
      "         47 :  None :   0.0 :   0.0\n",
      "         48 :  None :   0.0 :  20.0\n",
      "         49 :  None :   0.0 :   0.0\n",
      "         50 :  None :   0.0 :   0.0\n",
      "         51 :  None :   0.0 :   0.0\n",
      "         52 :  None :   0.0 :   0.0\n",
      "         53 :  None :   0.0 :   0.0\n",
      "         54 :  None :   0.0 :   0.0\n",
      "         55 :  None :   0.0 :   0.0\n",
      "         56 :  None :  10.0 :  15.0\n",
      "         57 :  None :   0.0 :   0.0\n",
      "         58 :  None :  10.0 :  20.0\n",
      "         59 :  None :   0.0 :   0.0\n",
      "         60 :  None :  30.0 :  30.0\n",
      "         61 :  None :  20.0 :  50.0\n",
      "         62 :  None :   0.0 :   0.0\n",
      "         63 :  None :   0.0 :   0.0\n",
      "         64 :  None :   0.0 :   0.0\n",
      "         65 :  None :   0.0 :   0.0\n",
      "         66 :  None :   0.0 :   0.0\n",
      "         67 :  None :   0.0 :   0.0\n",
      "         68 :  None :   0.0 :  20.0\n",
      "         69 :  None :   0.0 :   0.0\n",
      "         70 :  None :   0.0 :  30.0\n",
      "         71 :  None :   0.0 :   0.0\n",
      "         72 :  None :   0.0 :   0.0\n",
      "         73 :  None :  25.0 :  25.0\n",
      "         74 :  None :  10.0 :  30.0\n",
      "         75 :  None :  15.0 :  15.0\n",
      "         76 :  None :   0.0 :   0.0\n",
      "         77 :  None :   0.0 :   0.0\n",
      "         78 :  None :   0.0 :   0.0\n",
      "         79 :  None :   0.0 :   0.0\n",
      "         80 :  None :   0.0 :   0.0\n",
      "         81 :  None :   0.0 :  50.0\n",
      "         82 :  None :   0.0 :   0.0\n",
      "         83 :  None :   0.0 :   0.0\n",
      "         84 :  None :   0.0 :   0.0\n",
      "         85 :  None :  20.0 :  20.0\n",
      "         86 :  None :   0.0 :   0.0\n",
      "         87 :  None :   0.0 :   0.0\n",
      "         88 :  None :   0.0 :   0.0\n",
      "         89 :  None :   0.0 :   0.0\n",
      "         90 :  None :   0.0 :   0.0\n",
      "         91 :  None :   0.0 :   0.0\n",
      "         92 :  None :   0.0 :   0.0\n",
      "         93 :  None :   0.0 :  25.0\n",
      "         94 :  None :   0.0 :   0.0\n",
      "         95 :  None :   0.0 :   0.0\n",
      "         96 :  None :   0.0 :  15.0\n",
      "         97 :  None :   0.0 :  20.0\n",
      "         98 :  None :   0.0 :  25.0\n",
      "         99 :  None :   0.0 :   0.0\n",
      "        100 :  None :   0.0 :   0.0\n",
      "        101 :  None :   0.0 :   0.0\n",
      "        102 :  None :   0.0 :   0.0\n",
      "        103 :  None :   0.0 :   0.0\n",
      "        104 :  None :   0.0 :  30.0\n",
      "        105 :  None :   0.0 :  20.0\n",
      "        106 :  None :  10.0 :  15.0\n",
      "        107 :  None :   0.0 :   0.0\n",
      "        108 :  None :   5.0 :  20.0\n",
      "        109 :  None :   0.0 :   0.0\n",
      "        110 :  None :  15.0 :  15.0\n",
      "        111 :  None :   0.0 :   0.0\n",
      "        112 :  None :   0.0 :   0.0\n",
      "        113 :  None :   0.0 :   0.0\n",
      "        114 :  None :   0.0 :   0.0\n",
      "        115 :  None :   0.0 :  15.0\n",
      "        116 :  None :   0.0 :   0.0\n",
      "        117 :  None :   0.0 :  20.0\n",
      "        118 :  None :   0.0 :  20.0\n",
      "        119 :  None :   0.0 :   0.0\n",
      "        120 :  None :   0.0 :  15.0\n",
      "        121 :  None :  20.0 :  30.0\n",
      "        122 :  None :   0.0 :   0.0\n",
      "        123 :  None :   0.0 :   0.0\n",
      "        124 :  None :   0.0 :   0.0\n",
      "        125 :  None :   0.0 :   0.0\n",
      "        126 :  None :   0.0 :   0.0\n",
      "        127 :  None :   0.0 :   0.0\n",
      "        128 :  None :   0.0 :  25.0\n",
      "        129 :  None :   0.0 :   0.0\n",
      "        130 :  None :   0.0 :  15.0\n",
      "        131 :  None :   0.0 :   0.0\n",
      "        132 :  None :   0.0 :  25.0\n",
      "        133 :  None :   0.0 :   0.0\n",
      "        134 :  None :   0.0 :   0.0\n",
      "        135 :  None :   0.0 :   0.0\n",
      "        136 :  None :   0.0 :   0.0\n",
      "        137 :  None :   0.0 :   0.0\n",
      "        138 :  None :   0.0 :   0.0\n",
      "        139 :  None :   0.0 :   0.0\n",
      "        140 :  None :   0.0 :  15.0\n",
      "        141 :  None :   0.0 :  30.0\n",
      "        142 :  None :   0.0 :  25.0\n",
      "        143 :  None :   0.0 :   0.0\n"
     ]
    },
    {
     "name": "stderr",
     "output_type": "stream",
     "text": [
      "C:\\Users\\katie\\AppData\\Local\\Temp\\ipykernel_1644\\4072220515.py:9: DeprecationWarning: Calling np.sum(generator) is deprecated, and in the future will give a different result. Use np.sum(np.fromiter(generator)) or the python sum builtin instead.\n",
      "  sum(\n",
      "C:\\Users\\katie\\AppData\\Local\\Temp\\ipykernel_1644\\4072220515.py:14: DeprecationWarning: Calling np.sum(generator) is deprecated, and in the future will give a different result. Use np.sum(np.fromiter(generator)) or the python sum builtin instead.\n",
      "  sum(\n",
      "C:\\Users\\katie\\AppData\\Local\\Temp\\ipykernel_1644\\4072220515.py:24: DeprecationWarning: Calling np.sum(generator) is deprecated, and in the future will give a different result. Use np.sum(np.fromiter(generator)) or the python sum builtin instead.\n",
      "  model.cons.add(sum(model.dv_nf[j,i] - model.dv_nf[i,j] for i in I_out) <= NetworkFlow_Demand.loc['Demand',j])\n",
      "C:\\Users\\katie\\AppData\\Local\\Temp\\ipykernel_1644\\4072220515.py:27: DeprecationWarning: Calling np.sum(generator) is deprecated, and in the future will give a different result. Use np.sum(np.fromiter(generator)) or the python sum builtin instead.\n",
      "  model.cons.add(sum(model.dv_nf[i,j] - model.dv_nf[j,i] for i in I_out) <= NetworkFlow_Supply.loc['Supply',j])\n"
     ]
    }
   ],
   "source": [
    "model = ConcreteModel(\"Network Flow\")\n",
    "\n",
    "I_out = NetworkFlow_Cost.index\n",
    "J_in = NetworkFlow_Cost.keys()\n",
    "\n",
    "model.dv_nf = Var(I_out,J_in,domain=NonNegativeReals)\n",
    "\n",
    "model.profit = Objective(expr = \n",
    "                         sum(\n",
    "                             NetworkFlow_AmtWillingtoPay.loc['Willing_to_Pay',j] *\n",
    "                             (model.dv_nf[j,i] - model.dv_nf[i,j]) \n",
    "                             for i in I_out for j in J_in \n",
    "                         ) - \n",
    "                         sum(\n",
    "                             model.dv_nf[i,j] *\n",
    "                             NetworkFlow_Cost.loc[i,j] \n",
    "                             for j in J_in for i in I_out\n",
    "                         ), \n",
    "                         sense = maximize)\n",
    "\n",
    "model.cons = ConstraintList()\n",
    "\n",
    "for j in J_in:\n",
    "    model.cons.add(sum(model.dv_nf[j,i] - model.dv_nf[i,j] for i in I_out) <= NetworkFlow_Demand.loc['Demand',j])\n",
    "    \n",
    "for j in J_in:\n",
    "    model.cons.add(sum(model.dv_nf[i,j] - model.dv_nf[j,i] for i in I_out) <= NetworkFlow_Supply.loc['Supply',j])\n",
    "    \n",
    "for j in J_in:\n",
    "    for i in I_out:\n",
    "        model.cons.add(model.dv_nf[i,j] <= NetworkFlow_Capacity.loc[i,j])\n",
    "        \n",
    "SolverFactory('glpk').solve(model)\n",
    "model.display()"
   ]
  }
 ],
 "metadata": {
  "kernelspec": {
   "display_name": "Python 3 (ipykernel)",
   "language": "python",
   "name": "python3"
  },
  "language_info": {
   "codemirror_mode": {
    "name": "ipython",
    "version": 3
   },
   "file_extension": ".py",
   "mimetype": "text/x-python",
   "name": "python",
   "nbconvert_exporter": "python",
   "pygments_lexer": "ipython3",
   "version": "3.11.4"
  }
 },
 "nbformat": 4,
 "nbformat_minor": 5
}
